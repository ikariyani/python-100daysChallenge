{
 "cells": [
  {
   "cell_type": "code",
   "execution_count": null,
   "id": "4a9477c9",
   "metadata": {},
   "outputs": [],
   "source": [
    "def luas_persegi(s) :\n",
    "    return s*s\n",
    "\n",
    "def volume_kubus(s) :\n",
    "    return s*s*s\n",
    "\n",
    "def kecepatan(jarak,waktu) :\n",
    "    return jarak/waktu"
   ]
  }
 ],
 "metadata": {
  "kernelspec": {
   "display_name": "Python 3 (ipykernel)",
   "language": "python",
   "name": "python3"
  },
  "language_info": {
   "codemirror_mode": {
    "name": "ipython",
    "version": 3
   },
   "file_extension": ".py",
   "mimetype": "text/x-python",
   "name": "python",
   "nbconvert_exporter": "python",
   "pygments_lexer": "ipython3",
   "version": "3.10.7"
  }
 },
 "nbformat": 4,
 "nbformat_minor": 5
}
