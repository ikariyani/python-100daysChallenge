{
 "cells": [
  {
   "cell_type": "markdown",
   "id": "c1a0e0bb",
   "metadata": {},
   "source": [
    "| <img src=\"https://upload.wikimedia.org/wikipedia/commons/f/f8/Python_logo_and_wordmark.svg\" style=\"height:100px\"> | <img src=\"https://upload.wikimedia.org/wikipedia/commons/thumb/3/31/NumPy_logo_2020.svg/2560px-NumPy_logo_2020.svg.png\" style=\"height:150px\"> |\n",
    "| --- | --- |\n",
    "\n",
    "# NUMPY - Introduction to NumPy"
   ]
  },
  {
   "cell_type": "markdown",
   "id": "916794ff",
   "metadata": {},
   "source": [
    "Setelah selesai mempelajari Basic Python, maka pada progres belajar hari ini akan melanjutkan mempelajari beberapa library utama yang ada pada Python.\n",
    "Pada Python, terdapat beberapa package yang berhubungan dengan Scientific Computing. Salah satu package tersebut adalah Numpy."
   ]
  },
  {
   "cell_type": "markdown",
   "id": "61ae0dc5",
   "metadata": {},
   "source": [
    "NumPy merupakan singkatan dari Numerical Python. NumPy merupakan salah satu library Python yang berfungsi untuk proses komputasi numerik. NumPy memiliki kemampuan untuk membuat objek N-dimensi array. Array merupakan sekumpulan variabel yang memiliki tipe data yang sama."
   ]
  },
  {
   "cell_type": "code",
   "execution_count": 5,
   "id": "54961f4d",
   "metadata": {},
   "outputs": [],
   "source": [
    "# Dalam penggunaan NumPy, hal yang pertama kali harus dilakukan adalah instal NumPy pada Jupyter Notebook seperti berikut :"
   ]
  },
  {
   "cell_type": "code",
   "execution_count": 6,
   "id": "d65bea09",
   "metadata": {},
   "outputs": [
    {
     "name": "stdout",
     "output_type": "stream",
     "text": [
      "Requirement already satisfied: numpy in d:\\belajar\\github\\python-100dayschallenge\\venv\\lib\\site-packages (1.23.3)\n"
     ]
    }
   ],
   "source": [
    "!pip install numpy"
   ]
  },
  {
   "cell_type": "code",
   "execution_count": 7,
   "id": "6ccbe70c",
   "metadata": {},
   "outputs": [],
   "source": [
    "# Setelah terinstal, maka package atau library NumPy dapat dilakukan import untuk memanggil seluruh fungsi yang ada pada NumPy"
   ]
  },
  {
   "cell_type": "code",
   "execution_count": 8,
   "id": "5975f9b5",
   "metadata": {},
   "outputs": [],
   "source": [
    "import numpy as np"
   ]
  },
  {
   "cell_type": "code",
   "execution_count": 9,
   "id": "f4fd34e5",
   "metadata": {},
   "outputs": [],
   "source": [
    "# Setelah melakukan import NumPy, maka kita bisa menggunakan NumPy untuk berbagai proses komputasi numerik seperti contoh berikut : "
   ]
  },
  {
   "cell_type": "code",
   "execution_count": 10,
   "id": "73fddf09",
   "metadata": {},
   "outputs": [
    {
     "data": {
      "text/plain": [
       "3.141592653589793"
      ]
     },
     "execution_count": 10,
     "metadata": {},
     "output_type": "execute_result"
    }
   ],
   "source": [
    "np.pi"
   ]
  },
  {
   "cell_type": "code",
   "execution_count": 12,
   "id": "245ec4d9",
   "metadata": {},
   "outputs": [
    {
     "data": {
      "text/plain": [
       "-0.4480736161291701"
      ]
     },
     "execution_count": 12,
     "metadata": {},
     "output_type": "execute_result"
    }
   ],
   "source": [
    "np.cos(90)"
   ]
  },
  {
   "cell_type": "code",
   "execution_count": 14,
   "id": "6d43164c",
   "metadata": {},
   "outputs": [
    {
     "data": {
      "text/plain": [
       "0.8939966636005579"
      ]
     },
     "execution_count": 14,
     "metadata": {},
     "output_type": "execute_result"
    }
   ],
   "source": [
    "np.sin(90)"
   ]
  },
  {
   "cell_type": "code",
   "execution_count": 15,
   "id": "d481c5c4",
   "metadata": {},
   "outputs": [],
   "source": [
    "# NumPy bisa digunakan untuk komputasi numerik dengan menggunakan data array seperti contoh berikut :"
   ]
  },
  {
   "cell_type": "code",
   "execution_count": 16,
   "id": "c83f9979",
   "metadata": {},
   "outputs": [
    {
     "data": {
      "text/plain": [
       "[1, 2, 3, 9, 8, 7]"
      ]
     },
     "execution_count": 16,
     "metadata": {},
     "output_type": "execute_result"
    }
   ],
   "source": [
    "a = [1,2,3]\n",
    "b = [9,8,7]\n",
    "\n",
    "a + b"
   ]
  },
  {
   "cell_type": "code",
   "execution_count": 18,
   "id": "62d5bdac",
   "metadata": {},
   "outputs": [
    {
     "name": "stdout",
     "output_type": "stream",
     "text": [
      "[ 2  4  6  8 10]\n"
     ]
    }
   ],
   "source": [
    "R = np.array([2,4,6,8,10])\n",
    "\n",
    "print(R)"
   ]
  },
  {
   "cell_type": "code",
   "execution_count": null,
   "id": "334ab35d",
   "metadata": {},
   "outputs": [],
   "source": []
  }
 ],
 "metadata": {
  "kernelspec": {
   "display_name": "Python 3 (ipykernel)",
   "language": "python",
   "name": "python3"
  },
  "language_info": {
   "codemirror_mode": {
    "name": "ipython",
    "version": 3
   },
   "file_extension": ".py",
   "mimetype": "text/x-python",
   "name": "python",
   "nbconvert_exporter": "python",
   "pygments_lexer": "ipython3",
   "version": "3.10.8"
  }
 },
 "nbformat": 4,
 "nbformat_minor": 5
}
