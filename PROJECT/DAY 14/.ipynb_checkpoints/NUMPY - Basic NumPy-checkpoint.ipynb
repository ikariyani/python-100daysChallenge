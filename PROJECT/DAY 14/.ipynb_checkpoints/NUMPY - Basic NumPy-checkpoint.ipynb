{
 "cells": [
  {
   "cell_type": "markdown",
   "id": "950e9373",
   "metadata": {},
   "source": [
    "| <img src=\"https://upload.wikimedia.org/wikipedia/commons/f/f8/Python_logo_and_wordmark.svg\" style=\"height:100px\"> | <img src=\"https://upload.wikimedia.org/wikipedia/commons/thumb/3/31/NumPy_logo_2020.svg/2560px-NumPy_logo_2020.svg.png\" style=\"height:150px\"> |\n",
    "| --- | --- |\n",
    "\n",
    "# NUMPY - Basic NumPy"
   ]
  },
  {
   "cell_type": "markdown",
   "id": "d40cb1db",
   "metadata": {},
   "source": [
    "### 1. IMPORT"
   ]
  },
  {
   "cell_type": "code",
   "execution_count": 1,
   "id": "85ccde17",
   "metadata": {},
   "outputs": [],
   "source": [
    "# Hal pertama yang harus dilakukan ketika akan menggunakan library NumPy adalah dengan import NumPy tersebut.\n",
    "\n",
    "import numpy as np"
   ]
  },
  {
   "cell_type": "code",
   "execution_count": 4,
   "id": "dd740e57",
   "metadata": {},
   "outputs": [
    {
     "name": "stdout",
     "output_type": "stream",
     "text": [
      "[ 1  3  5  7 11]\n"
     ]
    }
   ],
   "source": [
    "A = np.array([1,3,5,7,11])\n",
    "\n",
    "print(A)"
   ]
  },
  {
   "cell_type": "code",
   "execution_count": 5,
   "id": "182ba874",
   "metadata": {},
   "outputs": [
    {
     "name": "stdout",
     "output_type": "stream",
     "text": [
      "<class 'numpy.ndarray'>\n"
     ]
    }
   ],
   "source": [
    "print(type(A))"
   ]
  },
  {
   "cell_type": "code",
   "execution_count": 6,
   "id": "2cea505a",
   "metadata": {},
   "outputs": [
    {
     "name": "stdout",
     "output_type": "stream",
     "text": [
      "[2 4 6 8]\n"
     ]
    }
   ],
   "source": [
    "# Numpy bisa juga digunakan pada data Tuple\n",
    "\n",
    "B = np.array((2,4,6,8))\n",
    "\n",
    "print(B)"
   ]
  },
  {
   "cell_type": "markdown",
   "id": "4bc01042",
   "metadata": {},
   "source": [
    "### 2. Beberapa cara untuk membuat data List/Array"
   ]
  },
  {
   "cell_type": "markdown",
   "id": "75761217",
   "metadata": {},
   "source": [
    "#### A. Sederhana"
   ]
  },
  {
   "cell_type": "code",
   "execution_count": 25,
   "id": "d80e4144",
   "metadata": {},
   "outputs": [
    {
     "name": "stdout",
     "output_type": "stream",
     "text": [
      "[1 3 5 3 6 8 3 5 9]\n"
     ]
    }
   ],
   "source": [
    "angka = np.array([1,3,5,3,6,8,3,5,9])\n",
    "\n",
    "print(angka)"
   ]
  },
  {
   "cell_type": "markdown",
   "id": "286bfa5b",
   "metadata": {},
   "source": [
    "#### B. Range"
   ]
  },
  {
   "cell_type": "code",
   "execution_count": 26,
   "id": "e5321be3",
   "metadata": {},
   "outputs": [
    {
     "name": "stdout",
     "output_type": "stream",
     "text": [
      "[ 1  3  5  7  9 11 13]\n"
     ]
    }
   ],
   "source": [
    "Range = np.arange(1,15,2)\n",
    "\n",
    "print(Range)\n",
    "\n",
    "\n",
    "(batas bawah, batas atas,  )"
   ]
  },
  {
   "cell_type": "markdown",
   "id": "d1982bf9",
   "metadata": {},
   "source": [
    "### 3. DIMENSI PADA ARRAY"
   ]
  },
  {
   "cell_type": "markdown",
   "id": "a4b3f2b7",
   "metadata": {},
   "source": [
    "#### A. 0 DIMENSI ARRAY\n",
    "\n",
    "Setiap Value pada Array adalah Array 0-Dimensi "
   ]
  },
  {
   "cell_type": "code",
   "execution_count": 7,
   "id": "0976ccb9",
   "metadata": {},
   "outputs": [
    {
     "name": "stdout",
     "output_type": "stream",
     "text": [
      "15\n"
     ]
    }
   ],
   "source": [
    "C = np.array(15)\n",
    "\n",
    "print(C)"
   ]
  },
  {
   "cell_type": "markdown",
   "id": "757c9519",
   "metadata": {},
   "source": [
    "#### B. 1 DIMENSI ARRAY\n",
    "\n",
    "Array yang memiliki 0-Dimensi pada setiap valuenya sebagai elemen maka disebut Array 1-Dimensi. Array 1-D ini adalah array yang paling standar digunakan"
   ]
  },
  {
   "cell_type": "code",
   "execution_count": 8,
   "id": "7c72fefa",
   "metadata": {},
   "outputs": [
    {
     "name": "stdout",
     "output_type": "stream",
     "text": [
      "[1 2 3 4 5]\n"
     ]
    }
   ],
   "source": [
    "D = np.array([1,2,3,4,5])\n",
    "\n",
    "print(D)"
   ]
  },
  {
   "cell_type": "markdown",
   "id": "4d0f01d5",
   "metadata": {},
   "source": [
    "#### C. 2 DIMENSI ARRAY\n",
    "\n",
    "Array yang memiliki 1-Dimensi pada setiap valuenya sebagai elemen maka disebut Array 2-Dimensi. Biasanya disebut sebagai sebuah matriks."
   ]
  },
  {
   "cell_type": "code",
   "execution_count": 9,
   "id": "f507714b",
   "metadata": {},
   "outputs": [
    {
     "name": "stdout",
     "output_type": "stream",
     "text": [
      "[[1 2 3]\n",
      " [4 5 6]]\n"
     ]
    }
   ],
   "source": [
    "E = np.array([[1,2,3],[4,5,6]])\n",
    "\n",
    "print(E)"
   ]
  },
  {
   "cell_type": "markdown",
   "id": "13a8a29d",
   "metadata": {},
   "source": [
    "#### D. 3 DIMENSI ARRAY\n",
    "\n",
    "Array yang memiliki 2-Dimensi pada setiap valuenya (matriks) sebagai elemen maka disebut Array 3-Dimensi."
   ]
  },
  {
   "cell_type": "code",
   "execution_count": 12,
   "id": "c0f12781",
   "metadata": {},
   "outputs": [
    {
     "name": "stdout",
     "output_type": "stream",
     "text": [
      "[[[ 1  2  3]\n",
      "  [ 4  5  6]]\n",
      "\n",
      " [[ 7  8  9]\n",
      "  [10 11 12]]]\n"
     ]
    }
   ],
   "source": [
    "F = np.array([[[1,2,3],[4,5,6]],[[7,8,9],[10,11,12]]])\n",
    "\n",
    "print(F)"
   ]
  },
  {
   "cell_type": "code",
   "execution_count": 13,
   "id": "c2a2ab63",
   "metadata": {},
   "outputs": [
    {
     "name": "stdout",
     "output_type": "stream",
     "text": [
      "0\n",
      "1\n",
      "2\n",
      "3\n"
     ]
    }
   ],
   "source": [
    "# Cara untuk cek array tersebut termasuk array berapa dimensi dapat menggunakan \".ndim\"\n",
    "\n",
    "C = np.array(15)\n",
    "D = np.array([1,2,3,4,5])\n",
    "E = np.array([[1,2,3],[4,5,6]])\n",
    "F = np.array([[[1,2,3],[4,5,6]],[[7,8,9],[10,11,12]]])\n",
    "\n",
    "print(C.ndim)\n",
    "print(D.ndim)\n",
    "print(E.ndim)\n",
    "print(F.ndim)"
   ]
  },
  {
   "cell_type": "markdown",
   "id": "eea861d5",
   "metadata": {},
   "source": [
    "### 4. INDEXING"
   ]
  },
  {
   "cell_type": "markdown",
   "id": "3526e701",
   "metadata": {},
   "source": [
    "#### A. INDEXING 1 DIMENSI ARRAY"
   ]
  },
  {
   "cell_type": "code",
   "execution_count": 17,
   "id": "5b54f3af",
   "metadata": {},
   "outputs": [
    {
     "name": "stdout",
     "output_type": "stream",
     "text": [
      "1\n",
      "4\n",
      "5\n"
     ]
    }
   ],
   "source": [
    "D = np.array([1,2,3,4,5])\n",
    "\n",
    "print(D[0])\n",
    "print(D[3])\n",
    "print(D[0] + D[3])"
   ]
  },
  {
   "cell_type": "markdown",
   "id": "3a2c06cc",
   "metadata": {},
   "source": [
    "#### B. INDEXING 2 DIMENSI ARRAY"
   ]
  },
  {
   "cell_type": "code",
   "execution_count": 20,
   "id": "1b79ffd8",
   "metadata": {},
   "outputs": [
    {
     "name": "stdout",
     "output_type": "stream",
     "text": [
      "2\n",
      "6\n"
     ]
    }
   ],
   "source": [
    "E = np.array([[1,2,3],[4,5,6]])\n",
    "\n",
    "print(E[0,1])\n",
    "print(E[1,2])\n",
    "\n",
    "# [row,column]"
   ]
  },
  {
   "cell_type": "markdown",
   "id": "ab05188f",
   "metadata": {},
   "source": [
    "#### C. INDEXING 3 DIMENSI ARRAY"
   ]
  },
  {
   "cell_type": "code",
   "execution_count": 22,
   "id": "efe3f4b3",
   "metadata": {},
   "outputs": [
    {
     "name": "stdout",
     "output_type": "stream",
     "text": [
      "5\n",
      "7\n"
     ]
    }
   ],
   "source": [
    "F = np.array([[[1,2,3],[4,5,6]],[[7,8,9],[10,11,12]]])\n",
    "\n",
    "print(F[0,1,1])\n",
    "print(F[1,0,0])\n",
    "\n",
    "# [array-,row,column]"
   ]
  },
  {
   "cell_type": "markdown",
   "id": "fe64fad0",
   "metadata": {},
   "source": [
    "#### D. NEGATIVE INDEXING"
   ]
  },
  {
   "cell_type": "code",
   "execution_count": 24,
   "id": "0dd80d2e",
   "metadata": {},
   "outputs": [
    {
     "name": "stdout",
     "output_type": "stream",
     "text": [
      "3\n",
      "6\n"
     ]
    }
   ],
   "source": [
    "# Negative Indexing untuk mengakses elemen yang paling akhir setiap array\n",
    "\n",
    "E = np.array([[1,2,3],[4,5,6]])\n",
    "\n",
    "print(E[0,-1])\n",
    "print(E[1,-1])"
   ]
  },
  {
   "cell_type": "code",
   "execution_count": null,
   "id": "4a4a41dc",
   "metadata": {},
   "outputs": [],
   "source": []
  }
 ],
 "metadata": {
  "kernelspec": {
   "display_name": "Python 3 (ipykernel)",
   "language": "python",
   "name": "python3"
  },
  "language_info": {
   "codemirror_mode": {
    "name": "ipython",
    "version": 3
   },
   "file_extension": ".py",
   "mimetype": "text/x-python",
   "name": "python",
   "nbconvert_exporter": "python",
   "pygments_lexer": "ipython3",
   "version": "3.10.7"
  }
 },
 "nbformat": 4,
 "nbformat_minor": 5
}
