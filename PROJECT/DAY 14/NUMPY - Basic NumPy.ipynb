{
 "cells": [
  {
   "cell_type": "markdown",
   "id": "950e9373",
   "metadata": {},
   "source": [
    "| <img src=\"https://upload.wikimedia.org/wikipedia/commons/f/f8/Python_logo_and_wordmark.svg\" style=\"height:100px\"> | <img src=\"https://upload.wikimedia.org/wikipedia/commons/thumb/3/31/NumPy_logo_2020.svg/2560px-NumPy_logo_2020.svg.png\" style=\"height:150px\"> |\n",
    "| --- | --- |\n",
    "\n",
    "# NUMPY - Basic NumPy"
   ]
  },
  {
   "cell_type": "markdown",
   "id": "2ca7e074",
   "metadata": {},
   "source": [
    "### 1. IMPORT"
   ]
  },
  {
   "cell_type": "code",
   "execution_count": 1,
   "id": "90bc81e1",
   "metadata": {},
   "outputs": [],
   "source": [
    "# Hal pertama yang harus dilakukan ketika akan menggunakan library NumPy adalah dengan import NumPy tersebut.\n",
    "\n",
    "import numpy as np"
   ]
  },
  {
   "cell_type": "code",
   "execution_count": 4,
   "id": "9c96c37a",
   "metadata": {},
   "outputs": [
    {
     "name": "stdout",
     "output_type": "stream",
     "text": [
      "[ 1  3  5  7 11]\n"
     ]
    }
   ],
   "source": [
    "A = np.array([1,3,5,7,11])\n",
    "\n",
    "print(A)"
   ]
  },
  {
   "cell_type": "code",
   "execution_count": 5,
   "id": "d806994c",
   "metadata": {},
   "outputs": [
    {
     "name": "stdout",
     "output_type": "stream",
     "text": [
      "<class 'numpy.ndarray'>\n"
     ]
    }
   ],
   "source": [
    "print(type(A))"
   ]
  },
  {
   "cell_type": "code",
   "execution_count": 6,
   "id": "ef3abeac",
   "metadata": {},
   "outputs": [
    {
     "name": "stdout",
     "output_type": "stream",
     "text": [
      "[2 4 6 8]\n"
     ]
    }
   ],
   "source": [
    "# Numpy bisa juga digunakan pada data Tuple\n",
    "\n",
    "B = np.array((2,4,6,8))\n",
    "\n",
    "print(B)"
   ]
  },
  {
   "cell_type": "markdown",
   "id": "c3ae2b92",
   "metadata": {},
   "source": [
    "### 2. Beberapa cara untuk membuat data List/Array"
   ]
  },
  {
   "cell_type": "markdown",
   "id": "412d6067",
   "metadata": {},
   "source": [
    "#### A. Sederhana"
   ]
  },
  {
   "cell_type": "code",
   "execution_count": 25,
   "id": "d7a3f644",
   "metadata": {},
   "outputs": [
    {
     "name": "stdout",
     "output_type": "stream",
     "text": [
      "[1 3 5 3 6 8 3 5 9]\n"
     ]
    }
   ],
   "source": [
    "angka = np.array([1,3,5,3,6,8,3,5,9])\n",
    "\n",
    "print(angka)"
   ]
  },
  {
   "cell_type": "markdown",
   "id": "9e1c5407",
   "metadata": {},
   "source": [
    "#### B. Range"
   ]
  },
  {
   "cell_type": "code",
   "execution_count": 28,
   "id": "f76bdee8",
   "metadata": {},
   "outputs": [
    {
     "name": "stdout",
     "output_type": "stream",
     "text": [
      "[ 1  3  5  7  9 11 13]\n"
     ]
    }
   ],
   "source": [
    "Range = np.arange(1,15,2)\n",
    "\n",
    "print(Range)\n",
    "\n",
    "\n",
    "# (batas bawah, batas atas, jarak antar angka)"
   ]
  },
  {
   "cell_type": "markdown",
   "id": "63f8803e",
   "metadata": {},
   "source": [
    "#### C. Linear Space/Linspace"
   ]
  },
  {
   "cell_type": "code",
   "execution_count": 31,
   "id": "26727168",
   "metadata": {},
   "outputs": [
    {
     "name": "stdout",
     "output_type": "stream",
     "text": [
      "[ 1.   4.5  8.  11.5 15. ]\n"
     ]
    }
   ],
   "source": [
    "# Melalui Linspace, array dapat ditentukan akan menjadi berapa bagian\n",
    "\n",
    "\n",
    "LP = np.linspace(1,15,5)\n",
    "\n",
    "print(LP)\n",
    "\n",
    "# (batas bawah, batas atas, berapa bagian)"
   ]
  },
  {
   "cell_type": "markdown",
   "id": "bfecfcbd",
   "metadata": {},
   "source": [
    "### 3. DIMENSI PADA ARRAY"
   ]
  },
  {
   "cell_type": "markdown",
   "id": "d7f177d0",
   "metadata": {},
   "source": [
    "#### A. 0 DIMENSI ARRAY\n",
    "\n",
    "Setiap Value pada Array adalah Array 0-Dimensi "
   ]
  },
  {
   "cell_type": "code",
   "execution_count": 7,
   "id": "2c0e7f1a",
   "metadata": {},
   "outputs": [
    {
     "name": "stdout",
     "output_type": "stream",
     "text": [
      "15\n"
     ]
    }
   ],
   "source": [
    "C = np.array(15)\n",
    "\n",
    "print(C)"
   ]
  },
  {
   "cell_type": "markdown",
   "id": "0e218a75",
   "metadata": {},
   "source": [
    "#### B. 1 DIMENSI ARRAY\n",
    "\n",
    "Array yang memiliki 0-Dimensi pada setiap valuenya sebagai elemen maka disebut Array 1-Dimensi. Array 1-D ini adalah array yang paling standar digunakan"
   ]
  },
  {
   "cell_type": "code",
   "execution_count": 8,
   "id": "9035ae33",
   "metadata": {},
   "outputs": [
    {
     "name": "stdout",
     "output_type": "stream",
     "text": [
      "[1 2 3 4 5]\n"
     ]
    }
   ],
   "source": [
    "D = np.array([1,2,3,4,5])\n",
    "\n",
    "print(D)"
   ]
  },
  {
   "cell_type": "markdown",
   "id": "b88fafcc",
   "metadata": {},
   "source": [
    "#### C. 2 DIMENSI ARRAY\n",
    "\n",
    "Array yang memiliki 1-Dimensi pada setiap valuenya sebagai elemen maka disebut Array 2-Dimensi. Biasanya disebut sebagai sebuah matriks."
   ]
  },
  {
   "cell_type": "code",
   "execution_count": 9,
   "id": "e3cc8926",
   "metadata": {},
   "outputs": [
    {
     "name": "stdout",
     "output_type": "stream",
     "text": [
      "[[1 2 3]\n",
      " [4 5 6]]\n"
     ]
    }
   ],
   "source": [
    "E = np.array([[1,2,3],[4,5,6]])\n",
    "\n",
    "print(E)"
   ]
  },
  {
   "cell_type": "markdown",
   "id": "a78ab894",
   "metadata": {},
   "source": [
    "#### D. 3 DIMENSI ARRAY\n",
    "\n",
    "Array yang memiliki 2-Dimensi pada setiap valuenya (matriks) sebagai elemen maka disebut Array 3-Dimensi."
   ]
  },
  {
   "cell_type": "code",
   "execution_count": 12,
   "id": "7772301d",
   "metadata": {},
   "outputs": [
    {
     "name": "stdout",
     "output_type": "stream",
     "text": [
      "[[[ 1  2  3]\n",
      "  [ 4  5  6]]\n",
      "\n",
      " [[ 7  8  9]\n",
      "  [10 11 12]]]\n"
     ]
    }
   ],
   "source": [
    "F = np.array([[[1,2,3],[4,5,6]],[[7,8,9],[10,11,12]]])\n",
    "\n",
    "print(F)"
   ]
  },
  {
   "cell_type": "code",
   "execution_count": 13,
   "id": "3846cf37",
   "metadata": {},
   "outputs": [
    {
     "name": "stdout",
     "output_type": "stream",
     "text": [
      "0\n",
      "1\n",
      "2\n",
      "3\n"
     ]
    }
   ],
   "source": [
    "# Cara untuk cek array tersebut termasuk array berapa dimensi dapat menggunakan \".ndim\"\n",
    "\n",
    "C = np.array(15)\n",
    "D = np.array([1,2,3,4,5])\n",
    "E = np.array([[1,2,3],[4,5,6]])\n",
    "F = np.array([[[1,2,3],[4,5,6]],[[7,8,9],[10,11,12]]])\n",
    "\n",
    "print(C.ndim)\n",
    "print(D.ndim)\n",
    "print(E.ndim)\n",
    "print(F.ndim)"
   ]
  },
  {
   "cell_type": "markdown",
   "id": "f1f7b0e4",
   "metadata": {},
   "source": [
    "### 4. INDEXING"
   ]
  },
  {
   "cell_type": "markdown",
   "id": "57fbaad6",
   "metadata": {},
   "source": [
    "#### A. INDEXING 1 DIMENSI ARRAY"
   ]
  },
  {
   "cell_type": "code",
   "execution_count": 17,
   "id": "f6b19f27",
   "metadata": {},
   "outputs": [
    {
     "name": "stdout",
     "output_type": "stream",
     "text": [
      "1\n",
      "4\n",
      "5\n"
     ]
    }
   ],
   "source": [
    "D = np.array([1,2,3,4,5])\n",
    "\n",
    "print(D[0])\n",
    "print(D[3])\n",
    "print(D[0] + D[3])"
   ]
  },
  {
   "cell_type": "markdown",
   "id": "1a57cfb1",
   "metadata": {},
   "source": [
    "#### B. INDEXING 2 DIMENSI ARRAY"
   ]
  },
  {
   "cell_type": "code",
   "execution_count": 20,
   "id": "40962861",
   "metadata": {},
   "outputs": [
    {
     "name": "stdout",
     "output_type": "stream",
     "text": [
      "2\n",
      "6\n"
     ]
    }
   ],
   "source": [
    "E = np.array([[1,2,3],[4,5,6]])\n",
    "\n",
    "print(E[0,1])\n",
    "print(E[1,2])\n",
    "\n",
    "# [row,column]"
   ]
  },
  {
   "cell_type": "markdown",
   "id": "0d438c21",
   "metadata": {},
   "source": [
    "#### C. INDEXING 3 DIMENSI ARRAY"
   ]
  },
  {
   "cell_type": "code",
   "execution_count": 22,
   "id": "c4de191d",
   "metadata": {},
   "outputs": [
    {
     "name": "stdout",
     "output_type": "stream",
     "text": [
      "5\n",
      "7\n"
     ]
    }
   ],
   "source": [
    "F = np.array([[[1,2,3],[4,5,6]],[[7,8,9],[10,11,12]]])\n",
    "\n",
    "print(F[0,1,1])\n",
    "print(F[1,0,0])\n",
    "\n",
    "# [array-,row,column]"
   ]
  },
  {
   "cell_type": "markdown",
   "id": "e03ec73f",
   "metadata": {},
   "source": [
    "#### D. NEGATIVE INDEXING"
   ]
  },
  {
   "cell_type": "code",
   "execution_count": 24,
   "id": "33b02a88",
   "metadata": {},
   "outputs": [
    {
     "name": "stdout",
     "output_type": "stream",
     "text": [
      "3\n",
      "6\n"
     ]
    }
   ],
   "source": [
    "# Negative Indexing untuk mengakses elemen yang paling akhir setiap array\n",
    "\n",
    "E = np.array([[1,2,3],[4,5,6]])\n",
    "\n",
    "print(E[0,-1])\n",
    "print(E[1,-1])"
   ]
  },
  {
   "cell_type": "code",
   "execution_count": null,
   "id": "61cef64d",
   "metadata": {},
   "outputs": [],
   "source": []
  }
 ],
 "metadata": {
  "kernelspec": {
   "display_name": "Python 3 (ipykernel)",
   "language": "python",
   "name": "python3"
  },
  "language_info": {
   "codemirror_mode": {
    "name": "ipython",
    "version": 3
   },
   "file_extension": ".py",
   "mimetype": "text/x-python",
   "name": "python",
   "nbconvert_exporter": "python",
   "pygments_lexer": "ipython3",
   "version": "3.10.8"
  }
 },
 "nbformat": 4,
 "nbformat_minor": 5
}
