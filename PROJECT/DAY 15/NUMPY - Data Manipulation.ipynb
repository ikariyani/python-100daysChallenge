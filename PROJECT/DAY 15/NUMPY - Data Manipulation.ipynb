{
 "cells": [
  {
   "cell_type": "markdown",
   "id": "a5b2ef54",
   "metadata": {},
   "source": [
    "| <img src=\"https://upload.wikimedia.org/wikipedia/commons/f/f8/Python_logo_and_wordmark.svg\" style=\"height:100px\"> | <img src=\"https://upload.wikimedia.org/wikipedia/commons/thumb/3/31/NumPy_logo_2020.svg/2560px-NumPy_logo_2020.svg.png\" style=\"height:150px\"> |\n",
    "| --- | --- |\n",
    "\n",
    "# NUMPY - Data Manipulation"
   ]
  },
  {
   "cell_type": "code",
   "execution_count": 1,
   "id": "ad9284ce",
   "metadata": {},
   "outputs": [],
   "source": [
    "import numpy as np"
   ]
  },
  {
   "cell_type": "markdown",
   "id": "31cf94be",
   "metadata": {},
   "source": [
    "## 1. Slicing Array\n"
   ]
  },
  {
   "cell_type": "markdown",
   "id": "2774c50b",
   "metadata": {},
   "source": [
    "### A. Slicing 1-D Array"
   ]
  },
  {
   "cell_type": "code",
   "execution_count": 6,
   "id": "ee1dec47",
   "metadata": {},
   "outputs": [
    {
     "name": "stdout",
     "output_type": "stream",
     "text": [
      "[2 3 4 5]\n",
      "[3 4]\n",
      "[4 5]\n",
      "[1 2 3]\n"
     ]
    }
   ],
   "source": [
    "# Slicing merupakan salah satu cara untuk mengambil lebih dari 1 value pada data array\n",
    "\n",
    "D = np.array([1,2,3,4,5])\n",
    "\n",
    "print(D[1:5])\n",
    "print(D[2:4])\n",
    "print(D[3:])\n",
    "print(D[:3])\n",
    "\n",
    "# [data ke- : data ke-]"
   ]
  },
  {
   "cell_type": "markdown",
   "id": "5933679c",
   "metadata": {},
   "source": [
    "### B. Slicing 2-D Array"
   ]
  },
  {
   "cell_type": "code",
   "execution_count": 14,
   "id": "42a2e5f0",
   "metadata": {},
   "outputs": [
    {
     "name": "stdout",
     "output_type": "stream",
     "text": [
      "[4 5 6]\n",
      "[2 3]\n"
     ]
    }
   ],
   "source": [
    "E = np.array([[1,2,3],[4,5,6]])\n",
    "\n",
    "print(E[1, 0:3])\n",
    "print(E[0, 1:3])\n",
    "\n",
    "# [array ke-, data ke- : data ke-]"
   ]
  },
  {
   "cell_type": "code",
   "execution_count": 20,
   "id": "0ade0261",
   "metadata": {},
   "outputs": [
    {
     "name": "stdout",
     "output_type": "stream",
     "text": [
      "[3 6]\n",
      "[2 5]\n",
      "[1 4]\n"
     ]
    }
   ],
   "source": [
    "# Mengambil index elemen yang sama pada kedua array\n",
    "\n",
    "print(E[0:2, 2])\n",
    "print(E[0:2, 1])\n",
    "print(E[0:2, 0])"
   ]
  },
  {
   "cell_type": "markdown",
   "id": "698184cb",
   "metadata": {},
   "source": [
    "### C. Slicing 3-D Array"
   ]
  },
  {
   "cell_type": "code",
   "execution_count": 28,
   "id": "0934b91b",
   "metadata": {},
   "outputs": [
    {
     "name": "stdout",
     "output_type": "stream",
     "text": [
      "[[[ 1  2  3]\n",
      "  [ 4  5  6]]\n",
      "\n",
      " [[ 7  8  9]\n",
      "  [10 11 12]]]\n"
     ]
    }
   ],
   "source": [
    "F = np.array([[[1,2,3],[4,5,6]],[[7,8,9],[10,11,12]]])\n",
    "\n",
    "print(F)"
   ]
  },
  {
   "cell_type": "code",
   "execution_count": 30,
   "id": "75640de6",
   "metadata": {},
   "outputs": [
    {
     "name": "stdout",
     "output_type": "stream",
     "text": [
      "9\n",
      "4\n"
     ]
    }
   ],
   "source": [
    "print(F[1,0,2])\n",
    "print(F[0,1,0])\n",
    "\n",
    "# [array ke- , row, column]"
   ]
  },
  {
   "cell_type": "markdown",
   "id": "ea09bb5a",
   "metadata": {},
   "source": [
    "## 2. Mengubah Nilai Data\n",
    "\n",
    "Setiap elemen yang terdapat pada array dapat dimanipulasi dengan mengubah data tersebut"
   ]
  },
  {
   "cell_type": "markdown",
   "id": "e29f63a4",
   "metadata": {},
   "source": [
    "### A. Mengubah Nilai pada 1-D Array"
   ]
  },
  {
   "cell_type": "code",
   "execution_count": 35,
   "id": "fffda8e0",
   "metadata": {},
   "outputs": [
    {
     "name": "stdout",
     "output_type": "stream",
     "text": [
      "[1 2 3 4 5]\n"
     ]
    }
   ],
   "source": [
    "# Hal pertama yang dilakukan adalah dengan mengakses data yang akan diubah\n",
    "# Setelah data didapatkan, maka data tersebut dapat diubah nilainya\n",
    "\n",
    "D = np.array([1,2,3,4,5])\n",
    "\n",
    "print(D)"
   ]
  },
  {
   "cell_type": "code",
   "execution_count": 37,
   "id": "c61d8b12",
   "metadata": {},
   "outputs": [
    {
     "name": "stdout",
     "output_type": "stream",
     "text": [
      "[ 1  2 12  4 20]\n"
     ]
    }
   ],
   "source": [
    "D[2] = 12\n",
    "D[4] = 20\n",
    "\n",
    "print(D)"
   ]
  },
  {
   "cell_type": "markdown",
   "id": "06af0ee7",
   "metadata": {},
   "source": [
    "### B. Mengubah Nilai pada 2-D Array"
   ]
  },
  {
   "cell_type": "code",
   "execution_count": 32,
   "id": "9ce0a2de",
   "metadata": {},
   "outputs": [
    {
     "name": "stdout",
     "output_type": "stream",
     "text": [
      "[[1 2 3]\n",
      " [4 5 6]]\n"
     ]
    }
   ],
   "source": [
    "E = np.array([[1,2,3],[4,5,6]])\n",
    "\n",
    "print(E)"
   ]
  },
  {
   "cell_type": "code",
   "execution_count": 33,
   "id": "f0d086a0",
   "metadata": {},
   "outputs": [
    {
     "name": "stdout",
     "output_type": "stream",
     "text": [
      "[[ 1  2 10]\n",
      " [ 4 20  6]]\n"
     ]
    }
   ],
   "source": [
    "E[0,2] = 10\n",
    "E[1,1] = 20\n",
    "\n",
    "print(E)"
   ]
  },
  {
   "cell_type": "code",
   "execution_count": 27,
   "id": "0f48e919",
   "metadata": {},
   "outputs": [
    {
     "name": "stdout",
     "output_type": "stream",
     "text": [
      "[[50  2 10]\n",
      " [50 20  6]]\n"
     ]
    }
   ],
   "source": [
    "E = np.array([[1,2,3],[4,5,6]])\n",
    "\n",
    "E[0,2] = 10\n",
    "E[1,1] = 20\n",
    "E[: , 0] = [50,50]\n",
    "\n",
    "print(E)"
   ]
  },
  {
   "cell_type": "markdown",
   "id": "d05214d0",
   "metadata": {},
   "source": [
    "### C. Mengubah Nilai pada 3-D Array"
   ]
  },
  {
   "cell_type": "code",
   "execution_count": 31,
   "id": "8912b1f2",
   "metadata": {},
   "outputs": [
    {
     "name": "stdout",
     "output_type": "stream",
     "text": [
      "[[[ 1  2  3]\n",
      "  [ 4  5  6]]\n",
      "\n",
      " [[ 7  8  9]\n",
      "  [10 11 12]]]\n"
     ]
    }
   ],
   "source": [
    "F = np.array([[[1,2,3],[4,5,6]],[[7,8,9],[10,11,12]]])\n",
    "\n",
    "print(F)"
   ]
  },
  {
   "cell_type": "code",
   "execution_count": 39,
   "id": "99707da2",
   "metadata": {},
   "outputs": [
    {
     "name": "stdout",
     "output_type": "stream",
     "text": [
      "[[[  1   2 150]\n",
      "  [  4   5   6]]\n",
      "\n",
      " [[ 70   8   9]\n",
      "  [ 10  11  12]]]\n"
     ]
    }
   ],
   "source": [
    "F[0,0,2] = 150\n",
    "F[1,0,0] = 70\n",
    "\n",
    "print(F)"
   ]
  },
  {
   "cell_type": "code",
   "execution_count": 40,
   "id": "bb4f2d5b",
   "metadata": {},
   "outputs": [
    {
     "name": "stdout",
     "output_type": "stream",
     "text": [
      "[[[  1   2 150]\n",
      "  [  4  50  50]]\n",
      "\n",
      " [[ 70   8   9]\n",
      "  [ 10  50  50]]]\n"
     ]
    }
   ],
   "source": [
    "F[0,0,2] = 150\n",
    "F[1,0,0] = 70\n",
    "F[:,1,1:] = [50,50]\n",
    "\n",
    "print(F)"
   ]
  },
  {
   "cell_type": "code",
   "execution_count": null,
   "id": "137189c0",
   "metadata": {},
   "outputs": [],
   "source": []
  }
 ],
 "metadata": {
  "kernelspec": {
   "display_name": "Python 3 (ipykernel)",
   "language": "python",
   "name": "python3"
  },
  "language_info": {
   "codemirror_mode": {
    "name": "ipython",
    "version": 3
   },
   "file_extension": ".py",
   "mimetype": "text/x-python",
   "name": "python",
   "nbconvert_exporter": "python",
   "pygments_lexer": "ipython3",
   "version": "3.10.8"
  }
 },
 "nbformat": 4,
 "nbformat_minor": 5
}
