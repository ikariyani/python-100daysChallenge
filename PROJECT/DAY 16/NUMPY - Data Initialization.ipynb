{
 "cells": [
  {
   "cell_type": "markdown",
   "id": "873a912c",
   "metadata": {},
   "source": [
    "| <img src=\"https://upload.wikimedia.org/wikipedia/commons/f/f8/Python_logo_and_wordmark.svg\" style=\"height:100px\"> | <img src=\"https://upload.wikimedia.org/wikipedia/commons/thumb/3/31/NumPy_logo_2020.svg/2560px-NumPy_logo_2020.svg.png\" style=\"height:150px\"> |\n",
    "| --- | --- |\n",
    "\n",
    "\n",
    "# NUMPY - Data Initialization"
   ]
  },
  {
   "cell_type": "code",
   "execution_count": 2,
   "id": "3d78f3d3",
   "metadata": {},
   "outputs": [],
   "source": [
    "import numpy as np"
   ]
  },
  {
   "cell_type": "markdown",
   "id": "d3baf2a5",
   "metadata": {},
   "source": [
    "## 1. Array From Values\n",
    "\n"
   ]
  },
  {
   "cell_type": "code",
   "execution_count": 8,
   "id": "5e36312d",
   "metadata": {},
   "outputs": [
    {
     "name": "stdout",
     "output_type": "stream",
     "text": [
      "[1 4 6 8 3 5 7 9 3]\n"
     ]
    }
   ],
   "source": [
    "# Untuk membuat sebuah array, cara yang pertama yaitu dengan membuat values yang akan dijadikan elemen dalam sebuah array\n",
    "# Rumus : Variabel = np.array([value, value, value, dst...])\n",
    "\n",
    "A = np.array([1,4,6,8,3,5,7,9,3])\n",
    "\n",
    "print(A)"
   ]
  },
  {
   "cell_type": "code",
   "execution_count": 6,
   "id": "ab613310",
   "metadata": {},
   "outputs": [
    {
     "name": "stdout",
     "output_type": "stream",
     "text": [
      "[[1 2 3]\n",
      " [4 5 6]]\n"
     ]
    }
   ],
   "source": [
    "B = np.array([[1,2,3],[4,5,6]])\n",
    "\n",
    "print(B)"
   ]
  },
  {
   "cell_type": "code",
   "execution_count": 7,
   "id": "9e7773f4",
   "metadata": {},
   "outputs": [
    {
     "name": "stdout",
     "output_type": "stream",
     "text": [
      "[[[ 1  2  3]\n",
      "  [ 4  5  6]]\n",
      "\n",
      " [[ 7  8  9]\n",
      "  [10 11 12]]]\n"
     ]
    }
   ],
   "source": [
    "C = np.array([[[1,2,3],[4,5,6]],[[7,8,9],[10,11,12]]])\n",
    "\n",
    "print(C)"
   ]
  },
  {
   "cell_type": "markdown",
   "id": "b78c6aa9",
   "metadata": {},
   "source": [
    "## 2. Array From Python List (or Tuple)\n",
    "\n"
   ]
  },
  {
   "cell_type": "code",
   "execution_count": 9,
   "id": "808ab174",
   "metadata": {},
   "outputs": [
    {
     "name": "stdout",
     "output_type": "stream",
     "text": [
      "[1 4 6 8 3 5 7 9 3]\n"
     ]
    }
   ],
   "source": [
    "# Data List dapat dijadikan array, menggunakan cara sebagai berikut :\n",
    "# Rumus : Variabel = np.array(list)\n",
    "\n",
    "A = [1,4,6,8,3,5,7,9,3]\n",
    "Array_A = np.asarray(A)\n",
    "\n",
    "print(Array_A)"
   ]
  },
  {
   "cell_type": "code",
   "execution_count": 10,
   "id": "ced76798",
   "metadata": {},
   "outputs": [
    {
     "name": "stdout",
     "output_type": "stream",
     "text": [
      "[[1 2 3]\n",
      " [4 5 6]]\n"
     ]
    }
   ],
   "source": [
    "B = [1,2,3],[4,5,6]\n",
    "Array_B = np.asarray(B)\n",
    "\n",
    "print(Array_B)"
   ]
  },
  {
   "cell_type": "code",
   "execution_count": 12,
   "id": "0e78a731",
   "metadata": {},
   "outputs": [
    {
     "name": "stdout",
     "output_type": "stream",
     "text": [
      "[[[ 1  2  3]\n",
      "  [ 4  5  6]]\n",
      "\n",
      " [[ 7  8  9]\n",
      "  [10 11 12]]]\n"
     ]
    }
   ],
   "source": [
    "C = [[[1,2,3],[4,5,6]],[[7,8,9],[10,11,12]]]\n",
    "Array_C = np.asarray(C)\n",
    "                      \n",
    "print(Array_C)"
   ]
  },
  {
   "cell_type": "markdown",
   "id": "091f9cc7",
   "metadata": {},
   "source": [
    "## 3. Empty Array"
   ]
  },
  {
   "cell_type": "code",
   "execution_count": 27,
   "id": "2e7e3bcb",
   "metadata": {},
   "outputs": [
    {
     "name": "stdout",
     "output_type": "stream",
     "text": [
      "[[6.23042070e-307 2.00272265e-307 2.89270636e-307 2.55899112e-307\n",
      "  4.67289956e-307]\n",
      " [2.22522597e-306 1.33511969e-306 8.90070286e-308 1.69122046e-306\n",
      "  1.24610723e-306]\n",
      " [1.02360867e-306 9.34611148e-307 1.24610383e-306 1.69118108e-306\n",
      "  8.06632139e-308]\n",
      " [1.20160711e-306 1.69119330e-306 1.29062229e-306 1.24604136e-306\n",
      "  1.39067116e-308]]\n"
     ]
    }
   ],
   "source": [
    "# Apabila tidak memiliki nilai yang akan dijadikan array, maka bisa menggunakan empty array\n",
    "# Rumus : Variabel = np.empty(row, column)\n",
    "\n",
    "D = np.empty((4,5))\n",
    "\n",
    "print(Array_D)"
   ]
  },
  {
   "cell_type": "code",
   "execution_count": 18,
   "id": "475787ee",
   "metadata": {},
   "outputs": [
    {
     "name": "stdout",
     "output_type": "stream",
     "text": [
      "[[6.23042070e-307 4.67296746e-307 1.69121096e-306 6.23047842e-307\n",
      "  2.22522597e-306]\n",
      " [1.33511969e-306 1.37962320e-306 9.34604358e-307 9.79101082e-307\n",
      "  1.78020576e-306]\n",
      " [1.69119873e-306 2.22522868e-306 1.24611809e-306 8.06632139e-308\n",
      "  1.60221208e-306]]\n"
     ]
    }
   ],
   "source": [
    "E = (3,5)\n",
    "Array_E = np.empty(E)\n",
    "\n",
    "print(Array_E)"
   ]
  },
  {
   "cell_type": "markdown",
   "id": "d2d27417",
   "metadata": {},
   "source": [
    "## 4. Array of Ones"
   ]
  },
  {
   "cell_type": "code",
   "execution_count": 19,
   "id": "da7febdf",
   "metadata": {},
   "outputs": [
    {
     "name": "stdout",
     "output_type": "stream",
     "text": [
      "[1. 1. 1. 1. 1. 1.]\n"
     ]
    }
   ],
   "source": [
    "# Dengan \"Ones\" maka setiap value yang ada pada array akan bernilai \"1\"\n",
    "# Rumus : Variabel = np.ones(column)\n",
    "\n",
    "F = np.ones(6)\n",
    "\n",
    "print(F)"
   ]
  },
  {
   "cell_type": "code",
   "execution_count": 21,
   "id": "744c1dd9",
   "metadata": {},
   "outputs": [
    {
     "name": "stdout",
     "output_type": "stream",
     "text": [
      "[[1. 1. 1. 1. 1.]\n",
      " [1. 1. 1. 1. 1.]\n",
      " [1. 1. 1. 1. 1.]\n",
      " [1. 1. 1. 1. 1.]]\n"
     ]
    }
   ],
   "source": [
    "G = np.ones((4,5))\n",
    "\n",
    "print(G)"
   ]
  },
  {
   "cell_type": "markdown",
   "id": "4a66d838",
   "metadata": {},
   "source": [
    "## 5. Array of Zeros"
   ]
  },
  {
   "cell_type": "code",
   "execution_count": 22,
   "id": "7fa49d8e",
   "metadata": {},
   "outputs": [
    {
     "name": "stdout",
     "output_type": "stream",
     "text": [
      "[0. 0. 0. 0. 0.]\n"
     ]
    }
   ],
   "source": [
    "# Dengan \"Zeros\" maka setiap value yang ada pada array akan bernilai \"0\"\n",
    "# Rumus : Variabel = np.zeros(column)\n",
    "\n",
    "H = np.zeros(5)\n",
    "\n",
    "print(H)"
   ]
  },
  {
   "cell_type": "code",
   "execution_count": 24,
   "id": "1ae63af3",
   "metadata": {},
   "outputs": [
    {
     "name": "stdout",
     "output_type": "stream",
     "text": [
      "[[0. 0. 0. 0. 0. 0. 0.]\n",
      " [0. 0. 0. 0. 0. 0. 0.]\n",
      " [0. 0. 0. 0. 0. 0. 0.]\n",
      " [0. 0. 0. 0. 0. 0. 0.]\n",
      " [0. 0. 0. 0. 0. 0. 0.]\n",
      " [0. 0. 0. 0. 0. 0. 0.]\n",
      " [0. 0. 0. 0. 0. 0. 0.]]\n"
     ]
    }
   ],
   "source": [
    "I = np.zeros((7,7))\n",
    "\n",
    "print(I)"
   ]
  },
  {
   "cell_type": "markdown",
   "id": "242e45a0",
   "metadata": {},
   "source": [
    "## 6. Array of Any Value"
   ]
  },
  {
   "cell_type": "code",
   "execution_count": 25,
   "id": "253a2e75",
   "metadata": {},
   "outputs": [
    {
     "name": "stdout",
     "output_type": "stream",
     "text": [
      "[[15 15 15 15]\n",
      " [15 15 15 15]\n",
      " [15 15 15 15]\n",
      " [15 15 15 15]]\n"
     ]
    }
   ],
   "source": [
    "# Value dalam array bisa ditentukan nilainya dengan cara sebagai berikut :\n",
    "# Rumus : Variabel = np.full((row, column), value)\n",
    "\n",
    "J = np.full((4,4), 15)\n",
    "\n",
    "print(J)"
   ]
  },
  {
   "cell_type": "code",
   "execution_count": 28,
   "id": "311ac558",
   "metadata": {},
   "outputs": [
    {
     "name": "stdout",
     "output_type": "stream",
     "text": [
      "[[50 50 50 50 50]\n",
      " [50 50 50 50 50]\n",
      " [50 50 50 50 50]]\n"
     ]
    }
   ],
   "source": [
    "K = np.full((3,5), 50)\n",
    "\n",
    "print(K)"
   ]
  },
  {
   "cell_type": "markdown",
   "id": "583773eb",
   "metadata": {},
   "source": [
    "## 7. Copy an Array"
   ]
  },
  {
   "cell_type": "code",
   "execution_count": 29,
   "id": "5769cfae",
   "metadata": {},
   "outputs": [
    {
     "name": "stdout",
     "output_type": "stream",
     "text": [
      "[1 4 6 8 3 5 7 9 3]\n"
     ]
    }
   ],
   "source": [
    "# Value dalam array dapat disalin dari array yang sudah ada\n",
    "# Rumus : Variabel = np.copy(variabel array yang sudah ada)\n",
    "\n",
    "L = np.copy(A)\n",
    "\n",
    "print(L)"
   ]
  },
  {
   "cell_type": "code",
   "execution_count": 30,
   "id": "03abb5a8",
   "metadata": {},
   "outputs": [
    {
     "name": "stdout",
     "output_type": "stream",
     "text": [
      "[[[ 1  2  3]\n",
      "  [ 4  5  6]]\n",
      "\n",
      " [[ 7  8  9]\n",
      "  [10 11 12]]]\n"
     ]
    }
   ],
   "source": [
    "M = np.copy(C)\n",
    "\n",
    "print(M)"
   ]
  },
  {
   "cell_type": "markdown",
   "id": "fe7feeb1",
   "metadata": {},
   "source": [
    "## 8. Sequential or Evenly Spaced Values\n",
    "\n",
    "Ada beberapa cara untuk membuat array nilai berurutan atau berjarak sama dengan numpy."
   ]
  },
  {
   "cell_type": "markdown",
   "id": "23a2191c",
   "metadata": {},
   "source": [
    "### A. Numpy.Arange"
   ]
  },
  {
   "cell_type": "code",
   "execution_count": 31,
   "id": "8a38a595",
   "metadata": {},
   "outputs": [
    {
     "name": "stdout",
     "output_type": "stream",
     "text": [
      "[0 1 2 3 4]\n"
     ]
    }
   ],
   "source": [
    "# Value yang berurutan dalam array 1-D dapat ditentukan dengan menggunakan rumus sebagai berikut :\n",
    "# Rumus : Variabel = np.arange(value)\n",
    "\n",
    "N = np.arange(5)\n",
    "\n",
    "print(N)"
   ]
  },
  {
   "cell_type": "code",
   "execution_count": 39,
   "id": "48b1c2de",
   "metadata": {},
   "outputs": [
    {
     "name": "stdout",
     "output_type": "stream",
     "text": [
      "[10 11 12 13 14 15 16 17 18 19]\n"
     ]
    }
   ],
   "source": [
    "# Value pada array dapat ditentukan nilainya\n",
    "# Rumus : Variabel = np.arange(value minimal, value maksimal)\n",
    "\n",
    "P = np.arange(10,20)\n",
    "\n",
    "print(P)"
   ]
  },
  {
   "cell_type": "code",
   "execution_count": 41,
   "id": "ec122416",
   "metadata": {},
   "outputs": [
    {
     "name": "stdout",
     "output_type": "stream",
     "text": [
      "[10 12 14 16 18 20 22 24 26 28]\n"
     ]
    }
   ],
   "source": [
    "# Value pada array dapat ditentukan nilainya serta rentang nilai tersebut\n",
    "# Rumus : Variabel = np.arange(value min, value maks, jarak)\n",
    "\n",
    "Q = np.arange(10,30, 2)\n",
    "\n",
    "print(Q)"
   ]
  },
  {
   "cell_type": "code",
   "execution_count": 37,
   "id": "bec938f2",
   "metadata": {},
   "outputs": [
    {
     "name": "stdout",
     "output_type": "stream",
     "text": [
      "[[ 0  1  2  3  4]\n",
      " [ 5  6  7  8  9]\n",
      " [10 11 12 13 14]]\n"
     ]
    }
   ],
   "source": [
    "# Value yang berurutan dalam array 2-D dapat ditentukan dengan menggunakan rumus sebagai berikut :\n",
    "# Rumus : Variabel = np.arange(value).reshape((row, column))\n",
    "\n",
    "O = np.arange(15).reshape((3,5))\n",
    "\n",
    "print(O)"
   ]
  },
  {
   "cell_type": "markdown",
   "id": "a98a3f66",
   "metadata": {},
   "source": [
    "### B. Numpy.linspace"
   ]
  },
  {
   "cell_type": "code",
   "execution_count": 45,
   "id": "82a5b78f",
   "metadata": {},
   "outputs": [
    {
     "name": "stdout",
     "output_type": "stream",
     "text": [
      "[ 1.    3.25  5.5   7.75 10.  ]\n",
      "[20.         22.22222222 24.44444444 26.66666667 28.88888889 31.11111111\n",
      " 33.33333333 35.55555556 37.77777778 40.        ]\n"
     ]
    }
   ],
   "source": [
    "# Array dapat ditentukan jumlah valuenya menggunakan rumus berikut :\n",
    "# Rumus : Variabel = np.linspace(value min, value maks, jumlah value)\n",
    "\n",
    "R = np.linspace(1, 10, 5)\n",
    "S = np.linspace(20, 40, 10)\n",
    "\n",
    "print(R)\n",
    "print(S)"
   ]
  },
  {
   "cell_type": "markdown",
   "id": "a6cf3bee",
   "metadata": {},
   "source": [
    "### C. Numpy.geomspace"
   ]
  },
  {
   "cell_type": "code",
   "execution_count": 49,
   "id": "ae6d07a9",
   "metadata": {},
   "outputs": [
    {
     "name": "stdout",
     "output_type": "stream",
     "text": [
      "[   1.   10.  100. 1000.]\n"
     ]
    }
   ],
   "source": [
    "# Numpy.geomspace menghasilkan nilai yang ditempatkan secara merata pada skala log\n",
    "# Rumus : Variabel = np.geomspace(value min, value maks, jumlah value)\n",
    "\n",
    "T = np.geomspace(1, 1000, 4)\n",
    "\n",
    "print(T)"
   ]
  },
  {
   "cell_type": "code",
   "execution_count": 51,
   "id": "76e0733e",
   "metadata": {},
   "outputs": [
    {
     "name": "stdout",
     "output_type": "stream",
     "text": [
      "[  1.   2.   4.   8.  16.  32.  64. 128. 256.]\n"
     ]
    }
   ],
   "source": [
    "U = np.geomspace(1, 256, 9)\n",
    "\n",
    "print(U)"
   ]
  },
  {
   "cell_type": "markdown",
   "id": "19123cf3",
   "metadata": {},
   "source": [
    "## 9. Array of Random Values"
   ]
  },
  {
   "cell_type": "code",
   "execution_count": 61,
   "id": "563c4661",
   "metadata": {},
   "outputs": [
    {
     "name": "stdout",
     "output_type": "stream",
     "text": [
      "[[0.50926248 0.58860882 0.30756459]\n",
      " [0.54635131 0.82287811 0.61526947]\n",
      " [0.04115593 0.21769838 0.95361493]]\n"
     ]
    }
   ],
   "source": [
    "# Value pada array dapat ditentukan dengan nilai (desimal) secara acak menggunakan rumus berikut :\n",
    "# Rumus : Variabel = np.random.rand(row, column)\n",
    "\n",
    "V = np.random.rand(3,3)\n",
    "\n",
    "print(V)\n"
   ]
  },
  {
   "cell_type": "code",
   "execution_count": 65,
   "id": "521e9abe",
   "metadata": {},
   "outputs": [
    {
     "name": "stdout",
     "output_type": "stream",
     "text": [
      "[[20 13 10 13  8]\n",
      " [24 33 31 20  5]\n",
      " [ 6  8 23 31 33]\n",
      " [35  2  9 20 22]\n",
      " [17 23 33 18 18]]\n"
     ]
    }
   ],
   "source": [
    "# Value pada array dapat ditentukan dengan nilai (bilangan bulat) secara acak menggunakan rumus berikut :\n",
    "# Rumus : Variabel = np.random.randint(value min, value maks, size = (row, column))\n",
    "\n",
    "W = np.random.randint(1,40, size = (5,5))\n",
    "\n",
    "print(W)"
   ]
  },
  {
   "cell_type": "markdown",
   "id": "9009b458",
   "metadata": {},
   "source": [
    "## 10. Array of Repeaded Values"
   ]
  },
  {
   "cell_type": "code",
   "execution_count": 66,
   "id": "88eb985c",
   "metadata": {},
   "outputs": [
    {
     "name": "stdout",
     "output_type": "stream",
     "text": [
      "[10 10 10 10 10]\n"
     ]
    }
   ],
   "source": [
    "# Value pada array dapat selalu dimunculkan sesuai dengan keinginan dengan rumus sebagai berikut :\n",
    "# Rumus : Variabel = np.repeat(value, jumlah value)\n",
    "\n",
    "X = np.repeat(10, 5)\n",
    "\n",
    "print(X)"
   ]
  },
  {
   "cell_type": "code",
   "execution_count": 67,
   "id": "79f2a98c",
   "metadata": {},
   "outputs": [
    {
     "name": "stdout",
     "output_type": "stream",
     "text": [
      "[3 3 3 4 4 4 5 5 5]\n"
     ]
    }
   ],
   "source": [
    "# Rumus : Variabel = np.repeat([value], jumlah value)\n",
    "\n",
    "Y = np.repeat([3,4,5], 3)\n",
    "\n",
    "print(Y)"
   ]
  },
  {
   "cell_type": "code",
   "execution_count": 69,
   "id": "0b239a98",
   "metadata": {},
   "outputs": [
    {
     "name": "stdout",
     "output_type": "stream",
     "text": [
      "[2 3 3 3 3 4 4 4 4 4 4]\n"
     ]
    }
   ],
   "source": [
    "# Rumus : Variabel = np.repeat([value, value, value], [jumlah value, jumlah value, jumlah value])\n",
    "\n",
    "Z = np.repeat([2,3,4], [1,4,6])\n",
    "\n",
    "print(Z)"
   ]
  },
  {
   "cell_type": "code",
   "execution_count": null,
   "id": "3d18be68",
   "metadata": {},
   "outputs": [],
   "source": []
  }
 ],
 "metadata": {
  "kernelspec": {
   "display_name": "Python 3 (ipykernel)",
   "language": "python",
   "name": "python3"
  },
  "language_info": {
   "codemirror_mode": {
    "name": "ipython",
    "version": 3
   },
   "file_extension": ".py",
   "mimetype": "text/x-python",
   "name": "python",
   "nbconvert_exporter": "python",
   "pygments_lexer": "ipython3",
   "version": "3.10.8"
  }
 },
 "nbformat": 4,
 "nbformat_minor": 5
}
