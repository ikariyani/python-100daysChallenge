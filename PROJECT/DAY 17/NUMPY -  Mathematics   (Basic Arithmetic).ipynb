{
 "cells": [
  {
   "cell_type": "markdown",
   "id": "4587f41d",
   "metadata": {},
   "source": [
    "| <img src=\"https://upload.wikimedia.org/wikipedia/commons/f/f8/Python_logo_and_wordmark.svg\" style=\"height:100px\"> | <img src=\"https://upload.wikimedia.org/wikipedia/commons/thumb/3/31/NumPy_logo_2020.svg/2560px-NumPy_logo_2020.svg.png\" style=\"height:150px\"> |\n",
    "| --- | --- |\n",
    "\n",
    "\n",
    "# NUMPY - Mathematics | Basic Arithmetic"
   ]
  },
  {
   "cell_type": "code",
   "execution_count": 1,
   "id": "87bcd463",
   "metadata": {},
   "outputs": [],
   "source": [
    "import numpy as np"
   ]
  },
  {
   "cell_type": "markdown",
   "id": "b37b5bb7",
   "metadata": {},
   "source": [
    "## 1. Arithmetic Operations"
   ]
  },
  {
   "cell_type": "code",
   "execution_count": 21,
   "id": "a9cf1355",
   "metadata": {},
   "outputs": [
    {
     "data": {
      "text/plain": [
       "array([ 6,  9, 11, 13,  8, 10, 12, 14,  8])"
      ]
     },
     "execution_count": 21,
     "metadata": {},
     "output_type": "execute_result"
    }
   ],
   "source": [
    "A = np.array([1,4,6,8,3,5,7,9,3])\n",
    "\n",
    "A + 5"
   ]
  },
  {
   "cell_type": "code",
   "execution_count": 22,
   "id": "3fa3f5e0",
   "metadata": {},
   "outputs": [
    {
     "data": {
      "text/plain": [
       "array([-1,  2,  4,  6,  1,  3,  5,  7,  1])"
      ]
     },
     "execution_count": 22,
     "metadata": {},
     "output_type": "execute_result"
    }
   ],
   "source": [
    "A = np.array([1,4,6,8,3,5,7,9,3])\n",
    "\n",
    "A - 2"
   ]
  },
  {
   "cell_type": "code",
   "execution_count": 23,
   "id": "cdae245d",
   "metadata": {},
   "outputs": [
    {
     "data": {
      "text/plain": [
       "array([10, 40, 60, 80, 30, 50, 70, 90, 30])"
      ]
     },
     "execution_count": 23,
     "metadata": {},
     "output_type": "execute_result"
    }
   ],
   "source": [
    "A = np.array([1,4,6,8,3,5,7,9,3])\n",
    "\n",
    "A * 10"
   ]
  },
  {
   "cell_type": "markdown",
   "id": "d178b3c1",
   "metadata": {},
   "source": [
    "### A. add"
   ]
  },
  {
   "cell_type": "code",
   "execution_count": 9,
   "id": "5f33a19c",
   "metadata": {},
   "outputs": [
    {
     "data": {
      "text/plain": [
       "7"
      ]
     },
     "execution_count": 9,
     "metadata": {},
     "output_type": "execute_result"
    }
   ],
   "source": [
    "# Untuk menambahkan setiap elemen dapat menggunakan \"np.add\" sebagai pengganti \"+\"\n",
    "\n",
    "np.add(2,5)"
   ]
  },
  {
   "cell_type": "code",
   "execution_count": 5,
   "id": "7403173d",
   "metadata": {},
   "outputs": [
    {
     "data": {
      "text/plain": [
       "30"
      ]
     },
     "execution_count": 5,
     "metadata": {},
     "output_type": "execute_result"
    }
   ],
   "source": [
    "np.add(10,20)"
   ]
  },
  {
   "cell_type": "code",
   "execution_count": 17,
   "id": "2ec4b069",
   "metadata": {},
   "outputs": [
    {
     "name": "stdout",
     "output_type": "stream",
     "text": [
      "[[11 12 13]\n",
      " [14 15 16]\n",
      " [17 18 19]]\n"
     ]
    },
    {
     "data": {
      "text/plain": [
       "array([[16, 15, 19],\n",
       "       [19, 18, 22],\n",
       "       [22, 21, 25]])"
      ]
     },
     "execution_count": 17,
     "metadata": {},
     "output_type": "execute_result"
    }
   ],
   "source": [
    "A = np.array([5,3,6])\n",
    "B = np.arange(11,20).reshape(3,3)\n",
    "\n",
    "print(B)\n",
    "np.add(A,B)"
   ]
  },
  {
   "cell_type": "code",
   "execution_count": 20,
   "id": "51f34f4f",
   "metadata": {},
   "outputs": [
    {
     "name": "stdout",
     "output_type": "stream",
     "text": [
      "[[1 2 3]\n",
      " [4 5 6]\n",
      " [7 8 9]]\n",
      "[[21 22 23]\n",
      " [24 25 26]\n",
      " [27 28 29]]\n"
     ]
    },
    {
     "data": {
      "text/plain": [
       "array([[22, 24, 26],\n",
       "       [28, 30, 32],\n",
       "       [34, 36, 38]])"
      ]
     },
     "execution_count": 20,
     "metadata": {},
     "output_type": "execute_result"
    }
   ],
   "source": [
    "C = np.arange(1,10).reshape(3,3)\n",
    "D = np.arange(21,30).reshape(3,3)\n",
    "\n",
    "\n",
    "print(C)\n",
    "print(D)\n",
    "np.add(C,D)"
   ]
  },
  {
   "cell_type": "markdown",
   "id": "737fa40c",
   "metadata": {},
   "source": [
    "### B. multiply"
   ]
  },
  {
   "cell_type": "code",
   "execution_count": 27,
   "id": "9e68473a",
   "metadata": {},
   "outputs": [
    {
     "name": "stdout",
     "output_type": "stream",
     "text": [
      "[1 4 6 8 3 5 7 9 3]\n"
     ]
    },
    {
     "data": {
      "text/plain": [
       "array([10, 40, 60, 80, 30, 50, 70, 90, 30])"
      ]
     },
     "execution_count": 27,
     "metadata": {},
     "output_type": "execute_result"
    }
   ],
   "source": [
    "# Untuk mengalikan setiap elemen dapat menggunakan \"np.multiply\" sebagai pengganti \"*\" \n",
    "\n",
    "A = np.array([1,4,6,8,3,5,7,9,3])\n",
    "\n",
    "print(A)\n",
    "A * 10"
   ]
  },
  {
   "cell_type": "code",
   "execution_count": 26,
   "id": "943966b1",
   "metadata": {},
   "outputs": [
    {
     "name": "stdout",
     "output_type": "stream",
     "text": [
      "[5 3 6]\n",
      "[[11 12 13]\n",
      " [14 15 16]\n",
      " [17 18 19]]\n"
     ]
    },
    {
     "data": {
      "text/plain": [
       "array([[ 55,  36,  78],\n",
       "       [ 70,  45,  96],\n",
       "       [ 85,  54, 114]])"
      ]
     },
     "execution_count": 26,
     "metadata": {},
     "output_type": "execute_result"
    }
   ],
   "source": [
    "A = np.array([5,3,6])\n",
    "B = np.arange(11,20).reshape(3,3)\n",
    "\n",
    "print(A)\n",
    "print(B)\n",
    "np.multiply(A,B)"
   ]
  },
  {
   "cell_type": "code",
   "execution_count": 28,
   "id": "5c3c2dcc",
   "metadata": {},
   "outputs": [
    {
     "name": "stdout",
     "output_type": "stream",
     "text": [
      "[[1 2 3]\n",
      " [4 5 6]\n",
      " [7 8 9]]\n",
      "[[21 22 23]\n",
      " [24 25 26]\n",
      " [27 28 29]]\n"
     ]
    },
    {
     "data": {
      "text/plain": [
       "array([[ 21,  44,  69],\n",
       "       [ 96, 125, 156],\n",
       "       [189, 224, 261]])"
      ]
     },
     "execution_count": 28,
     "metadata": {},
     "output_type": "execute_result"
    }
   ],
   "source": [
    "C = np.arange(1,10).reshape(3,3)\n",
    "D = np.arange(21,30).reshape(3,3)\n",
    "\n",
    "print(C)\n",
    "print(D)\n",
    "np.multiply(C,D)"
   ]
  },
  {
   "cell_type": "markdown",
   "id": "992d9a6c",
   "metadata": {},
   "source": [
    "### C. divide"
   ]
  },
  {
   "cell_type": "code",
   "execution_count": 30,
   "id": "f8cd0ec1",
   "metadata": {},
   "outputs": [
    {
     "name": "stdout",
     "output_type": "stream",
     "text": [
      "[1 4 6 8 3 5 7 9 3]\n"
     ]
    },
    {
     "data": {
      "text/plain": [
       "array([0.1, 0.4, 0.6, 0.8, 0.3, 0.5, 0.7, 0.9, 0.3])"
      ]
     },
     "execution_count": 30,
     "metadata": {},
     "output_type": "execute_result"
    }
   ],
   "source": [
    "# Untuk membagi setiap elemen dapat menggunakan \"np.divide\" sebagai pengganti \"/\"\n",
    "\n",
    "A = np.array([1,4,6,8,3,5,7,9,3])\n",
    "\n",
    "print(A)\n",
    "A / 10"
   ]
  },
  {
   "cell_type": "code",
   "execution_count": 31,
   "id": "87e7e25f",
   "metadata": {},
   "outputs": [
    {
     "name": "stdout",
     "output_type": "stream",
     "text": [
      "[5 3 6]\n",
      "[[11 12 13]\n",
      " [14 15 16]\n",
      " [17 18 19]]\n"
     ]
    },
    {
     "data": {
      "text/plain": [
       "array([[0.45454545, 0.25      , 0.46153846],\n",
       "       [0.35714286, 0.2       , 0.375     ],\n",
       "       [0.29411765, 0.16666667, 0.31578947]])"
      ]
     },
     "execution_count": 31,
     "metadata": {},
     "output_type": "execute_result"
    }
   ],
   "source": [
    "A = np.array([5,3,6])\n",
    "B = np.arange(11,20).reshape(3,3)\n",
    "\n",
    "print(A)\n",
    "print(B)\n",
    "np.divide(A,B)"
   ]
  },
  {
   "cell_type": "code",
   "execution_count": 32,
   "id": "e5e95e9e",
   "metadata": {},
   "outputs": [
    {
     "name": "stdout",
     "output_type": "stream",
     "text": [
      "[[1 2 3]\n",
      " [4 5 6]\n",
      " [7 8 9]]\n",
      "[[21 22 23]\n",
      " [24 25 26]\n",
      " [27 28 29]]\n"
     ]
    },
    {
     "data": {
      "text/plain": [
       "array([[0.04761905, 0.09090909, 0.13043478],\n",
       "       [0.16666667, 0.2       , 0.23076923],\n",
       "       [0.25925926, 0.28571429, 0.31034483]])"
      ]
     },
     "execution_count": 32,
     "metadata": {},
     "output_type": "execute_result"
    }
   ],
   "source": [
    "C = np.arange(1,10).reshape(3,3)\n",
    "D = np.arange(21,30).reshape(3,3)\n",
    "\n",
    "print(C)\n",
    "print(D)\n",
    "np.divide(C,D)"
   ]
  },
  {
   "cell_type": "markdown",
   "id": "786ecc42",
   "metadata": {},
   "source": [
    "### D. Power"
   ]
  },
  {
   "cell_type": "code",
   "execution_count": 33,
   "id": "bffeb260",
   "metadata": {},
   "outputs": [
    {
     "name": "stdout",
     "output_type": "stream",
     "text": [
      "[1 4 6 8 3 5 7 9 3]\n"
     ]
    },
    {
     "data": {
      "text/plain": [
       "array([ 1, 16, 36, 64,  9, 25, 49, 81,  9], dtype=int32)"
      ]
     },
     "execution_count": 33,
     "metadata": {},
     "output_type": "execute_result"
    }
   ],
   "source": [
    "# Untuk melakukan perpangkatan setiap elemen dapat menggunakan \"np.power\" sebagai pengganti \"**\"\n",
    "\n",
    "A = np.array([1,4,6,8,3,5,7,9,3])\n",
    "\n",
    "print(A)\n",
    "np.power(A,2)"
   ]
  },
  {
   "cell_type": "code",
   "execution_count": 36,
   "id": "b4d0fc79",
   "metadata": {},
   "outputs": [
    {
     "name": "stdout",
     "output_type": "stream",
     "text": [
      "[1 4 6 8 3 5 7 9 3]\n",
      "[6 7 3 2 8 5 8 5 6]\n"
     ]
    },
    {
     "data": {
      "text/plain": [
       "array([      1,   16384,     216,      64,    6561,    3125, 5764801,\n",
       "         59049,     729])"
      ]
     },
     "execution_count": 36,
     "metadata": {},
     "output_type": "execute_result"
    }
   ],
   "source": [
    "A = np.array([1,4,6,8,3,5,7,9,3])\n",
    "E = np.array([6,7,3,2,8,5,8,5,6])\n",
    "\n",
    "print(A)\n",
    "print(E)\n",
    "np.power(A,E)"
   ]
  },
  {
   "cell_type": "code",
   "execution_count": 39,
   "id": "558b7d11",
   "metadata": {},
   "outputs": [
    {
     "name": "stdout",
     "output_type": "stream",
     "text": [
      "[2 2 2 2 2]\n",
      "[[5 8 5 8 2]\n",
      " [7 3 6 8 4]]\n"
     ]
    },
    {
     "data": {
      "text/plain": [
       "array([[ 32, 256,  32, 256,   4],\n",
       "       [128,   8,  64, 256,  16]])"
      ]
     },
     "execution_count": 39,
     "metadata": {},
     "output_type": "execute_result"
    }
   ],
   "source": [
    "F = np.array([2,2,2,2,2])\n",
    "G = np.array([[5,8,5,8,2], [7,3,6,8,4]])\n",
    "\n",
    "print(F)\n",
    "print(G)\n",
    "np.power(F,G)"
   ]
  },
  {
   "cell_type": "code",
   "execution_count": 41,
   "id": "7cb85012",
   "metadata": {},
   "outputs": [
    {
     "name": "stdout",
     "output_type": "stream",
     "text": [
      "[[5 8 5 8 2]\n",
      " [7 3 6 8 4]]\n",
      "[[1 2 3 1 3]\n",
      " [2 3 1 4 2]]\n"
     ]
    },
    {
     "data": {
      "text/plain": [
       "array([[   5,   64,  125,    8,    8],\n",
       "       [  49,   27,    6, 4096,   16]])"
      ]
     },
     "execution_count": 41,
     "metadata": {},
     "output_type": "execute_result"
    }
   ],
   "source": [
    "G = np.array([[5,8,5,8,2], [7,3,6,8,4]])\n",
    "H = np.array([[1,2,3,1,3], [2,3,1,4,2]])\n",
    "\n",
    "print(G)\n",
    "print(H)\n",
    "\n",
    "np.power(G,H)"
   ]
  },
  {
   "cell_type": "markdown",
   "id": "609218d9",
   "metadata": {},
   "source": [
    "## 2. Trigonometric Functions"
   ]
  },
  {
   "cell_type": "markdown",
   "id": "170527c9",
   "metadata": {},
   "source": [
    "### A. Sin(x) Function"
   ]
  },
  {
   "cell_type": "code",
   "execution_count": 45,
   "id": "23b80e9c",
   "metadata": {},
   "outputs": [
    {
     "name": "stdout",
     "output_type": "stream",
     "text": [
      "[0 1 2 3 4 5 6 7 8 9]\n"
     ]
    },
    {
     "data": {
      "text/plain": [
       "array([ 0.        ,  0.84147098,  0.90929743,  0.14112001, -0.7568025 ,\n",
       "       -0.95892427, -0.2794155 ,  0.6569866 ,  0.98935825,  0.41211849])"
      ]
     },
     "execution_count": 45,
     "metadata": {},
     "output_type": "execute_result"
    }
   ],
   "source": [
    "J = np.arange(10)\n",
    "\n",
    "print(J)\n",
    "np.sin(J)"
   ]
  },
  {
   "cell_type": "markdown",
   "id": "67b2b6c5",
   "metadata": {},
   "source": [
    "### B. Cos(x) Function"
   ]
  },
  {
   "cell_type": "code",
   "execution_count": 46,
   "id": "39b52370",
   "metadata": {},
   "outputs": [
    {
     "name": "stdout",
     "output_type": "stream",
     "text": [
      "[0 1 2 3 4 5 6 7 8 9]\n"
     ]
    },
    {
     "data": {
      "text/plain": [
       "array([ 1.        ,  0.54030231, -0.41614684, -0.9899925 , -0.65364362,\n",
       "        0.28366219,  0.96017029,  0.75390225, -0.14550003, -0.91113026])"
      ]
     },
     "execution_count": 46,
     "metadata": {},
     "output_type": "execute_result"
    }
   ],
   "source": [
    "J = np.arange(10)\n",
    "\n",
    "print(J)\n",
    "np.cos(J)"
   ]
  },
  {
   "cell_type": "markdown",
   "id": "19eb1217",
   "metadata": {},
   "source": [
    "### C. Tan(x) Function"
   ]
  },
  {
   "cell_type": "code",
   "execution_count": 47,
   "id": "9b667cb1",
   "metadata": {},
   "outputs": [
    {
     "name": "stdout",
     "output_type": "stream",
     "text": [
      "[0 1 2 3 4 5 6 7 8 9]\n"
     ]
    },
    {
     "data": {
      "text/plain": [
       "array([ 0.        ,  1.55740772, -2.18503986, -0.14254654,  1.15782128,\n",
       "       -3.38051501, -0.29100619,  0.87144798, -6.79971146, -0.45231566])"
      ]
     },
     "execution_count": 47,
     "metadata": {},
     "output_type": "execute_result"
    }
   ],
   "source": [
    "J = np.arange(10)\n",
    "\n",
    "print(J)\n",
    "np.tan(J)"
   ]
  },
  {
   "cell_type": "markdown",
   "id": "529a6578",
   "metadata": {},
   "source": [
    "## 3. Eksponents and Logarithm"
   ]
  },
  {
   "cell_type": "markdown",
   "id": "05b304a8",
   "metadata": {},
   "source": [
    "### A. Eksponential Function"
   ]
  },
  {
   "cell_type": "code",
   "execution_count": 52,
   "id": "4d2b1207",
   "metadata": {},
   "outputs": [
    {
     "data": {
      "text/plain": [
       "148.4131591025766"
      ]
     },
     "execution_count": 52,
     "metadata": {},
     "output_type": "execute_result"
    }
   ],
   "source": [
    "np.exp(5)"
   ]
  },
  {
   "cell_type": "code",
   "execution_count": 53,
   "id": "0b5e2201",
   "metadata": {},
   "outputs": [
    {
     "data": {
      "text/plain": [
       "array([2.71828183e+00, 5.45981500e+01, 4.03428793e+02, 2.98095799e+03,\n",
       "       2.00855369e+01, 1.48413159e+02, 1.09663316e+03, 8.10308393e+03,\n",
       "       2.00855369e+01])"
      ]
     },
     "execution_count": 53,
     "metadata": {},
     "output_type": "execute_result"
    }
   ],
   "source": [
    "A = np.array([1,4,6,8,3,5,7,9,3])\n",
    "\n",
    "np.exp(A)"
   ]
  },
  {
   "cell_type": "code",
   "execution_count": 54,
   "id": "8ac12d47",
   "metadata": {},
   "outputs": [],
   "source": [
    "import matplotlib.pyplot as plt"
   ]
  },
  {
   "cell_type": "code",
   "execution_count": 56,
   "id": "64c7741b",
   "metadata": {},
   "outputs": [
    {
     "data": {
      "text/plain": [
       "<function matplotlib.pyplot.show(close=None, block=None)>"
      ]
     },
     "execution_count": 56,
     "metadata": {},
     "output_type": "execute_result"
    },
    {
     "data": {
      "image/png": "[encoded data removed]",
      "text/plain": [
       "<Figure size 640x480 with 1 Axes>"
      ]
     },
     "metadata": {},
     "output_type": "display_data"
    }
   ],
   "source": [
    "K = np.linspace(1,10, 100)\n",
    "\n",
    "L = np.exp(K)\n",
    "\n",
    "plt.plot(K, L)\n",
    "plt.show"
   ]
  },
  {
   "cell_type": "markdown",
   "id": "f487a4c0",
   "metadata": {},
   "source": [
    "### B. Logarithm Function"
   ]
  },
  {
   "cell_type": "code",
   "execution_count": 60,
   "id": "b057ea9a",
   "metadata": {},
   "outputs": [
    {
     "data": {
      "text/plain": [
       "2.302585092994046"
      ]
     },
     "execution_count": 60,
     "metadata": {},
     "output_type": "execute_result"
    }
   ],
   "source": [
    "np.log(10)"
   ]
  },
  {
   "cell_type": "code",
   "execution_count": 61,
   "id": "bbf0665b",
   "metadata": {},
   "outputs": [
    {
     "name": "stdout",
     "output_type": "stream",
     "text": [
      "[1 4 6 8 3 5 7 9 3]\n"
     ]
    },
    {
     "data": {
      "text/plain": [
       "array([0.        , 1.38629436, 1.79175947, 2.07944154, 1.09861229,\n",
       "       1.60943791, 1.94591015, 2.19722458, 1.09861229])"
      ]
     },
     "execution_count": 61,
     "metadata": {},
     "output_type": "execute_result"
    }
   ],
   "source": [
    "A = np.array([1,4,6,8,3,5,7,9,3])\n",
    "\n",
    "print(A)\n",
    "np.log(A)"
   ]
  },
  {
   "cell_type": "code",
   "execution_count": null,
   "id": "2fb74f82",
   "metadata": {},
   "outputs": [],
   "source": []
  }
 ],
 "metadata": {
  "kernelspec": {
   "display_name": "Python 3 (ipykernel)",
   "language": "python",
   "name": "python3"
  },
  "language_info": {
   "codemirror_mode": {
    "name": "ipython",
    "version": 3
   },
   "file_extension": ".py",
   "mimetype": "text/x-python",
   "name": "python",
   "nbconvert_exporter": "python",
   "pygments_lexer": "ipython3",
   "version": "3.10.8"
  }
 },
 "nbformat": 4,
 "nbformat_minor": 5
}
