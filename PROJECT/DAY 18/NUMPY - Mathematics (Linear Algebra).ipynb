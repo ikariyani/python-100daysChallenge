{
 "cells": [
  {
   "cell_type": "markdown",
   "id": "6dd84f57",
   "metadata": {},
   "source": [
    "| <img src=\"https://upload.wikimedia.org/wikipedia/commons/f/f8/Python_logo_and_wordmark.svg\" style=\"height:100px\"> | <img src=\"https://upload.wikimedia.org/wikipedia/commons/thumb/3/31/NumPy_logo_2020.svg/2560px-NumPy_logo_2020.svg.png\" style=\"height:150px\"> |\n",
    "| --- | --- |\n",
    "\n",
    "# NUMPY - Mathematics | Linear Algebra"
   ]
  },
  {
   "cell_type": "code",
   "execution_count": 1,
   "id": "01a0d879",
   "metadata": {},
   "outputs": [],
   "source": [
    "import numpy as np"
   ]
  },
  {
   "cell_type": "markdown",
   "id": "546b3292",
   "metadata": {},
   "source": [
    "## 1. DOT"
   ]
  },
  {
   "cell_type": "code",
   "execution_count": 3,
   "id": "0b19781a",
   "metadata": {},
   "outputs": [
    {
     "data": {
      "text/plain": [
       "50"
      ]
     },
     "execution_count": 3,
     "metadata": {},
     "output_type": "execute_result"
    }
   ],
   "source": [
    "# \"dot\" merupakan fungsi perkalian pada matriks di aljabar linear\n",
    "\n",
    "np.dot(10,5)"
   ]
  },
  {
   "cell_type": "code",
   "execution_count": 4,
   "id": "cac6ab65",
   "metadata": {},
   "outputs": [
    {
     "data": {
      "text/plain": [
       "11"
      ]
     },
     "execution_count": 4,
     "metadata": {},
     "output_type": "execute_result"
    }
   ],
   "source": [
    "np.dot([1,2], [3,4])"
   ]
  },
  {
   "cell_type": "code",
   "execution_count": 7,
   "id": "8a8943fd",
   "metadata": {},
   "outputs": [
    {
     "name": "stdout",
     "output_type": "stream",
     "text": [
      "[[1 2]\n",
      " [3 4]]\n",
      "[[5 6]\n",
      " [7 8]]\n"
     ]
    },
    {
     "data": {
      "text/plain": [
       "array([[19, 22],\n",
       "       [43, 50]])"
      ]
     },
     "execution_count": 7,
     "metadata": {},
     "output_type": "execute_result"
    }
   ],
   "source": [
    "A = np.array([[1,2], [3,4]])\n",
    "B = np.array([[5,6], [7,8]])\n",
    "\n",
    "print(A)\n",
    "print(B)\n",
    "np.dot(A,B)"
   ]
  },
  {
   "cell_type": "code",
   "execution_count": 17,
   "id": "be66783d",
   "metadata": {},
   "outputs": [
    {
     "name": "stdout",
     "output_type": "stream",
     "text": [
      "[[ 7  8  9]\n",
      " [10 11 12]]\n",
      "[[1 2]\n",
      " [3 4]\n",
      " [5 6]]\n"
     ]
    },
    {
     "data": {
      "text/plain": [
       "array([[ 76, 100],\n",
       "       [103, 136]])"
      ]
     },
     "execution_count": 17,
     "metadata": {},
     "output_type": "execute_result"
    }
   ],
   "source": [
    "C = np.array([[7,8,9], [10,11,12]])\n",
    "D = np.array([[1,2], [3,4], [5,6]])\n",
    "\n",
    "\n",
    "print(C)\n",
    "print(D)\n",
    "np.dot(C,D)"
   ]
  },
  {
   "cell_type": "code",
   "execution_count": 19,
   "id": "c956d6e9",
   "metadata": {},
   "outputs": [
    {
     "name": "stdout",
     "output_type": "stream",
     "text": [
      "[[1 2]\n",
      " [3 4]\n",
      " [5 6]]\n",
      "[[ 7  8  9]\n",
      " [10 11 12]]\n"
     ]
    },
    {
     "data": {
      "text/plain": [
       "array([[ 27,  30,  33],\n",
       "       [ 61,  68,  75],\n",
       "       [ 95, 106, 117]])"
      ]
     },
     "execution_count": 19,
     "metadata": {},
     "output_type": "execute_result"
    }
   ],
   "source": [
    "E = np.array([[1,2], [3,4], [5,6]])\n",
    "F = np.array([[7,8,9], [10,11,12]])\n",
    "\n",
    "\n",
    "print(E)\n",
    "print(F)\n",
    "np.dot(E,F)"
   ]
  },
  {
   "cell_type": "markdown",
   "id": "bc1e1bc3",
   "metadata": {},
   "source": [
    "## 2. INNER"
   ]
  },
  {
   "cell_type": "code",
   "execution_count": 23,
   "id": "7adab712",
   "metadata": {},
   "outputs": [
    {
     "data": {
      "text/plain": [
       "100"
      ]
     },
     "execution_count": 23,
     "metadata": {},
     "output_type": "execute_result"
    }
   ],
   "source": [
    "np.inner(10,10)"
   ]
  },
  {
   "cell_type": "code",
   "execution_count": 27,
   "id": "2c1e2590",
   "metadata": {},
   "outputs": [
    {
     "data": {
      "text/plain": [
       "11"
      ]
     },
     "execution_count": 27,
     "metadata": {},
     "output_type": "execute_result"
    }
   ],
   "source": [
    "np.inner([1,2], [3,4])"
   ]
  },
  {
   "cell_type": "code",
   "execution_count": 28,
   "id": "00aa0382",
   "metadata": {},
   "outputs": [
    {
     "name": "stdout",
     "output_type": "stream",
     "text": [
      "[[1 2]\n",
      " [3 4]]\n",
      "[[5 6]\n",
      " [7 8]]\n"
     ]
    },
    {
     "data": {
      "text/plain": [
       "array([[17, 23],\n",
       "       [39, 53]])"
      ]
     },
     "execution_count": 28,
     "metadata": {},
     "output_type": "execute_result"
    }
   ],
   "source": [
    "A = np.array([[1,2], [3,4]])\n",
    "B = np.array([[5,6], [7,8]])\n",
    "\n",
    "print(A)\n",
    "print(B)\n",
    "np.inner(A,B)"
   ]
  },
  {
   "cell_type": "code",
   "execution_count": 30,
   "id": "f8cb8720",
   "metadata": {},
   "outputs": [
    {
     "name": "stdout",
     "output_type": "stream",
     "text": [
      "[[ 7  8  9]\n",
      " [10 11 12]]\n",
      "[[1 2 3]\n",
      " [4 5 6]]\n"
     ]
    },
    {
     "data": {
      "text/plain": [
       "array([[ 50, 122],\n",
       "       [ 68, 167]])"
      ]
     },
     "execution_count": 30,
     "metadata": {},
     "output_type": "execute_result"
    }
   ],
   "source": [
    "C = np.array([[7,8,9], [10,11,12]])\n",
    "D = np.array([[1,2,3], [4,5,6]])\n",
    "\n",
    "\n",
    "print(C)\n",
    "print(D)\n",
    "np.inner(C,D)"
   ]
  },
  {
   "cell_type": "markdown",
   "id": "00b83be5",
   "metadata": {},
   "source": [
    "## 3. MATMUL"
   ]
  },
  {
   "cell_type": "code",
   "execution_count": 31,
   "id": "ff671ede",
   "metadata": {},
   "outputs": [
    {
     "data": {
      "text/plain": [
       "50"
      ]
     },
     "execution_count": 31,
     "metadata": {},
     "output_type": "execute_result"
    }
   ],
   "source": [
    "# \"Matmul\" memiliki fungsi yang sama dengan \"dot\"\n",
    "\n",
    "np.dot(10,5)"
   ]
  },
  {
   "cell_type": "code",
   "execution_count": 32,
   "id": "7d5e09ec",
   "metadata": {},
   "outputs": [
    {
     "data": {
      "text/plain": [
       "11"
      ]
     },
     "execution_count": 32,
     "metadata": {},
     "output_type": "execute_result"
    }
   ],
   "source": [
    "np.dot([1,2], [3,4])"
   ]
  },
  {
   "cell_type": "code",
   "execution_count": 33,
   "id": "01eb9a9c",
   "metadata": {},
   "outputs": [
    {
     "name": "stdout",
     "output_type": "stream",
     "text": [
      "[[1 2]\n",
      " [3 4]]\n",
      "[[5 6]\n",
      " [7 8]]\n"
     ]
    },
    {
     "data": {
      "text/plain": [
       "array([[19, 22],\n",
       "       [43, 50]])"
      ]
     },
     "execution_count": 33,
     "metadata": {},
     "output_type": "execute_result"
    }
   ],
   "source": [
    "A = np.array([[1,2], [3,4]])\n",
    "B = np.array([[5,6], [7,8]])\n",
    "\n",
    "print(A)\n",
    "print(B)\n",
    "np.matmul(A,B)"
   ]
  },
  {
   "cell_type": "code",
   "execution_count": 34,
   "id": "e14c27ed",
   "metadata": {},
   "outputs": [
    {
     "name": "stdout",
     "output_type": "stream",
     "text": [
      "[[ 7  8  9]\n",
      " [10 11 12]]\n",
      "[[1 2]\n",
      " [3 4]\n",
      " [5 6]]\n"
     ]
    },
    {
     "data": {
      "text/plain": [
       "array([[ 76, 100],\n",
       "       [103, 136]])"
      ]
     },
     "execution_count": 34,
     "metadata": {},
     "output_type": "execute_result"
    }
   ],
   "source": [
    "C = np.array([[7,8,9], [10,11,12]])\n",
    "D = np.array([[1,2], [3,4], [5,6]])\n",
    "\n",
    "\n",
    "print(C)\n",
    "print(D)\n",
    "np.matmul(C,D)"
   ]
  },
  {
   "cell_type": "code",
   "execution_count": 35,
   "id": "1203a8f3",
   "metadata": {},
   "outputs": [
    {
     "name": "stdout",
     "output_type": "stream",
     "text": [
      "[[1 2]\n",
      " [3 4]\n",
      " [5 6]]\n",
      "[[ 7  8  9]\n",
      " [10 11 12]]\n"
     ]
    },
    {
     "data": {
      "text/plain": [
       "array([[ 27,  30,  33],\n",
       "       [ 61,  68,  75],\n",
       "       [ 95, 106, 117]])"
      ]
     },
     "execution_count": 35,
     "metadata": {},
     "output_type": "execute_result"
    }
   ],
   "source": [
    "E = np.array([[1,2], [3,4], [5,6]])\n",
    "F = np.array([[7,8,9], [10,11,12]])\n",
    "\n",
    "\n",
    "print(E)\n",
    "print(F)\n",
    "np.dot(E,F)"
   ]
  },
  {
   "cell_type": "markdown",
   "id": "0f3ded22",
   "metadata": {},
   "source": [
    "## 4. DETERMINANT"
   ]
  },
  {
   "cell_type": "code",
   "execution_count": 38,
   "id": "673713b4",
   "metadata": {},
   "outputs": [
    {
     "name": "stdout",
     "output_type": "stream",
     "text": [
      "[[1 2]\n",
      " [3 4]]\n"
     ]
    },
    {
     "data": {
      "text/plain": [
       "-2.0000000000000004"
      ]
     },
     "execution_count": 38,
     "metadata": {},
     "output_type": "execute_result"
    }
   ],
   "source": [
    "F = np.array([[1,2], [3,4]])\n",
    "\n",
    "print(F)\n",
    "np.linalg.det(F)"
   ]
  },
  {
   "cell_type": "code",
   "execution_count": 52,
   "id": "643c8328",
   "metadata": {},
   "outputs": [
    {
     "name": "stdout",
     "output_type": "stream",
     "text": [
      "[[3 6 6]\n",
      " [4 1 4]\n",
      " [6 8 3]]\n"
     ]
    },
    {
     "data": {
      "text/plain": [
       "141.00000000000003"
      ]
     },
     "execution_count": 52,
     "metadata": {},
     "output_type": "execute_result"
    }
   ],
   "source": [
    "G = np.random.randint(1,10, size = (3,3))\n",
    "\n",
    "\n",
    "print(G)\n",
    "np.linalg.det(G)"
   ]
  },
  {
   "cell_type": "markdown",
   "id": "40e89408",
   "metadata": {},
   "source": [
    "## 5. INVERSE"
   ]
  },
  {
   "cell_type": "code",
   "execution_count": 53,
   "id": "b2091f3f",
   "metadata": {},
   "outputs": [
    {
     "name": "stdout",
     "output_type": "stream",
     "text": [
      "[[ 2 -2]\n",
      " [ 2  2]]\n"
     ]
    }
   ],
   "source": [
    "H = np.array([[2,-2], [2,2]])\n",
    "\n",
    "print(H)"
   ]
  },
  {
   "cell_type": "code",
   "execution_count": 54,
   "id": "eee4465b",
   "metadata": {},
   "outputs": [
    {
     "name": "stdout",
     "output_type": "stream",
     "text": [
      "[[ 0.25  0.25]\n",
      " [-0.25  0.25]]\n"
     ]
    }
   ],
   "source": [
    "H_inv = np.linalg.inv(H)\n",
    "\n",
    "\n",
    "print(H_inv)"
   ]
  },
  {
   "cell_type": "code",
   "execution_count": 55,
   "id": "b8828caa",
   "metadata": {},
   "outputs": [
    {
     "data": {
      "text/plain": [
       "array([[1., 0.],\n",
       "       [0., 1.]])"
      ]
     },
     "execution_count": 55,
     "metadata": {},
     "output_type": "execute_result"
    }
   ],
   "source": [
    "# Untuk membuktikan apakah nilai invers benar, maka hasil inverse dikalikan dengan array murni sebelum di invers\n",
    "\n",
    "\n",
    "np.dot(H,H_inv)"
   ]
  },
  {
   "cell_type": "code",
   "execution_count": null,
   "id": "d99e7cb4",
   "metadata": {},
   "outputs": [],
   "source": []
  }
 ],
 "metadata": {
  "kernelspec": {
   "display_name": "Python 3 (ipykernel)",
   "language": "python",
   "name": "python3"
  },
  "language_info": {
   "codemirror_mode": {
    "name": "ipython",
    "version": 3
   },
   "file_extension": ".py",
   "mimetype": "text/x-python",
   "name": "python",
   "nbconvert_exporter": "python",
   "pygments_lexer": "ipython3",
   "version": "3.10.8"
  }
 },
 "nbformat": 4,
 "nbformat_minor": 5
}
