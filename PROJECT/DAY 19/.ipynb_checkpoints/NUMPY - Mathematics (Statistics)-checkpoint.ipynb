{
 "cells": [
  {
   "cell_type": "markdown",
   "id": "c6785aec",
   "metadata": {},
   "source": [
    "| <img src=\"https://upload.wikimedia.org/wikipedia/commons/f/f8/Python_logo_and_wordmark.svg\" style=\"height:100px\"> | <img src=\"https://upload.wikimedia.org/wikipedia/commons/thumb/3/31/NumPy_logo_2020.svg/2560px-NumPy_logo_2020.svg.png\" style=\"height:150px\"> |\n",
    "| --- | --- |\n",
    "\n",
    "\n",
    "# NUMPY - Mathematics | Statistics"
   ]
  },
  {
   "cell_type": "code",
   "execution_count": 1,
   "id": "199f5440",
   "metadata": {},
   "outputs": [],
   "source": [
    "import numpy as np"
   ]
  },
  {
   "cell_type": "markdown",
   "id": "115ad860",
   "metadata": {},
   "source": [
    "## 1. Minimum"
   ]
  },
  {
   "cell_type": "code",
   "execution_count": 33,
   "id": "e3a5447a",
   "metadata": {},
   "outputs": [
    {
     "name": "stdout",
     "output_type": "stream",
     "text": [
      "[3 6 7 3 6 1 5 7 2 3 7 9 2 8 3]\n",
      "[[1 2 3]\n",
      " [4 5 6]]\n",
      "[[[ 1  2  3]\n",
      "  [ 4  5  6]]\n",
      "\n",
      " [[ 7  8  9]\n",
      "  [10 11 12]]]\n"
     ]
    }
   ],
   "source": [
    "A = np.array([3,6,7,3,6,1,5,7,2,3,7,9,2,8,3])\n",
    "B = np.array([[1,2,3],[4,5,6]])\n",
    "C = np.array([[[1,2,3],[4,5,6]],[[7,8,9],[10,11,12]]])\n",
    "\n",
    "print(A)\n",
    "print(B)\n",
    "print(C)"
   ]
  },
  {
   "cell_type": "code",
   "execution_count": 37,
   "id": "ce7838aa",
   "metadata": {},
   "outputs": [
    {
     "name": "stdout",
     "output_type": "stream",
     "text": [
      "[3 6 7 3 6 1 5 7 2 3 7 9 2 8 3]\n"
     ]
    },
    {
     "data": {
      "text/plain": [
       "1"
      ]
     },
     "execution_count": 37,
     "metadata": {},
     "output_type": "execute_result"
    }
   ],
   "source": [
    "# Untuk mengetahui data yang paling kecil/minimum pada array dapat menggunakan \"np.min\"\n",
    "\n",
    "print(A)\n",
    "\n",
    "np.min(A)"
   ]
  },
  {
   "cell_type": "code",
   "execution_count": 39,
   "id": "21164f5c",
   "metadata": {},
   "outputs": [
    {
     "name": "stdout",
     "output_type": "stream",
     "text": [
      "[[1 2 3]\n",
      " [4 5 6]]\n"
     ]
    },
    {
     "data": {
      "text/plain": [
       "4"
      ]
     },
     "execution_count": 39,
     "metadata": {},
     "output_type": "execute_result"
    }
   ],
   "source": [
    "print(B)\n",
    "\n",
    "np.min(B[1])"
   ]
  },
  {
   "cell_type": "code",
   "execution_count": 48,
   "id": "0f026ece",
   "metadata": {},
   "outputs": [
    {
     "name": "stdout",
     "output_type": "stream",
     "text": [
      "[[[ 1  2  3]\n",
      "  [ 4  5  6]]\n",
      "\n",
      " [[ 7  8  9]\n",
      "  [10 11 12]]]\n"
     ]
    },
    {
     "data": {
      "text/plain": [
       "10"
      ]
     },
     "execution_count": 48,
     "metadata": {},
     "output_type": "execute_result"
    }
   ],
   "source": [
    "print(C)\n",
    "\n",
    "np.min(C[1,1])"
   ]
  },
  {
   "cell_type": "markdown",
   "id": "0a5828d6",
   "metadata": {},
   "source": [
    "## 2. Maksimum"
   ]
  },
  {
   "cell_type": "code",
   "execution_count": 35,
   "id": "af9ef249",
   "metadata": {},
   "outputs": [
    {
     "name": "stdout",
     "output_type": "stream",
     "text": [
      "[3 6 7 3 6 1 5 7 2 3 7 9 2 8 3]\n",
      "[[1 2 3]\n",
      " [4 5 6]]\n",
      "[[[ 1  2  3]\n",
      "  [ 4  5  6]]\n",
      "\n",
      " [[ 7  8  9]\n",
      "  [10 11 12]]]\n"
     ]
    }
   ],
   "source": [
    "# Untuk mengetahui data yang paling besar/maksimum pada array dapat menggunakan \"np.max\"\n",
    "\n",
    "A = np.array([3,6,7,3,6,1,5,7,2,3,7,9,2,8,3])\n",
    "B = np.array([[1,2,3],[4,5,6]])\n",
    "C = np.array([[[1,2,3],[4,5,6]],[[7,8,9],[10,11,12]]])\n",
    "\n",
    "\n",
    "print(A)\n",
    "print(B)\n",
    "print(C)"
   ]
  },
  {
   "cell_type": "code",
   "execution_count": 11,
   "id": "f2c91e03",
   "metadata": {},
   "outputs": [
    {
     "name": "stdout",
     "output_type": "stream",
     "text": [
      "[3 6 7 3 6 1 5 7 2 3 7 9 2 8 3]\n"
     ]
    },
    {
     "data": {
      "text/plain": [
       "9"
      ]
     },
     "execution_count": 11,
     "metadata": {},
     "output_type": "execute_result"
    }
   ],
   "source": [
    "print(A)\n",
    "\n",
    "np.max(A)"
   ]
  },
  {
   "cell_type": "code",
   "execution_count": 42,
   "id": "2f49ab04",
   "metadata": {},
   "outputs": [
    {
     "name": "stdout",
     "output_type": "stream",
     "text": [
      "[[1 2 3]\n",
      " [4 5 6]]\n"
     ]
    },
    {
     "data": {
      "text/plain": [
       "3"
      ]
     },
     "execution_count": 42,
     "metadata": {},
     "output_type": "execute_result"
    }
   ],
   "source": [
    "print(B)\n",
    "\n",
    "np.max(B[0])"
   ]
  },
  {
   "cell_type": "code",
   "execution_count": 43,
   "id": "4c30579e",
   "metadata": {},
   "outputs": [
    {
     "name": "stdout",
     "output_type": "stream",
     "text": [
      "[[[ 1  2  3]\n",
      "  [ 4  5  6]]\n",
      "\n",
      " [[ 7  8  9]\n",
      "  [10 11 12]]]\n"
     ]
    },
    {
     "data": {
      "text/plain": [
       "6"
      ]
     },
     "execution_count": 43,
     "metadata": {},
     "output_type": "execute_result"
    }
   ],
   "source": [
    "print(C)\n",
    "\n",
    "np.max(C[0,1])"
   ]
  },
  {
   "cell_type": "markdown",
   "id": "0d43cdb3",
   "metadata": {},
   "source": [
    "## 3. Sum"
   ]
  },
  {
   "cell_type": "code",
   "execution_count": 44,
   "id": "7588c69b",
   "metadata": {},
   "outputs": [
    {
     "name": "stdout",
     "output_type": "stream",
     "text": [
      "[3 6 7 3 6 1 5 7 2 3 7 9 2 8 3]\n",
      "[[1 2 3]\n",
      " [4 5 6]]\n",
      "[[[ 1  2  3]\n",
      "  [ 4  5  6]]\n",
      "\n",
      " [[ 7  8  9]\n",
      "  [10 11 12]]]\n"
     ]
    }
   ],
   "source": [
    "# Untuk menjumlahkan seluruh elemen pada array dapat menggunakan \"np.sum\"\n",
    "# Hanya akan menjumlahkan data dengan tipe numerik saja\n",
    "\n",
    "A = np.array([3,6,7,3,6,1,5,7,2,3,7,9,2,8,3])\n",
    "B = np.array([[1,2,3],[4,5,6]])\n",
    "C = np.array([[[1,2,3],[4,5,6]],[[7,8,9],[10,11,12]]])\n",
    "\n",
    "\n",
    "print(A)\n",
    "print(B)\n",
    "print(C)"
   ]
  },
  {
   "cell_type": "code",
   "execution_count": 49,
   "id": "f0a58b21",
   "metadata": {},
   "outputs": [
    {
     "name": "stdout",
     "output_type": "stream",
     "text": [
      "[3 6 7 3 6 1 5 7 2 3 7 9 2 8 3]\n"
     ]
    },
    {
     "data": {
      "text/plain": [
       "72"
      ]
     },
     "execution_count": 49,
     "metadata": {},
     "output_type": "execute_result"
    }
   ],
   "source": [
    "print(A)\n",
    "\n",
    "np.sum(A)"
   ]
  },
  {
   "cell_type": "code",
   "execution_count": 50,
   "id": "05f25843",
   "metadata": {},
   "outputs": [
    {
     "name": "stdout",
     "output_type": "stream",
     "text": [
      "[[1 2 3]\n",
      " [4 5 6]]\n"
     ]
    },
    {
     "data": {
      "text/plain": [
       "6"
      ]
     },
     "execution_count": 50,
     "metadata": {},
     "output_type": "execute_result"
    }
   ],
   "source": [
    "print(B)\n",
    "\n",
    "np.sum(B[0])"
   ]
  },
  {
   "cell_type": "code",
   "execution_count": 51,
   "id": "9ef46462",
   "metadata": {},
   "outputs": [
    {
     "name": "stdout",
     "output_type": "stream",
     "text": [
      "[[[ 1  2  3]\n",
      "  [ 4  5  6]]\n",
      "\n",
      " [[ 7  8  9]\n",
      "  [10 11 12]]]\n"
     ]
    },
    {
     "data": {
      "text/plain": [
       "24"
      ]
     },
     "execution_count": 51,
     "metadata": {},
     "output_type": "execute_result"
    }
   ],
   "source": [
    "print(C)\n",
    "\n",
    "np.sum(C[1,0])"
   ]
  },
  {
   "cell_type": "markdown",
   "id": "178cf8b5",
   "metadata": {},
   "source": [
    "## 4. Mean (Rata - Rata)"
   ]
  },
  {
   "cell_type": "code",
   "execution_count": 30,
   "id": "14f182a5",
   "metadata": {},
   "outputs": [
    {
     "name": "stdout",
     "output_type": "stream",
     "text": [
      "[3 6 7 3 6 1 5 7 2 3 7 9 2 8 3]\n",
      "[[1 2 3]\n",
      " [4 5 6]]\n"
     ]
    }
   ],
   "source": [
    "# Untuk menghitung rata - rata sebuah data, maka dapat menggunakan \"np.mean\"\n",
    "# Rata-rata atau mean adalah salah satu ukuran pusat yang nilainya diperoleh dengan cara menjumlahkan semua nilai titik data yang ada lalu dibagi oleh jumlah data. \n",
    "\n",
    "A = np.array([3,6,7,3,6,1,5,7,2,3,7,9,2,8,3])\n",
    "B = np.array([[1,2,3],[4,5,6]])\n",
    "C = np.array([[[1,2,3],[4,5,6]],[[7,8,9],[10,11,12]]])\n",
    "\n",
    "print(A)\n",
    "print(B)"
   ]
  },
  {
   "cell_type": "code",
   "execution_count": 52,
   "id": "d2b4d4bd",
   "metadata": {},
   "outputs": [
    {
     "name": "stdout",
     "output_type": "stream",
     "text": [
      "[3 6 7 3 6 1 5 7 2 3 7 9 2 8 3]\n"
     ]
    },
    {
     "data": {
      "text/plain": [
       "4.8"
      ]
     },
     "execution_count": 52,
     "metadata": {},
     "output_type": "execute_result"
    }
   ],
   "source": [
    "print(A)\n",
    "\n",
    "np.mean(A)"
   ]
  },
  {
   "cell_type": "code",
   "execution_count": 53,
   "id": "4686c6e8",
   "metadata": {},
   "outputs": [
    {
     "name": "stdout",
     "output_type": "stream",
     "text": [
      "[[1 2 3]\n",
      " [4 5 6]]\n"
     ]
    },
    {
     "data": {
      "text/plain": [
       "5.0"
      ]
     },
     "execution_count": 53,
     "metadata": {},
     "output_type": "execute_result"
    }
   ],
   "source": [
    "print(B)\n",
    "\n",
    "np.mean(B[1])"
   ]
  },
  {
   "cell_type": "code",
   "execution_count": 54,
   "id": "4e759783",
   "metadata": {},
   "outputs": [
    {
     "name": "stdout",
     "output_type": "stream",
     "text": [
      "[[[ 1  2  3]\n",
      "  [ 4  5  6]]\n",
      "\n",
      " [[ 7  8  9]\n",
      "  [10 11 12]]]\n"
     ]
    },
    {
     "data": {
      "text/plain": [
       "2.0"
      ]
     },
     "execution_count": 54,
     "metadata": {},
     "output_type": "execute_result"
    }
   ],
   "source": [
    "print(C)\n",
    "np.mean(C[0,0])"
   ]
  },
  {
   "cell_type": "markdown",
   "id": "85abde6a",
   "metadata": {},
   "source": [
    "## 5. Median (Nilai Tengah)"
   ]
  },
  {
   "cell_type": "code",
   "execution_count": 55,
   "id": "fe3521fd",
   "metadata": {},
   "outputs": [
    {
     "name": "stdout",
     "output_type": "stream",
     "text": [
      "[3 6 7 3 6 1 5 7 2 3 7 9 2 8 3]\n",
      "[[1 2 3]\n",
      " [4 5 6]]\n",
      "[[[ 1  2  3]\n",
      "  [ 4  5  6]]\n",
      "\n",
      " [[ 7  8  9]\n",
      "  [10 11 12]]]\n"
     ]
    }
   ],
   "source": [
    "# Median adalah salah satu ukuran pusat yang nilainya terletak di tengah titik data\n",
    "\n",
    "A = np.array([3,6,7,3,6,1,5,7,2,3,7,9,2,8,3])\n",
    "B = np.array([[1,2,3],[4,5,6]])\n",
    "C = np.array([[[1,2,3],[4,5,6]],[[7,8,9],[10,11,12]]])\n",
    "\n",
    "print(A)\n",
    "print(B)\n",
    "print(C)"
   ]
  },
  {
   "cell_type": "code",
   "execution_count": 56,
   "id": "16d50ef1",
   "metadata": {},
   "outputs": [
    {
     "name": "stdout",
     "output_type": "stream",
     "text": [
      "[3 6 7 3 6 1 5 7 2 3 7 9 2 8 3]\n"
     ]
    },
    {
     "data": {
      "text/plain": [
       "5.0"
      ]
     },
     "execution_count": 56,
     "metadata": {},
     "output_type": "execute_result"
    }
   ],
   "source": [
    "print(A)\n",
    "\n",
    "np.median(A)"
   ]
  },
  {
   "cell_type": "code",
   "execution_count": 57,
   "id": "8ddd03a2",
   "metadata": {},
   "outputs": [
    {
     "name": "stdout",
     "output_type": "stream",
     "text": [
      "[[1 2 3]\n",
      " [4 5 6]]\n"
     ]
    },
    {
     "data": {
      "text/plain": [
       "5.0"
      ]
     },
     "execution_count": 57,
     "metadata": {},
     "output_type": "execute_result"
    }
   ],
   "source": [
    "print(B)\n",
    "\n",
    "np.median(B[1])"
   ]
  },
  {
   "cell_type": "code",
   "execution_count": 58,
   "id": "22ca1ea7",
   "metadata": {},
   "outputs": [
    {
     "name": "stdout",
     "output_type": "stream",
     "text": [
      "[[[ 1  2  3]\n",
      "  [ 4  5  6]]\n",
      "\n",
      " [[ 7  8  9]\n",
      "  [10 11 12]]]\n"
     ]
    },
    {
     "data": {
      "text/plain": [
       "9.5"
      ]
     },
     "execution_count": 58,
     "metadata": {},
     "output_type": "execute_result"
    }
   ],
   "source": [
    "print(C)\n",
    "\n",
    "np.median(C[1])"
   ]
  },
  {
   "cell_type": "markdown",
   "id": "58bed3a7",
   "metadata": {},
   "source": [
    "## 6. Modus"
   ]
  },
  {
   "cell_type": "code",
   "execution_count": 63,
   "id": "8200dd3e",
   "metadata": {},
   "outputs": [],
   "source": [
    "# Modus didefinisikan sebagai data yang memiliki frekuensi kemunculan terbanyak/terbesar.\n",
    "# Ketika akan mencari sebuah \"modus\", maka harus import beberapa library lain,misalnya 'pandas', 'statistics' \n",
    "\n",
    "import statistics"
   ]
  },
  {
   "cell_type": "code",
   "execution_count": 84,
   "id": "d3f63b09",
   "metadata": {},
   "outputs": [
    {
     "name": "stdout",
     "output_type": "stream",
     "text": [
      "[3 6 7 3 6 1 5 7 2 3 7 9 2 8 3]\n"
     ]
    }
   ],
   "source": [
    "A = np.array([3,6,7,3,6,1,5,7,2,3,7,9,2,8,3])\n",
    "\n",
    "\n",
    "print(A)\n"
   ]
  },
  {
   "cell_type": "code",
   "execution_count": 77,
   "id": "2bf7b2c9",
   "metadata": {},
   "outputs": [
    {
     "name": "stdout",
     "output_type": "stream",
     "text": [
      "[3 6 7 3 6 1 5 7 2 3 7 9 2 8 3]\n"
     ]
    },
    {
     "data": {
      "text/plain": [
       "3"
      ]
     },
     "execution_count": 77,
     "metadata": {},
     "output_type": "execute_result"
    }
   ],
   "source": [
    "print(A)\n",
    "\n",
    "statistics.mode(A)"
   ]
  },
  {
   "cell_type": "markdown",
   "id": "145959ab",
   "metadata": {},
   "source": [
    "## 7. Kuantil"
   ]
  },
  {
   "cell_type": "code",
   "execution_count": 85,
   "id": "2fff008d",
   "metadata": {},
   "outputs": [
    {
     "name": "stdout",
     "output_type": "stream",
     "text": [
      "[3 6 7 3 6 1 5 7 2 3 7 9 2 8 3]\n",
      "[[1 2 3]\n",
      " [4 5 6]]\n",
      "[[[ 1  2  3]\n",
      "  [ 4  5  6]]\n",
      "\n",
      " [[ 7  8  9]\n",
      "  [10 11 12]]]\n"
     ]
    }
   ],
   "source": [
    "#Kuantil adalah nilai-nilai data yang membagi data yang telah diurutkan sebelumnya menjadi beberapa bagian yang sama besar ukurannya.\n",
    "\n",
    "A = np.array([3,6,7,3,6,1,5,7,2,3,7,9,2,8,3])\n",
    "B = np.array([[1,2,3],[4,5,6]])\n",
    "C = np.array([[[1,2,3],[4,5,6]],[[7,8,9],[10,11,12]]])\n",
    "\n",
    "print(A)\n",
    "print(B)\n",
    "print(C)"
   ]
  },
  {
   "cell_type": "code",
   "execution_count": 89,
   "id": "e0755419",
   "metadata": {},
   "outputs": [
    {
     "name": "stdout",
     "output_type": "stream",
     "text": [
      "[3 6 7 3 6 1 5 7 2 3 7 9 2 8 3]\n"
     ]
    },
    {
     "data": {
      "text/plain": [
       "7.0"
      ]
     },
     "execution_count": 89,
     "metadata": {},
     "output_type": "execute_result"
    }
   ],
   "source": [
    "print(A)\n",
    "\n",
    "np.quantile(A, .75)"
   ]
  },
  {
   "cell_type": "code",
   "execution_count": 94,
   "id": "7a4d1f64",
   "metadata": {},
   "outputs": [
    {
     "name": "stdout",
     "output_type": "stream",
     "text": [
      "[[1 2 3]\n",
      " [4 5 6]]\n"
     ]
    },
    {
     "data": {
      "text/plain": [
       "1.5"
      ]
     },
     "execution_count": 94,
     "metadata": {},
     "output_type": "execute_result"
    }
   ],
   "source": [
    "print(B)\n",
    "\n",
    "np.quantile(B[0], .25)"
   ]
  },
  {
   "cell_type": "code",
   "execution_count": 95,
   "id": "d4ff6eb2",
   "metadata": {},
   "outputs": [
    {
     "name": "stdout",
     "output_type": "stream",
     "text": [
      "[[[ 1  2  3]\n",
      "  [ 4  5  6]]\n",
      "\n",
      " [[ 7  8  9]\n",
      "  [10 11 12]]]\n"
     ]
    },
    {
     "data": {
      "text/plain": [
       "8.0"
      ]
     },
     "execution_count": 95,
     "metadata": {},
     "output_type": "execute_result"
    }
   ],
   "source": [
    "print(C)\n",
    "\n",
    "np.quantile(C[1, 0], .50)"
   ]
  },
  {
   "cell_type": "markdown",
   "id": "058f709f",
   "metadata": {},
   "source": [
    "## 8. Varians"
   ]
  },
  {
   "cell_type": "code",
   "execution_count": 106,
   "id": "f19e5053",
   "metadata": {},
   "outputs": [
    {
     "name": "stdout",
     "output_type": "stream",
     "text": [
      "[3 6 7 3 6 1 5 7 2 3 7 9 2 8 3]\n",
      "[[1 2 3]\n",
      " [4 5 6]]\n",
      "[[[ 1  2  3]\n",
      "  [ 4  5  6]]\n",
      "\n",
      " [[ 7  8  9]\n",
      "  [10 11 12]]]\n"
     ]
    }
   ],
   "source": [
    "# Variansi adalah ukuran sebaran pusat yang diperoleh dengan cara menghitung jarak antara tiap titik data pada sampel atau populasi dengan nilai mean.\n",
    "\n",
    "A = np.array([3,6,7,3,6,1,5,7,2,3,7,9,2,8,3])\n",
    "B = np.array([[1,2,3],[4,5,6]])\n",
    "C = np.array([[[1,2,3],[4,5,6]],[[7,8,9],[10,11,12]]])\n",
    "\n",
    "print(A)\n",
    "print(B)\n",
    "print(C)"
   ]
  },
  {
   "cell_type": "code",
   "execution_count": 98,
   "id": "fc71deda",
   "metadata": {},
   "outputs": [
    {
     "name": "stdout",
     "output_type": "stream",
     "text": [
      "[3 6 7 3 6 1 5 7 2 3 7 9 2 8 3]\n"
     ]
    },
    {
     "data": {
      "text/plain": [
       "5.893333333333333"
      ]
     },
     "execution_count": 98,
     "metadata": {},
     "output_type": "execute_result"
    }
   ],
   "source": [
    "print(A)\n",
    "\n",
    "np.var(A)"
   ]
  },
  {
   "cell_type": "code",
   "execution_count": 109,
   "id": "4c7de685",
   "metadata": {},
   "outputs": [
    {
     "name": "stdout",
     "output_type": "stream",
     "text": [
      "[[1 2 3]\n",
      " [4 5 6]]\n"
     ]
    },
    {
     "data": {
      "text/plain": [
       "0.6666666666666666"
      ]
     },
     "execution_count": 109,
     "metadata": {},
     "output_type": "execute_result"
    }
   ],
   "source": [
    "print(B)\n",
    "\n",
    "np.var(B[1])"
   ]
  },
  {
   "cell_type": "code",
   "execution_count": 110,
   "id": "5e5ea38e",
   "metadata": {},
   "outputs": [
    {
     "name": "stdout",
     "output_type": "stream",
     "text": [
      "[[[ 1  2  3]\n",
      "  [ 4  5  6]]\n",
      "\n",
      " [[ 7  8  9]\n",
      "  [10 11 12]]]\n"
     ]
    },
    {
     "data": {
      "text/plain": [
       "2.9166666666666665"
      ]
     },
     "execution_count": 110,
     "metadata": {},
     "output_type": "execute_result"
    }
   ],
   "source": [
    "print(C)\n",
    "\n",
    "np.var(C[1])"
   ]
  },
  {
   "cell_type": "markdown",
   "id": "81a3260c",
   "metadata": {},
   "source": [
    "## 9. Standar Deviation"
   ]
  },
  {
   "cell_type": "code",
   "execution_count": 116,
   "id": "0527e941",
   "metadata": {},
   "outputs": [
    {
     "name": "stdout",
     "output_type": "stream",
     "text": [
      "[3 6 7 3 6 1 5 7 2 3 7 9 2 8 3]\n",
      "[[1 2 3]\n",
      " [4 5 6]]\n",
      "[[[ 1  2  3]\n",
      "  [ 4  5  6]]\n",
      "\n",
      " [[ 7  8  9]\n",
      "  [10 11 12]]]\n"
     ]
    }
   ],
   "source": [
    "# Standar Deviasi adalah ukuran sebaran pusat yang diperoleh dengan cara menarik akar kuadrat dari hasil perhitungan variansi.\n",
    "\n",
    "A = np.array([3,6,7,3,6,1,5,7,2,3,7,9,2,8,3])\n",
    "B = np.array([[1,2,3],[4,5,6]])\n",
    "C = np.array([[[1,2,3],[4,5,6]],[[7,8,9],[10,11,12]]])\n",
    "\n",
    "print(A)\n",
    "print(B)\n",
    "print(C)"
   ]
  },
  {
   "cell_type": "code",
   "execution_count": 114,
   "id": "1affad1d",
   "metadata": {},
   "outputs": [
    {
     "name": "stdout",
     "output_type": "stream",
     "text": [
      "[3 6 7 3 6 1 5 7 2 3 7 9 2 8 3]\n"
     ]
    },
    {
     "data": {
      "text/plain": [
       "2.4276188608044165"
      ]
     },
     "execution_count": 114,
     "metadata": {},
     "output_type": "execute_result"
    }
   ],
   "source": [
    "print(A)\n",
    "\n",
    "np.std(A)"
   ]
  },
  {
   "cell_type": "code",
   "execution_count": 113,
   "id": "a535ee74",
   "metadata": {},
   "outputs": [
    {
     "name": "stdout",
     "output_type": "stream",
     "text": [
      "[[1 2 3]\n",
      " [4 5 6]]\n"
     ]
    },
    {
     "data": {
      "text/plain": [
       "0.816496580927726"
      ]
     },
     "execution_count": 113,
     "metadata": {},
     "output_type": "execute_result"
    }
   ],
   "source": [
    "print(B)\n",
    "\n",
    "np.std(B[1])"
   ]
  },
  {
   "cell_type": "code",
   "execution_count": 115,
   "id": "cee2af28",
   "metadata": {},
   "outputs": [
    {
     "name": "stdout",
     "output_type": "stream",
     "text": [
      "[[[ 1  2  3]\n",
      "  [ 4  5  6]]\n",
      "\n",
      " [[ 7  8  9]\n",
      "  [10 11 12]]]\n"
     ]
    },
    {
     "data": {
      "text/plain": [
       "1.707825127659933"
      ]
     },
     "execution_count": 115,
     "metadata": {},
     "output_type": "execute_result"
    }
   ],
   "source": [
    "print(C)\n",
    "\n",
    "np.std(C[1])"
   ]
  },
  {
   "cell_type": "code",
   "execution_count": null,
   "id": "8a134e8d",
   "metadata": {},
   "outputs": [],
   "source": []
  }
 ],
 "metadata": {
  "kernelspec": {
   "display_name": "Python 3 (ipykernel)",
   "language": "python",
   "name": "python3"
  },
  "language_info": {
   "codemirror_mode": {
    "name": "ipython",
    "version": 3
   },
   "file_extension": ".py",
   "mimetype": "text/x-python",
   "name": "python",
   "nbconvert_exporter": "python",
   "pygments_lexer": "ipython3",
   "version": "3.10.8"
  }
 },
 "nbformat": 4,
 "nbformat_minor": 5
}
