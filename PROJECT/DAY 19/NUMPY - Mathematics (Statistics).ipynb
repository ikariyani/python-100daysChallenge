{
 "cells": [
  {
   "cell_type": "markdown",
   "id": "2e02fd30",
   "metadata": {},
   "source": [
    "| <img src=\"https://upload.wikimedia.org/wikipedia/commons/f/f8/Python_logo_and_wordmark.svg\" style=\"height:100px\"> | <img src=\"https://upload.wikimedia.org/wikipedia/commons/thumb/3/31/NumPy_logo_2020.svg/2560px-NumPy_logo_2020.svg.png\" style=\"height:150px\"> |\n",
    "| --- | --- |\n",
    "\n",
    "\n",
    "# NUMPY - Mathematics | Statistics"
   ]
  },
  {
   "cell_type": "code",
   "execution_count": 1,
   "id": "d5db40fd",
   "metadata": {},
   "outputs": [],
   "source": [
    "import numpy as np"
   ]
  },
  {
   "cell_type": "markdown",
   "id": "35c4afc4",
   "metadata": {},
   "source": [
    "## 1. Minimum"
   ]
  },
  {
   "cell_type": "code",
   "execution_count": 33,
   "id": "0aa81dd9",
   "metadata": {},
   "outputs": [
    {
     "name": "stdout",
     "output_type": "stream",
     "text": [
      "[3 6 7 3 6 1 5 7 2 3 7 9 2 8 3]\n",
      "[[1 2 3]\n",
      " [4 5 6]]\n",
      "[[[ 1  2  3]\n",
      "  [ 4  5  6]]\n",
      "\n",
      " [[ 7  8  9]\n",
      "  [10 11 12]]]\n"
     ]
    }
   ],
   "source": [
    "A = np.array([3,6,7,3,6,1,5,7,2,3,7,9,2,8,3])\n",
    "B = np.array([[1,2,3],[4,5,6]])\n",
    "C = np.array([[[1,2,3],[4,5,6]],[[7,8,9],[10,11,12]]])\n",
    "\n",
    "print(A)\n",
    "print(B)\n",
    "print(C)"
   ]
  },
  {
   "cell_type": "code",
   "execution_count": 37,
   "id": "2e596ce6",
   "metadata": {},
   "outputs": [
    {
     "name": "stdout",
     "output_type": "stream",
     "text": [
      "[3 6 7 3 6 1 5 7 2 3 7 9 2 8 3]\n"
     ]
    },
    {
     "data": {
      "text/plain": [
       "1"
      ]
     },
     "execution_count": 37,
     "metadata": {},
     "output_type": "execute_result"
    }
   ],
   "source": [
    "# Untuk mengetahui data yang paling kecil/minimum pada array dapat menggunakan \"np.min\"\n",
    "\n",
    "print(A)\n",
    "\n",
    "np.min(A)"
   ]
  },
  {
   "cell_type": "code",
   "execution_count": 39,
   "id": "39c770ff",
   "metadata": {},
   "outputs": [
    {
     "name": "stdout",
     "output_type": "stream",
     "text": [
      "[[1 2 3]\n",
      " [4 5 6]]\n"
     ]
    },
    {
     "data": {
      "text/plain": [
       "4"
      ]
     },
     "execution_count": 39,
     "metadata": {},
     "output_type": "execute_result"
    }
   ],
   "source": [
    "print(B)\n",
    "\n",
    "np.min(B[1])"
   ]
  },
  {
   "cell_type": "code",
   "execution_count": 48,
   "id": "7df26af1",
   "metadata": {},
   "outputs": [
    {
     "name": "stdout",
     "output_type": "stream",
     "text": [
      "[[[ 1  2  3]\n",
      "  [ 4  5  6]]\n",
      "\n",
      " [[ 7  8  9]\n",
      "  [10 11 12]]]\n"
     ]
    },
    {
     "data": {
      "text/plain": [
       "10"
      ]
     },
     "execution_count": 48,
     "metadata": {},
     "output_type": "execute_result"
    }
   ],
   "source": [
    "print(C)\n",
    "\n",
    "np.min(C[1,1])"
   ]
  },
  {
   "cell_type": "markdown",
   "id": "517052b8",
   "metadata": {},
   "source": [
    "## 2. Maksimum"
   ]
  },
  {
   "cell_type": "code",
   "execution_count": 35,
   "id": "2e07727d",
   "metadata": {},
   "outputs": [
    {
     "name": "stdout",
     "output_type": "stream",
     "text": [
      "[3 6 7 3 6 1 5 7 2 3 7 9 2 8 3]\n",
      "[[1 2 3]\n",
      " [4 5 6]]\n",
      "[[[ 1  2  3]\n",
      "  [ 4  5  6]]\n",
      "\n",
      " [[ 7  8  9]\n",
      "  [10 11 12]]]\n"
     ]
    }
   ],
   "source": [
    "# Untuk mengetahui data yang paling besar/maksimum pada array dapat menggunakan \"np.max\"\n",
    "\n",
    "A = np.array([3,6,7,3,6,1,5,7,2,3,7,9,2,8,3])\n",
    "B = np.array([[1,2,3],[4,5,6]])\n",
    "C = np.array([[[1,2,3],[4,5,6]],[[7,8,9],[10,11,12]]])\n",
    "\n",
    "\n",
    "print(A)\n",
    "print(B)\n",
    "print(C)"
   ]
  },
  {
   "cell_type": "code",
   "execution_count": 11,
   "id": "cdc33bde",
   "metadata": {},
   "outputs": [
    {
     "name": "stdout",
     "output_type": "stream",
     "text": [
      "[3 6 7 3 6 1 5 7 2 3 7 9 2 8 3]\n"
     ]
    },
    {
     "data": {
      "text/plain": [
       "9"
      ]
     },
     "execution_count": 11,
     "metadata": {},
     "output_type": "execute_result"
    }
   ],
   "source": [
    "print(A)\n",
    "\n",
    "np.max(A)"
   ]
  },
  {
   "cell_type": "code",
   "execution_count": 42,
   "id": "60a1bbb0",
   "metadata": {},
   "outputs": [
    {
     "name": "stdout",
     "output_type": "stream",
     "text": [
      "[[1 2 3]\n",
      " [4 5 6]]\n"
     ]
    },
    {
     "data": {
      "text/plain": [
       "3"
      ]
     },
     "execution_count": 42,
     "metadata": {},
     "output_type": "execute_result"
    }
   ],
   "source": [
    "print(B)\n",
    "\n",
    "np.max(B[0])"
   ]
  },
  {
   "cell_type": "code",
   "execution_count": 43,
   "id": "031479fa",
   "metadata": {},
   "outputs": [
    {
     "name": "stdout",
     "output_type": "stream",
     "text": [
      "[[[ 1  2  3]\n",
      "  [ 4  5  6]]\n",
      "\n",
      " [[ 7  8  9]\n",
      "  [10 11 12]]]\n"
     ]
    },
    {
     "data": {
      "text/plain": [
       "6"
      ]
     },
     "execution_count": 43,
     "metadata": {},
     "output_type": "execute_result"
    }
   ],
   "source": [
    "print(C)\n",
    "\n",
    "np.max(C[0,1])"
   ]
  },
  {
   "cell_type": "markdown",
   "id": "de42bbef",
   "metadata": {},
   "source": [
    "## 3. Sum"
   ]
  },
  {
   "cell_type": "code",
   "execution_count": 44,
   "id": "d776d005",
   "metadata": {},
   "outputs": [
    {
     "name": "stdout",
     "output_type": "stream",
     "text": [
      "[3 6 7 3 6 1 5 7 2 3 7 9 2 8 3]\n",
      "[[1 2 3]\n",
      " [4 5 6]]\n",
      "[[[ 1  2  3]\n",
      "  [ 4  5  6]]\n",
      "\n",
      " [[ 7  8  9]\n",
      "  [10 11 12]]]\n"
     ]
    }
   ],
   "source": [
    "# Untuk menjumlahkan seluruh elemen pada array dapat menggunakan \"np.sum\"\n",
    "# Hanya akan menjumlahkan data dengan tipe numerik saja\n",
    "\n",
    "A = np.array([3,6,7,3,6,1,5,7,2,3,7,9,2,8,3])\n",
    "B = np.array([[1,2,3],[4,5,6]])\n",
    "C = np.array([[[1,2,3],[4,5,6]],[[7,8,9],[10,11,12]]])\n",
    "\n",
    "\n",
    "print(A)\n",
    "print(B)\n",
    "print(C)"
   ]
  },
  {
   "cell_type": "code",
   "execution_count": 49,
   "id": "64b4d3e5",
   "metadata": {},
   "outputs": [
    {
     "name": "stdout",
     "output_type": "stream",
     "text": [
      "[3 6 7 3 6 1 5 7 2 3 7 9 2 8 3]\n"
     ]
    },
    {
     "data": {
      "text/plain": [
       "72"
      ]
     },
     "execution_count": 49,
     "metadata": {},
     "output_type": "execute_result"
    }
   ],
   "source": [
    "print(A)\n",
    "\n",
    "np.sum(A)"
   ]
  },
  {
   "cell_type": "code",
   "execution_count": 50,
   "id": "e92dd59c",
   "metadata": {},
   "outputs": [
    {
     "name": "stdout",
     "output_type": "stream",
     "text": [
      "[[1 2 3]\n",
      " [4 5 6]]\n"
     ]
    },
    {
     "data": {
      "text/plain": [
       "6"
      ]
     },
     "execution_count": 50,
     "metadata": {},
     "output_type": "execute_result"
    }
   ],
   "source": [
    "print(B)\n",
    "\n",
    "np.sum(B[0])"
   ]
  },
  {
   "cell_type": "code",
   "execution_count": 51,
   "id": "c40e441d",
   "metadata": {},
   "outputs": [
    {
     "name": "stdout",
     "output_type": "stream",
     "text": [
      "[[[ 1  2  3]\n",
      "  [ 4  5  6]]\n",
      "\n",
      " [[ 7  8  9]\n",
      "  [10 11 12]]]\n"
     ]
    },
    {
     "data": {
      "text/plain": [
       "24"
      ]
     },
     "execution_count": 51,
     "metadata": {},
     "output_type": "execute_result"
    }
   ],
   "source": [
    "print(C)\n",
    "\n",
    "np.sum(C[1,0])"
   ]
  },
  {
   "cell_type": "markdown",
   "id": "6205cb4a",
   "metadata": {},
   "source": [
    "## 4. Mean (Rata - Rata)"
   ]
  },
  {
   "cell_type": "code",
   "execution_count": 30,
   "id": "c13c3813",
   "metadata": {},
   "outputs": [
    {
     "name": "stdout",
     "output_type": "stream",
     "text": [
      "[3 6 7 3 6 1 5 7 2 3 7 9 2 8 3]\n",
      "[[1 2 3]\n",
      " [4 5 6]]\n"
     ]
    }
   ],
   "source": [
    "# Rata-rata atau mean adalah salah satu ukuran pusat yang nilainya diperoleh dengan cara menjumlahkan semua nilai titik data yang ada lalu dibagi oleh jumlah data. \n",
    "# Untuk menghitung rata - rata sebuah data, maka dapat menggunakan \"np.mean\"\n",
    "\n",
    "A = np.array([3,6,7,3,6,1,5,7,2,3,7,9,2,8,3])\n",
    "B = np.array([[1,2,3],[4,5,6]])\n",
    "C = np.array([[[1,2,3],[4,5,6]],[[7,8,9],[10,11,12]]])\n",
    "\n",
    "print(A)\n",
    "print(B)"
   ]
  },
  {
   "cell_type": "code",
   "execution_count": 52,
   "id": "78eb757c",
   "metadata": {},
   "outputs": [
    {
     "name": "stdout",
     "output_type": "stream",
     "text": [
      "[3 6 7 3 6 1 5 7 2 3 7 9 2 8 3]\n"
     ]
    },
    {
     "data": {
      "text/plain": [
       "4.8"
      ]
     },
     "execution_count": 52,
     "metadata": {},
     "output_type": "execute_result"
    }
   ],
   "source": [
    "print(A)\n",
    "\n",
    "np.mean(A)"
   ]
  },
  {
   "cell_type": "code",
   "execution_count": 53,
   "id": "1931b1c1",
   "metadata": {},
   "outputs": [
    {
     "name": "stdout",
     "output_type": "stream",
     "text": [
      "[[1 2 3]\n",
      " [4 5 6]]\n"
     ]
    },
    {
     "data": {
      "text/plain": [
       "5.0"
      ]
     },
     "execution_count": 53,
     "metadata": {},
     "output_type": "execute_result"
    }
   ],
   "source": [
    "print(B)\n",
    "\n",
    "np.mean(B[1])"
   ]
  },
  {
   "cell_type": "code",
   "execution_count": 54,
   "id": "4c187b8c",
   "metadata": {},
   "outputs": [
    {
     "name": "stdout",
     "output_type": "stream",
     "text": [
      "[[[ 1  2  3]\n",
      "  [ 4  5  6]]\n",
      "\n",
      " [[ 7  8  9]\n",
      "  [10 11 12]]]\n"
     ]
    },
    {
     "data": {
      "text/plain": [
       "2.0"
      ]
     },
     "execution_count": 54,
     "metadata": {},
     "output_type": "execute_result"
    }
   ],
   "source": [
    "print(C)\n",
    "np.mean(C[0,0])"
   ]
  },
  {
   "cell_type": "markdown",
   "id": "84fdf30e",
   "metadata": {},
   "source": [
    "## 5. Median (Nilai Tengah)"
   ]
  },
  {
   "cell_type": "code",
   "execution_count": 55,
   "id": "d8154d9f",
   "metadata": {},
   "outputs": [
    {
     "name": "stdout",
     "output_type": "stream",
     "text": [
      "[3 6 7 3 6 1 5 7 2 3 7 9 2 8 3]\n",
      "[[1 2 3]\n",
      " [4 5 6]]\n",
      "[[[ 1  2  3]\n",
      "  [ 4  5  6]]\n",
      "\n",
      " [[ 7  8  9]\n",
      "  [10 11 12]]]\n"
     ]
    }
   ],
   "source": [
    "# Median adalah salah satu ukuran pusat yang nilainya terletak di tengah titik data\n",
    "# Untuk menghitung median sebuah data, maka dapat menggunakan \"np.median\"\n",
    "\n",
    "A = np.array([3,6,7,3,6,1,5,7,2,3,7,9,2,8,3])\n",
    "B = np.array([[1,2,3],[4,5,6]])\n",
    "C = np.array([[[1,2,3],[4,5,6]],[[7,8,9],[10,11,12]]])\n",
    "\n",
    "print(A)\n",
    "print(B)\n",
    "print(C)"
   ]
  },
  {
   "cell_type": "code",
   "execution_count": 56,
   "id": "65fd8036",
   "metadata": {},
   "outputs": [
    {
     "name": "stdout",
     "output_type": "stream",
     "text": [
      "[3 6 7 3 6 1 5 7 2 3 7 9 2 8 3]\n"
     ]
    },
    {
     "data": {
      "text/plain": [
       "5.0"
      ]
     },
     "execution_count": 56,
     "metadata": {},
     "output_type": "execute_result"
    }
   ],
   "source": [
    "print(A)\n",
    "\n",
    "np.median(A)"
   ]
  },
  {
   "cell_type": "code",
   "execution_count": 57,
   "id": "82081f24",
   "metadata": {},
   "outputs": [
    {
     "name": "stdout",
     "output_type": "stream",
     "text": [
      "[[1 2 3]\n",
      " [4 5 6]]\n"
     ]
    },
    {
     "data": {
      "text/plain": [
       "5.0"
      ]
     },
     "execution_count": 57,
     "metadata": {},
     "output_type": "execute_result"
    }
   ],
   "source": [
    "print(B)\n",
    "\n",
    "np.median(B[1])"
   ]
  },
  {
   "cell_type": "code",
   "execution_count": 58,
   "id": "53790fbe",
   "metadata": {},
   "outputs": [
    {
     "name": "stdout",
     "output_type": "stream",
     "text": [
      "[[[ 1  2  3]\n",
      "  [ 4  5  6]]\n",
      "\n",
      " [[ 7  8  9]\n",
      "  [10 11 12]]]\n"
     ]
    },
    {
     "data": {
      "text/plain": [
       "9.5"
      ]
     },
     "execution_count": 58,
     "metadata": {},
     "output_type": "execute_result"
    }
   ],
   "source": [
    "print(C)\n",
    "\n",
    "np.median(C[1])"
   ]
  },
  {
   "cell_type": "markdown",
   "id": "1584ff3c",
   "metadata": {},
   "source": [
    "## 6. Modus"
   ]
  },
  {
   "cell_type": "code",
   "execution_count": 63,
   "id": "e56740a6",
   "metadata": {},
   "outputs": [],
   "source": [
    "# Modus didefinisikan sebagai data yang memiliki frekuensi kemunculan terbanyak/terbesar.\n",
    "# Ketika akan mencari sebuah \"modus\", maka harus import beberapa library lain,misalnya 'pandas', 'statistics' \n",
    "# Untuk menghitung modus sebuah data, maka dapat menggunakan \"statistics.mode\"\n",
    "\n",
    "import statistics"
   ]
  },
  {
   "cell_type": "code",
   "execution_count": 84,
   "id": "fc252ec0",
   "metadata": {},
   "outputs": [
    {
     "name": "stdout",
     "output_type": "stream",
     "text": [
      "[3 6 7 3 6 1 5 7 2 3 7 9 2 8 3]\n"
     ]
    }
   ],
   "source": [
    "A = np.array([3,6,7,3,6,1,5,7,2,3,7,9,2,8,3])\n",
    "\n",
    "\n",
    "print(A)\n"
   ]
  },
  {
   "cell_type": "code",
   "execution_count": 77,
   "id": "63211c5f",
   "metadata": {},
   "outputs": [
    {
     "name": "stdout",
     "output_type": "stream",
     "text": [
      "[3 6 7 3 6 1 5 7 2 3 7 9 2 8 3]\n"
     ]
    },
    {
     "data": {
      "text/plain": [
       "3"
      ]
     },
     "execution_count": 77,
     "metadata": {},
     "output_type": "execute_result"
    }
   ],
   "source": [
    "print(A)\n",
    "\n",
    "statistics.mode(A)"
   ]
  },
  {
   "cell_type": "markdown",
   "id": "352a0d13",
   "metadata": {},
   "source": [
    "## 7. Kuantil"
   ]
  },
  {
   "cell_type": "code",
   "execution_count": 85,
   "id": "930fb712",
   "metadata": {},
   "outputs": [
    {
     "name": "stdout",
     "output_type": "stream",
     "text": [
      "[3 6 7 3 6 1 5 7 2 3 7 9 2 8 3]\n",
      "[[1 2 3]\n",
      " [4 5 6]]\n",
      "[[[ 1  2  3]\n",
      "  [ 4  5  6]]\n",
      "\n",
      " [[ 7  8  9]\n",
      "  [10 11 12]]]\n"
     ]
    }
   ],
   "source": [
    "#Kuantil adalah nilai-nilai data yang membagi data yang telah diurutkan sebelumnya menjadi beberapa bagian yang sama besar ukurannya.\n",
    "# Untuk menghitung kuantil sebuah data, maka dapat menggunakan \"np.quantile\"\n",
    "\n",
    "\n",
    "A = np.array([3,6,7,3,6,1,5,7,2,3,7,9,2,8,3])\n",
    "B = np.array([[1,2,3],[4,5,6]])\n",
    "C = np.array([[[1,2,3],[4,5,6]],[[7,8,9],[10,11,12]]])\n",
    "\n",
    "print(A)\n",
    "print(B)\n",
    "print(C)"
   ]
  },
  {
   "cell_type": "code",
   "execution_count": 89,
   "id": "41966133",
   "metadata": {},
   "outputs": [
    {
     "name": "stdout",
     "output_type": "stream",
     "text": [
      "[3 6 7 3 6 1 5 7 2 3 7 9 2 8 3]\n"
     ]
    },
    {
     "data": {
      "text/plain": [
       "7.0"
      ]
     },
     "execution_count": 89,
     "metadata": {},
     "output_type": "execute_result"
    }
   ],
   "source": [
    "print(A)\n",
    "\n",
    "np.quantile(A, .75)"
   ]
  },
  {
   "cell_type": "code",
   "execution_count": 94,
   "id": "a1d6b078",
   "metadata": {},
   "outputs": [
    {
     "name": "stdout",
     "output_type": "stream",
     "text": [
      "[[1 2 3]\n",
      " [4 5 6]]\n"
     ]
    },
    {
     "data": {
      "text/plain": [
       "1.5"
      ]
     },
     "execution_count": 94,
     "metadata": {},
     "output_type": "execute_result"
    }
   ],
   "source": [
    "print(B)\n",
    "\n",
    "np.quantile(B[0], .25)"
   ]
  },
  {
   "cell_type": "code",
   "execution_count": 95,
   "id": "9def3e2f",
   "metadata": {},
   "outputs": [
    {
     "name": "stdout",
     "output_type": "stream",
     "text": [
      "[[[ 1  2  3]\n",
      "  [ 4  5  6]]\n",
      "\n",
      " [[ 7  8  9]\n",
      "  [10 11 12]]]\n"
     ]
    },
    {
     "data": {
      "text/plain": [
       "8.0"
      ]
     },
     "execution_count": 95,
     "metadata": {},
     "output_type": "execute_result"
    }
   ],
   "source": [
    "print(C)\n",
    "\n",
    "np.quantile(C[1, 0], .50)"
   ]
  },
  {
   "cell_type": "markdown",
   "id": "c420602c",
   "metadata": {},
   "source": [
    "## 8. Varians"
   ]
  },
  {
   "cell_type": "code",
   "execution_count": 106,
   "id": "9a76ab7f",
   "metadata": {},
   "outputs": [
    {
     "name": "stdout",
     "output_type": "stream",
     "text": [
      "[3 6 7 3 6 1 5 7 2 3 7 9 2 8 3]\n",
      "[[1 2 3]\n",
      " [4 5 6]]\n",
      "[[[ 1  2  3]\n",
      "  [ 4  5  6]]\n",
      "\n",
      " [[ 7  8  9]\n",
      "  [10 11 12]]]\n"
     ]
    }
   ],
   "source": [
    "# Variansi adalah ukuran sebaran pusat yang diperoleh dengan cara menghitung jarak antara tiap titik data pada sampel atau populasi dengan nilai mean.\n",
    "# Untuk menghitung variab sebuah data, maka dapat menggunakan \"np.var\"\n",
    "\n",
    "\n",
    "A = np.array([3,6,7,3,6,1,5,7,2,3,7,9,2,8,3])\n",
    "B = np.array([[1,2,3],[4,5,6]])\n",
    "C = np.array([[[1,2,3],[4,5,6]],[[7,8,9],[10,11,12]]])\n",
    "\n",
    "print(A)\n",
    "print(B)\n",
    "print(C)"
   ]
  },
  {
   "cell_type": "code",
   "execution_count": 98,
   "id": "9ab195f5",
   "metadata": {},
   "outputs": [
    {
     "name": "stdout",
     "output_type": "stream",
     "text": [
      "[3 6 7 3 6 1 5 7 2 3 7 9 2 8 3]\n"
     ]
    },
    {
     "data": {
      "text/plain": [
       "5.893333333333333"
      ]
     },
     "execution_count": 98,
     "metadata": {},
     "output_type": "execute_result"
    }
   ],
   "source": [
    "print(A)\n",
    "\n",
    "np.var(A)"
   ]
  },
  {
   "cell_type": "code",
   "execution_count": 109,
   "id": "c7304e85",
   "metadata": {},
   "outputs": [
    {
     "name": "stdout",
     "output_type": "stream",
     "text": [
      "[[1 2 3]\n",
      " [4 5 6]]\n"
     ]
    },
    {
     "data": {
      "text/plain": [
       "0.6666666666666666"
      ]
     },
     "execution_count": 109,
     "metadata": {},
     "output_type": "execute_result"
    }
   ],
   "source": [
    "print(B)\n",
    "\n",
    "np.var(B[1])"
   ]
  },
  {
   "cell_type": "code",
   "execution_count": 110,
   "id": "9b13bda5",
   "metadata": {},
   "outputs": [
    {
     "name": "stdout",
     "output_type": "stream",
     "text": [
      "[[[ 1  2  3]\n",
      "  [ 4  5  6]]\n",
      "\n",
      " [[ 7  8  9]\n",
      "  [10 11 12]]]\n"
     ]
    },
    {
     "data": {
      "text/plain": [
       "2.9166666666666665"
      ]
     },
     "execution_count": 110,
     "metadata": {},
     "output_type": "execute_result"
    }
   ],
   "source": [
    "print(C)\n",
    "\n",
    "np.var(C[1])"
   ]
  },
  {
   "cell_type": "markdown",
   "id": "af4a858d",
   "metadata": {},
   "source": [
    "## 9. Standar Deviation"
   ]
  },
  {
   "cell_type": "code",
   "execution_count": 116,
   "id": "49c61993",
   "metadata": {},
   "outputs": [
    {
     "name": "stdout",
     "output_type": "stream",
     "text": [
      "[3 6 7 3 6 1 5 7 2 3 7 9 2 8 3]\n",
      "[[1 2 3]\n",
      " [4 5 6]]\n",
      "[[[ 1  2  3]\n",
      "  [ 4  5  6]]\n",
      "\n",
      " [[ 7  8  9]\n",
      "  [10 11 12]]]\n"
     ]
    }
   ],
   "source": [
    "# Standar Deviasi adalah ukuran sebaran pusat yang diperoleh dengan cara menarik akar kuadrat dari hasil perhitungan variansi.\n",
    "# Untuk menghitung standar deviasi sebuah data, maka dapat menggunakan \"np.std\"\n",
    "\n",
    "\n",
    "A = np.array([3,6,7,3,6,1,5,7,2,3,7,9,2,8,3])\n",
    "B = np.array([[1,2,3],[4,5,6]])\n",
    "C = np.array([[[1,2,3],[4,5,6]],[[7,8,9],[10,11,12]]])\n",
    "\n",
    "print(A)\n",
    "print(B)\n",
    "print(C)"
   ]
  },
  {
   "cell_type": "code",
   "execution_count": 114,
   "id": "b4a3e426",
   "metadata": {},
   "outputs": [
    {
     "name": "stdout",
     "output_type": "stream",
     "text": [
      "[3 6 7 3 6 1 5 7 2 3 7 9 2 8 3]\n"
     ]
    },
    {
     "data": {
      "text/plain": [
       "2.4276188608044165"
      ]
     },
     "execution_count": 114,
     "metadata": {},
     "output_type": "execute_result"
    }
   ],
   "source": [
    "print(A)\n",
    "\n",
    "np.std(A)"
   ]
  },
  {
   "cell_type": "code",
   "execution_count": 113,
   "id": "1200a7ad",
   "metadata": {},
   "outputs": [
    {
     "name": "stdout",
     "output_type": "stream",
     "text": [
      "[[1 2 3]\n",
      " [4 5 6]]\n"
     ]
    },
    {
     "data": {
      "text/plain": [
       "0.816496580927726"
      ]
     },
     "execution_count": 113,
     "metadata": {},
     "output_type": "execute_result"
    }
   ],
   "source": [
    "print(B)\n",
    "\n",
    "np.std(B[1])"
   ]
  },
  {
   "cell_type": "code",
   "execution_count": 115,
   "id": "60c5d52f",
   "metadata": {},
   "outputs": [
    {
     "name": "stdout",
     "output_type": "stream",
     "text": [
      "[[[ 1  2  3]\n",
      "  [ 4  5  6]]\n",
      "\n",
      " [[ 7  8  9]\n",
      "  [10 11 12]]]\n"
     ]
    },
    {
     "data": {
      "text/plain": [
       "1.707825127659933"
      ]
     },
     "execution_count": 115,
     "metadata": {},
     "output_type": "execute_result"
    }
   ],
   "source": [
    "print(C)\n",
    "\n",
    "np.std(C[1])"
   ]
  },
  {
   "cell_type": "code",
   "execution_count": null,
   "id": "0cccd411",
   "metadata": {},
   "outputs": [],
   "source": []
  }
 ],
 "metadata": {
  "kernelspec": {
   "display_name": "Python 3 (ipykernel)",
   "language": "python",
   "name": "python3"
  },
  "language_info": {
   "codemirror_mode": {
    "name": "ipython",
    "version": 3
   },
   "file_extension": ".py",
   "mimetype": "text/x-python",
   "name": "python",
   "nbconvert_exporter": "python",
   "pygments_lexer": "ipython3",
   "version": "3.10.8"
  }
 },
 "nbformat": 4,
 "nbformat_minor": 5
}
