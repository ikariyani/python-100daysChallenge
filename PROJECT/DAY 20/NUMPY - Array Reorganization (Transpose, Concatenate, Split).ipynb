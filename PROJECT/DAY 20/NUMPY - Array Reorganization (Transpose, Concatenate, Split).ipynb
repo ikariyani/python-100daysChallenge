{
 "cells": [
  {
   "cell_type": "markdown",
   "id": "896a0825",
   "metadata": {},
   "source": [
    "| <img src=\"https://upload.wikimedia.org/wikipedia/commons/f/f8/Python_logo_and_wordmark.svg\" style=\"height:100px\"> | <img src=\"https://upload.wikimedia.org/wikipedia/commons/thumb/3/31/NumPy_logo_2020.svg/2560px-NumPy_logo_2020.svg.png\" style=\"height:150px\"> |\n",
    "| --- | --- |\n",
    "\n",
    "# NUMPY - Array Reorganization | Transpose, Concatenate, Split"
   ]
  },
  {
   "cell_type": "code",
   "execution_count": 1,
   "id": "b08f25f9",
   "metadata": {},
   "outputs": [],
   "source": [
    "import numpy as np"
   ]
  },
  {
   "cell_type": "markdown",
   "id": "4f7cd0c0",
   "metadata": {},
   "source": [
    "## 1. Transpose\n",
    "\n",
    "Transpose array merupakan salah satu pembentukan kembali array."
   ]
  },
  {
   "cell_type": "markdown",
   "id": "94caa66e",
   "metadata": {},
   "source": [
    "### A. Transpose 1-D Array"
   ]
  },
  {
   "cell_type": "code",
   "execution_count": 4,
   "id": "b7558949",
   "metadata": {},
   "outputs": [
    {
     "name": "stdout",
     "output_type": "stream",
     "text": [
      "[3 6 7 3 6 1 5 7 2 3 7 9 2 8 3]\n"
     ]
    },
    {
     "data": {
      "text/plain": [
       "array([3, 6, 7, 3, 6, 1, 5, 7, 2, 3, 7, 9, 2, 8, 3])"
      ]
     },
     "execution_count": 4,
     "metadata": {},
     "output_type": "execute_result"
    }
   ],
   "source": [
    "A = np.array([3,6,7,3,6,1,5,7,2,3,7,9,2,8,3])\n",
    "\n",
    "print(A)\n",
    "np.transpose(A)"
   ]
  },
  {
   "cell_type": "markdown",
   "id": "7960c25c",
   "metadata": {},
   "source": [
    "### B. Transpose 2-D Array"
   ]
  },
  {
   "cell_type": "code",
   "execution_count": 5,
   "id": "0c3d44e0",
   "metadata": {},
   "outputs": [
    {
     "name": "stdout",
     "output_type": "stream",
     "text": [
      "[[1 2 3]\n",
      " [4 5 6]]\n"
     ]
    },
    {
     "data": {
      "text/plain": [
       "array([[1, 4],\n",
       "       [2, 5],\n",
       "       [3, 6]])"
      ]
     },
     "execution_count": 5,
     "metadata": {},
     "output_type": "execute_result"
    }
   ],
   "source": [
    "B = np.array([[1,2,3],[4,5,6]])\n",
    "\n",
    "print(B)\n",
    "np.transpose(B)"
   ]
  },
  {
   "cell_type": "markdown",
   "id": "20842386",
   "metadata": {},
   "source": [
    "### C. Transpose 3-D Array"
   ]
  },
  {
   "cell_type": "code",
   "execution_count": 6,
   "id": "febf56ef",
   "metadata": {},
   "outputs": [
    {
     "name": "stdout",
     "output_type": "stream",
     "text": [
      "[[[ 1  2  3]\n",
      "  [ 4  5  6]]\n",
      "\n",
      " [[ 7  8  9]\n",
      "  [10 11 12]]]\n"
     ]
    },
    {
     "data": {
      "text/plain": [
       "array([[[ 1,  7],\n",
       "        [ 4, 10]],\n",
       "\n",
       "       [[ 2,  8],\n",
       "        [ 5, 11]],\n",
       "\n",
       "       [[ 3,  9],\n",
       "        [ 6, 12]]])"
      ]
     },
     "execution_count": 6,
     "metadata": {},
     "output_type": "execute_result"
    }
   ],
   "source": [
    "C = np.array([[[1,2,3],[4,5,6]],[[7,8,9],[10,11,12]]])\n",
    "\n",
    "print(C)\n",
    "np.transpose(C)"
   ]
  },
  {
   "cell_type": "markdown",
   "id": "2b89fb46",
   "metadata": {},
   "source": [
    "## 2. Concatenate\n",
    "\n",
    "Concatenate merupakan fungsi pada NumPy untuk menggabungkan array"
   ]
  },
  {
   "cell_type": "markdown",
   "id": "bff99a6f",
   "metadata": {},
   "source": [
    "### A. Concatenate 1-D Array"
   ]
  },
  {
   "cell_type": "code",
   "execution_count": 10,
   "id": "c1358c90",
   "metadata": {},
   "outputs": [
    {
     "name": "stdout",
     "output_type": "stream",
     "text": [
      "[3 6 7 3 6 1 5 7 2 3 7 9 2 8 3]\n",
      "[10 34 29  4]\n"
     ]
    },
    {
     "data": {
      "text/plain": [
       "array([ 3,  6,  7,  3,  6,  1,  5,  7,  2,  3,  7,  9,  2,  8,  3, 10, 34,\n",
       "       29,  4])"
      ]
     },
     "execution_count": 10,
     "metadata": {},
     "output_type": "execute_result"
    }
   ],
   "source": [
    "A = np.array([3,6,7,3,6,1,5,7,2,3,7,9,2,8,3])\n",
    "D = np.array([10,34,29,4])\n",
    "\n",
    "print(A)\n",
    "print(D)\n",
    "np.concatenate((A,D))"
   ]
  },
  {
   "cell_type": "markdown",
   "id": "43da5dc8",
   "metadata": {},
   "source": [
    "### B. Concatenate 2-D Array"
   ]
  },
  {
   "cell_type": "code",
   "execution_count": 13,
   "id": "d6ad9980",
   "metadata": {},
   "outputs": [
    {
     "name": "stdout",
     "output_type": "stream",
     "text": [
      "[[1 2 3]\n",
      " [4 5 6]]\n",
      "[[10 12 58]\n",
      " [98 74 24]]\n"
     ]
    },
    {
     "data": {
      "text/plain": [
       "array([[ 1,  2,  3, 10, 12, 58],\n",
       "       [ 4,  5,  6, 98, 74, 24]])"
      ]
     },
     "execution_count": 13,
     "metadata": {},
     "output_type": "execute_result"
    }
   ],
   "source": [
    "B = np.array([[1,2,3],[4,5,6]])\n",
    "E = np.array([[10,12,58],[98,74,24]])\n",
    "\n",
    "print(B)\n",
    "print(E)\n",
    "np.concatenate((B,E), axis = 1)"
   ]
  },
  {
   "cell_type": "code",
   "execution_count": 14,
   "id": "b5202919",
   "metadata": {},
   "outputs": [
    {
     "name": "stdout",
     "output_type": "stream",
     "text": [
      "[[1 2 3]\n",
      " [4 5 6]]\n",
      "[[10 12 58]\n",
      " [98 74 24]]\n"
     ]
    },
    {
     "data": {
      "text/plain": [
       "array([[ 1,  2,  3],\n",
       "       [ 4,  5,  6],\n",
       "       [10, 12, 58],\n",
       "       [98, 74, 24]])"
      ]
     },
     "execution_count": 14,
     "metadata": {},
     "output_type": "execute_result"
    }
   ],
   "source": [
    "B = np.array([[1,2,3],[4,5,6]])\n",
    "E = np.array([[10,12,58],[98,74,24]])\n",
    "\n",
    "print(B)\n",
    "print(E)\n",
    "np.concatenate((B,E), axis = 0)"
   ]
  },
  {
   "cell_type": "code",
   "execution_count": 29,
   "id": "274db21d",
   "metadata": {},
   "outputs": [
    {
     "data": {
      "text/plain": [
       "array([ 1,  2,  3,  4,  5,  6, 10, 12, 58, 98, 74, 24])"
      ]
     },
     "execution_count": 29,
     "metadata": {},
     "output_type": "execute_result"
    }
   ],
   "source": [
    "np.concatenate((B,E), axis = None)"
   ]
  },
  {
   "cell_type": "markdown",
   "id": "31ad9475",
   "metadata": {},
   "source": [
    "### C. Concatenate 3-D Array"
   ]
  },
  {
   "cell_type": "code",
   "execution_count": 17,
   "id": "8a15dc99",
   "metadata": {},
   "outputs": [
    {
     "name": "stdout",
     "output_type": "stream",
     "text": [
      "[[[ 1  2  3]\n",
      "  [ 4  5  6]]\n",
      "\n",
      " [[ 7  8  9]\n",
      "  [10 11 12]]]\n",
      "[[[98 39 24]\n",
      "  [44 90 83]]\n",
      "\n",
      " [[43 23 66]\n",
      "  [56 34 67]]]\n"
     ]
    },
    {
     "data": {
      "text/plain": [
       "array([[[ 1,  2,  3],\n",
       "        [ 4,  5,  6],\n",
       "        [98, 39, 24],\n",
       "        [44, 90, 83]],\n",
       "\n",
       "       [[ 7,  8,  9],\n",
       "        [10, 11, 12],\n",
       "        [43, 23, 66],\n",
       "        [56, 34, 67]]])"
      ]
     },
     "execution_count": 17,
     "metadata": {},
     "output_type": "execute_result"
    }
   ],
   "source": [
    "C = np.array([[[1,2,3],[4,5,6]],[[7,8,9],[10,11,12]]])\n",
    "F = np.array([[[98,39,24],[44,90,83]], [[43,23,66],[56,34,67]]])\n",
    "\n",
    "print(C)\n",
    "print(F)\n",
    "np.concatenate((C,F), axis = 1)"
   ]
  },
  {
   "cell_type": "code",
   "execution_count": 18,
   "id": "62208fe6",
   "metadata": {},
   "outputs": [
    {
     "name": "stdout",
     "output_type": "stream",
     "text": [
      "[[[ 1  2  3]\n",
      "  [ 4  5  6]]\n",
      "\n",
      " [[ 7  8  9]\n",
      "  [10 11 12]]]\n",
      "[[[98 39 24]\n",
      "  [44 90 83]]\n",
      "\n",
      " [[43 23 66]\n",
      "  [56 34 67]]]\n"
     ]
    },
    {
     "data": {
      "text/plain": [
       "array([[[ 1,  2,  3],\n",
       "        [ 4,  5,  6]],\n",
       "\n",
       "       [[ 7,  8,  9],\n",
       "        [10, 11, 12]],\n",
       "\n",
       "       [[98, 39, 24],\n",
       "        [44, 90, 83]],\n",
       "\n",
       "       [[43, 23, 66],\n",
       "        [56, 34, 67]]])"
      ]
     },
     "execution_count": 18,
     "metadata": {},
     "output_type": "execute_result"
    }
   ],
   "source": [
    "C = np.array([[[1,2,3],[4,5,6]],[[7,8,9],[10,11,12]]])\n",
    "F = np.array([[[98,39,24],[44,90,83]], [[43,23,66],[56,34,67]]])\n",
    "\n",
    "print(C)\n",
    "print(F)\n",
    "np.concatenate((C,F), axis = 0)"
   ]
  },
  {
   "cell_type": "code",
   "execution_count": 21,
   "id": "4cedea83",
   "metadata": {},
   "outputs": [
    {
     "data": {
      "text/plain": [
       "array([[ 1,  2,  3],\n",
       "       [ 4,  5,  6],\n",
       "       [ 7,  8,  9],\n",
       "       [10, 11, 12]])"
      ]
     },
     "execution_count": 21,
     "metadata": {},
     "output_type": "execute_result"
    }
   ],
   "source": [
    "np.concatenate(C)"
   ]
  },
  {
   "cell_type": "code",
   "execution_count": 22,
   "id": "9326b1f1",
   "metadata": {},
   "outputs": [
    {
     "data": {
      "text/plain": [
       "array([[98, 39, 24],\n",
       "       [44, 90, 83],\n",
       "       [43, 23, 66],\n",
       "       [56, 34, 67]])"
      ]
     },
     "execution_count": 22,
     "metadata": {},
     "output_type": "execute_result"
    }
   ],
   "source": [
    "np.concatenate(F)"
   ]
  },
  {
   "cell_type": "code",
   "execution_count": 28,
   "id": "90a5f043",
   "metadata": {},
   "outputs": [
    {
     "data": {
      "text/plain": [
       "array([ 1,  2,  3,  4,  5,  6,  7,  8,  9, 10, 11, 12, 98, 39, 24, 44, 90,\n",
       "       83, 43, 23, 66, 56, 34, 67])"
      ]
     },
     "execution_count": 28,
     "metadata": {},
     "output_type": "execute_result"
    }
   ],
   "source": [
    "np.concatenate((C,F), axis = None)"
   ]
  },
  {
   "cell_type": "markdown",
   "id": "c5130a40",
   "metadata": {},
   "source": [
    "## 3. Split\n",
    "\n",
    "Fungsi Split digunakan untuk melakukan proses pembagian elemen dari suatu array. Array akan dibagi menjadi N array (sesuai dengan jumlah yang telah ditentukan oleh pengguna) secara sama rata."
   ]
  },
  {
   "cell_type": "markdown",
   "id": "78cb6bc7",
   "metadata": {},
   "source": [
    "### A. Split 1-D Array"
   ]
  },
  {
   "cell_type": "code",
   "execution_count": 30,
   "id": "f2095f5e",
   "metadata": {},
   "outputs": [
    {
     "name": "stdout",
     "output_type": "stream",
     "text": [
      "[3 6 7 3 6 1 5 7 2 3 7 9 2 8 3]\n"
     ]
    },
    {
     "data": {
      "text/plain": [
       "[array([3, 6, 7]),\n",
       " array([3, 6, 1]),\n",
       " array([5, 7, 2]),\n",
       " array([3, 7, 9]),\n",
       " array([2, 8, 3])]"
      ]
     },
     "execution_count": 30,
     "metadata": {},
     "output_type": "execute_result"
    }
   ],
   "source": [
    "A = np.array([3,6,7,3,6,1,5,7,2,3,7,9,2,8,3])\n",
    "\n",
    "print(A)\n",
    "np.split(A,5)"
   ]
  },
  {
   "cell_type": "markdown",
   "id": "2468ef76",
   "metadata": {},
   "source": [
    "### B. Split 2-D Array"
   ]
  },
  {
   "cell_type": "code",
   "execution_count": 31,
   "id": "d6619490",
   "metadata": {},
   "outputs": [
    {
     "name": "stdout",
     "output_type": "stream",
     "text": [
      "[[1 2 3]\n",
      " [4 5 6]]\n"
     ]
    },
    {
     "data": {
      "text/plain": [
       "[array([[1, 2, 3]]), array([[4, 5, 6]])]"
      ]
     },
     "execution_count": 31,
     "metadata": {},
     "output_type": "execute_result"
    }
   ],
   "source": [
    "B = np.array([[1,2,3],[4,5,6]])\n",
    "\n",
    "print(B)\n",
    "np.split(B, 2)"
   ]
  },
  {
   "cell_type": "markdown",
   "id": "73202107",
   "metadata": {},
   "source": [
    "### C. Split 3-D Array"
   ]
  },
  {
   "cell_type": "code",
   "execution_count": 47,
   "id": "0f12a4d5",
   "metadata": {},
   "outputs": [
    {
     "name": "stdout",
     "output_type": "stream",
     "text": [
      "[[[ 1  2  3]\n",
      "  [ 4  5  6]]\n",
      "\n",
      " [[ 7  8  9]\n",
      "  [10 11 12]]]\n"
     ]
    },
    {
     "data": {
      "text/plain": [
       "[array([[[1, 2, 3],\n",
       "         [4, 5, 6]]]),\n",
       " array([[[ 7,  8,  9],\n",
       "         [10, 11, 12]]]),\n",
       " array([], shape=(0, 2, 3), dtype=int32),\n",
       " array([], shape=(0, 2, 3), dtype=int32)]"
      ]
     },
     "execution_count": 47,
     "metadata": {},
     "output_type": "execute_result"
    }
   ],
   "source": [
    "C = np.array([[[1,2,3],[4,5,6]],[[7,8,9],[10,11,12]]])\n",
    "\n",
    "print(C)\n",
    "np.array_split(C, 4)"
   ]
  },
  {
   "cell_type": "code",
   "execution_count": null,
   "id": "ec7a4d7f",
   "metadata": {},
   "outputs": [],
   "source": []
  }
 ],
 "metadata": {
  "kernelspec": {
   "display_name": "Python 3 (ipykernel)",
   "language": "python",
   "name": "python3"
  },
  "language_info": {
   "codemirror_mode": {
    "name": "ipython",
    "version": 3
   },
   "file_extension": ".py",
   "mimetype": "text/x-python",
   "name": "python",
   "nbconvert_exporter": "python",
   "pygments_lexer": "ipython3",
   "version": "3.10.8"
  }
 },
 "nbformat": 4,
 "nbformat_minor": 5
}
