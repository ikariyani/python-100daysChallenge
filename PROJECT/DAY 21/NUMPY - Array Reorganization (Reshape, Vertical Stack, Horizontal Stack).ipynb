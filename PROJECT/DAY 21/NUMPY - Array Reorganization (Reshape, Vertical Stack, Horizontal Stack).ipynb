{
 "cells": [
  {
   "cell_type": "markdown",
   "id": "cdddeff7",
   "metadata": {},
   "source": [
    "| <img src=\"https://upload.wikimedia.org/wikipedia/commons/f/f8/Python_logo_and_wordmark.svg\" style=\"height:100px\"> | <img src=\"https://upload.wikimedia.org/wikipedia/commons/thumb/3/31/NumPy_logo_2020.svg/2560px-NumPy_logo_2020.svg.png\" style=\"height:150px\"> |\n",
    "| --- | --- |\n",
    "\n",
    "\n",
    "\n",
    "# NUMPY - Array Reorganization | Reshape, Vertical Stack, Horizontal Stack"
   ]
  },
  {
   "cell_type": "code",
   "execution_count": 1,
   "id": "7e69cec7",
   "metadata": {},
   "outputs": [],
   "source": [
    "import numpy as np"
   ]
  },
  {
   "cell_type": "markdown",
   "id": "e0888020",
   "metadata": {},
   "source": [
    "## 1. Reshape\n",
    "\n",
    "Reshape merupakan salah satu teknik untuk mengubah bentuk matriks. Pada fungsi \"reshape\" hanya ukurannya yang dibalik, bukan matriksnya. Reshape bisa dilakukan untuk semua bentuk matriks, selama dimensi array memenuhi."
   ]
  },
  {
   "cell_type": "markdown",
   "id": "96644981",
   "metadata": {},
   "source": [
    "### A. Reshape 1-D Array to  2-D Array"
   ]
  },
  {
   "cell_type": "code",
   "execution_count": 12,
   "id": "f7fcfa95",
   "metadata": {},
   "outputs": [
    {
     "name": "stdout",
     "output_type": "stream",
     "text": [
      "[3 6 7 3 6 1 5 7 2 3 7 9 2 8 3]\n"
     ]
    },
    {
     "data": {
      "text/plain": [
       "array([[3, 6, 7],\n",
       "       [3, 6, 1],\n",
       "       [5, 7, 2],\n",
       "       [3, 7, 9],\n",
       "       [2, 8, 3]])"
      ]
     },
     "execution_count": 12,
     "metadata": {},
     "output_type": "execute_result"
    }
   ],
   "source": [
    "A = np.array([3,6,7,3,6,1,5,7,2,3,7,9,2,8,3])\n",
    "\n",
    "print(A)\n",
    "A.reshape(5,3)"
   ]
  },
  {
   "cell_type": "code",
   "execution_count": 13,
   "id": "bc4e7f00",
   "metadata": {},
   "outputs": [
    {
     "name": "stdout",
     "output_type": "stream",
     "text": [
      "[3 6 7 3 6 1 5 7 2 3 7 9 2 8 3 8]\n"
     ]
    },
    {
     "data": {
      "text/plain": [
       "array([[3, 6, 7, 3],\n",
       "       [6, 1, 5, 7],\n",
       "       [2, 3, 7, 9],\n",
       "       [2, 8, 3, 8]])"
      ]
     },
     "execution_count": 13,
     "metadata": {},
     "output_type": "execute_result"
    }
   ],
   "source": [
    "A = np.array([3,6,7,3,6,1,5,7,2,3,7,9,2,8,3,8])\n",
    "\n",
    "print(A)\n",
    "A.reshape(4,4)"
   ]
  },
  {
   "cell_type": "markdown",
   "id": "7e604204",
   "metadata": {},
   "source": [
    "### B. Reshape 1-D Array to 3-D Array"
   ]
  },
  {
   "cell_type": "code",
   "execution_count": 17,
   "id": "6bdff52c",
   "metadata": {},
   "outputs": [
    {
     "name": "stdout",
     "output_type": "stream",
     "text": [
      "[3 6 7 3 6 1 5 7 2 3 7 9 2 8 3 8]\n"
     ]
    },
    {
     "data": {
      "text/plain": [
       "array([[[3, 6],\n",
       "        [7, 3],\n",
       "        [6, 1],\n",
       "        [5, 7]],\n",
       "\n",
       "       [[2, 3],\n",
       "        [7, 9],\n",
       "        [2, 8],\n",
       "        [3, 8]]])"
      ]
     },
     "execution_count": 17,
     "metadata": {},
     "output_type": "execute_result"
    }
   ],
   "source": [
    "A = np.array([3,6,7,3,6,1,5,7,2,3,7,9,2,8,3,8])\n",
    "\n",
    "print(A)\n",
    "A.reshape(2,4,2)"
   ]
  },
  {
   "cell_type": "code",
   "execution_count": 20,
   "id": "ca97cf8e",
   "metadata": {},
   "outputs": [
    {
     "name": "stdout",
     "output_type": "stream",
     "text": [
      "[3 6 7 3 6 1 5 7 2 3 7 9 2 8 3 8]\n"
     ]
    },
    {
     "data": {
      "text/plain": [
       "array([[[3, 6],\n",
       "        [7, 3]],\n",
       "\n",
       "       [[6, 1],\n",
       "        [5, 7]],\n",
       "\n",
       "       [[2, 3],\n",
       "        [7, 9]],\n",
       "\n",
       "       [[2, 8],\n",
       "        [3, 8]]])"
      ]
     },
     "execution_count": 20,
     "metadata": {},
     "output_type": "execute_result"
    }
   ],
   "source": [
    "A = np.array([3,6,7,3,6,1,5,7,2,3,7,9,2,8,3,8])\n",
    "\n",
    "print(A)\n",
    "A.reshape(4,2,2)"
   ]
  },
  {
   "cell_type": "markdown",
   "id": "66cdc334",
   "metadata": {},
   "source": [
    "### C. Reshape 2-D Array to 1-D Array"
   ]
  },
  {
   "cell_type": "code",
   "execution_count": 22,
   "id": "de19ef5d",
   "metadata": {},
   "outputs": [
    {
     "name": "stdout",
     "output_type": "stream",
     "text": [
      "[[1 2 3]\n",
      " [4 5 6]]\n"
     ]
    },
    {
     "data": {
      "text/plain": [
       "array([1, 2, 3, 4, 5, 6])"
      ]
     },
     "execution_count": 22,
     "metadata": {},
     "output_type": "execute_result"
    }
   ],
   "source": [
    "B = np.array([[1,2,3],[4,5,6]])\n",
    "\n",
    "print(B)\n",
    "B.reshape(-1)"
   ]
  },
  {
   "cell_type": "markdown",
   "id": "fcf47911",
   "metadata": {},
   "source": [
    "### D. Reshape 2-D Array to 3-D Array"
   ]
  },
  {
   "cell_type": "code",
   "execution_count": 23,
   "id": "3d9e398b",
   "metadata": {},
   "outputs": [
    {
     "name": "stdout",
     "output_type": "stream",
     "text": [
      "[[1 2 3]\n",
      " [4 5 6]]\n"
     ]
    },
    {
     "data": {
      "text/plain": [
       "array([[[1, 2]],\n",
       "\n",
       "       [[3, 4]],\n",
       "\n",
       "       [[5, 6]]])"
      ]
     },
     "execution_count": 23,
     "metadata": {},
     "output_type": "execute_result"
    }
   ],
   "source": [
    "B = np.array([[1,2,3],[4,5,6]])\n",
    "\n",
    "print(B)\n",
    "B.reshape(3,1,2)"
   ]
  },
  {
   "cell_type": "markdown",
   "id": "d82cdd5c",
   "metadata": {},
   "source": [
    "### E. Reshape 3-D Array to 1-D Array"
   ]
  },
  {
   "cell_type": "code",
   "execution_count": 25,
   "id": "d2377820",
   "metadata": {},
   "outputs": [
    {
     "name": "stdout",
     "output_type": "stream",
     "text": [
      "[[[ 1  2  3]\n",
      "  [ 4  5  6]]\n",
      "\n",
      " [[ 7  8  9]\n",
      "  [10 11 12]]]\n"
     ]
    },
    {
     "data": {
      "text/plain": [
       "array([ 1,  2,  3,  4,  5,  6,  7,  8,  9, 10, 11, 12])"
      ]
     },
     "execution_count": 25,
     "metadata": {},
     "output_type": "execute_result"
    }
   ],
   "source": [
    "C = np.array([[[1,2,3],[4,5,6]],[[7,8,9],[10,11,12]]])\n",
    "\n",
    "print(C)\n",
    "C.reshape(-1)"
   ]
  },
  {
   "cell_type": "markdown",
   "id": "8ff448a6",
   "metadata": {},
   "source": [
    "### F. Reshape 3-D Array to 2-D Array"
   ]
  },
  {
   "cell_type": "code",
   "execution_count": 26,
   "id": "a718a518",
   "metadata": {},
   "outputs": [
    {
     "name": "stdout",
     "output_type": "stream",
     "text": [
      "[[[ 1  2  3]\n",
      "  [ 4  5  6]]\n",
      "\n",
      " [[ 7  8  9]\n",
      "  [10 11 12]]]\n"
     ]
    },
    {
     "data": {
      "text/plain": [
       "array([[ 1,  2,  3],\n",
       "       [ 4,  5,  6],\n",
       "       [ 7,  8,  9],\n",
       "       [10, 11, 12]])"
      ]
     },
     "execution_count": 26,
     "metadata": {},
     "output_type": "execute_result"
    }
   ],
   "source": [
    "C = np.array([[[1,2,3],[4,5,6]],[[7,8,9],[10,11,12]]])\n",
    "\n",
    "print(C)\n",
    "C.reshape(4,3)"
   ]
  },
  {
   "cell_type": "markdown",
   "id": "d55a0ce1",
   "metadata": {},
   "source": [
    "## 2. Vertical Stack\n",
    "\n",
    "Vertikal Stack digunakan untuk menggabungkan array secara vertikal."
   ]
  },
  {
   "cell_type": "markdown",
   "id": "2f28b2e1",
   "metadata": {},
   "source": [
    "### A. Vertical Stack 1-D Array"
   ]
  },
  {
   "cell_type": "code",
   "execution_count": 31,
   "id": "f0c727a2",
   "metadata": {},
   "outputs": [
    {
     "name": "stdout",
     "output_type": "stream",
     "text": [
      "[2 4 6 3 2 7 4 8 4]\n",
      "[7 3 8 6 4 8 5 3 7]\n"
     ]
    },
    {
     "data": {
      "text/plain": [
       "array([[2, 4, 6, 3, 2, 7, 4, 8, 4],\n",
       "       [7, 3, 8, 6, 4, 8, 5, 3, 7]])"
      ]
     },
     "execution_count": 31,
     "metadata": {},
     "output_type": "execute_result"
    }
   ],
   "source": [
    "D = np.array([2,4,6,3,2,7,4,8,4])\n",
    "E = np.array([7,3,8,6,4,8,5,3,7])\n",
    "\n",
    "print(D)\n",
    "print(E)\n",
    "\n",
    "np.vstack((D,E))"
   ]
  },
  {
   "cell_type": "markdown",
   "id": "d79e34d6",
   "metadata": {},
   "source": [
    "### B. Vertical Stack 2-D Array"
   ]
  },
  {
   "cell_type": "code",
   "execution_count": 38,
   "id": "99bfaf82",
   "metadata": {},
   "outputs": [
    {
     "name": "stdout",
     "output_type": "stream",
     "text": [
      "[[1 2 3]\n",
      " [4 5 6]]\n",
      "[[20 48 19]\n",
      " [90 83 92]]\n"
     ]
    },
    {
     "data": {
      "text/plain": [
       "array([[ 1,  2,  3],\n",
       "       [ 4,  5,  6],\n",
       "       [20, 48, 19],\n",
       "       [90, 83, 92]])"
      ]
     },
     "execution_count": 38,
     "metadata": {},
     "output_type": "execute_result"
    }
   ],
   "source": [
    "B = np.array([[1,2,3],[4,5,6]])\n",
    "F = np.array([[20,48,19],[90,83,92]])\n",
    "\n",
    "print(B)\n",
    "print(F)\n",
    "\n",
    "np.vstack((B,F))"
   ]
  },
  {
   "cell_type": "markdown",
   "id": "78016dd5",
   "metadata": {},
   "source": [
    "### C. Vertical Stack 3-D Array"
   ]
  },
  {
   "cell_type": "code",
   "execution_count": 41,
   "id": "9b48af2e",
   "metadata": {},
   "outputs": [
    {
     "name": "stdout",
     "output_type": "stream",
     "text": [
      "[[[ 1  2  3]\n",
      "  [ 4  5  6]]\n",
      "\n",
      " [[ 7  8  9]\n",
      "  [10 11 12]]]\n",
      "[[[83 75 28]\n",
      "  [46 98 22]]\n",
      "\n",
      " [[24 48 29]\n",
      "  [33 70 45]]]\n"
     ]
    },
    {
     "data": {
      "text/plain": [
       "array([[[ 1,  2,  3],\n",
       "        [ 4,  5,  6]],\n",
       "\n",
       "       [[ 7,  8,  9],\n",
       "        [10, 11, 12]],\n",
       "\n",
       "       [[83, 75, 28],\n",
       "        [46, 98, 22]],\n",
       "\n",
       "       [[24, 48, 29],\n",
       "        [33, 70, 45]]])"
      ]
     },
     "execution_count": 41,
     "metadata": {},
     "output_type": "execute_result"
    }
   ],
   "source": [
    "C = np.array([[[1,2,3],[4,5,6]],[[7,8,9],[10,11,12]]])\n",
    "G = np.array([[[83,75,28], [46,98,22]],[[24,48,29],[33,70,45]]])\n",
    "\n",
    "print(C)\n",
    "print(G)\n",
    "\n",
    "np.vstack((C,G))"
   ]
  },
  {
   "cell_type": "markdown",
   "id": "fb9d4204",
   "metadata": {},
   "source": [
    "## 3. Horizontal Stack\n",
    "\n",
    "Vertikal Stack digunakan untuk menggabungkan array secara horizontal."
   ]
  },
  {
   "cell_type": "markdown",
   "id": "fbcf937a",
   "metadata": {},
   "source": [
    "### A. Horizontal Stack 1-D Array"
   ]
  },
  {
   "cell_type": "code",
   "execution_count": 32,
   "id": "c8d6d652",
   "metadata": {},
   "outputs": [
    {
     "name": "stdout",
     "output_type": "stream",
     "text": [
      "[2 4 6 3 2 7 4 8 4]\n",
      "[7 3 8 6 4 8 5 3 7]\n"
     ]
    },
    {
     "data": {
      "text/plain": [
       "array([2, 4, 6, 3, 2, 7, 4, 8, 4, 7, 3, 8, 6, 4, 8, 5, 3, 7])"
      ]
     },
     "execution_count": 32,
     "metadata": {},
     "output_type": "execute_result"
    }
   ],
   "source": [
    "D = np.array([2,4,6,3,2,7,4,8,4])\n",
    "E = np.array([7,3,8,6,4,8,5,3,7])\n",
    "\n",
    "print(D)\n",
    "print(E)\n",
    "\n",
    "np.hstack((D,E))"
   ]
  },
  {
   "cell_type": "code",
   "execution_count": 39,
   "id": "865000f3",
   "metadata": {},
   "outputs": [
    {
     "name": "stdout",
     "output_type": "stream",
     "text": [
      "[[1 2 3]\n",
      " [4 5 6]]\n",
      "[[20 48 19]\n",
      " [90 83 92]]\n"
     ]
    },
    {
     "data": {
      "text/plain": [
       "array([[ 1,  2,  3, 20, 48, 19],\n",
       "       [ 4,  5,  6, 90, 83, 92]])"
      ]
     },
     "execution_count": 39,
     "metadata": {},
     "output_type": "execute_result"
    }
   ],
   "source": [
    "B = np.array([[1,2,3],[4,5,6]])\n",
    "F = np.array([[20,48,19],[90,83,92]])\n",
    "\n",
    "print(B)\n",
    "print(F)\n",
    "\n",
    "np.hstack((B,F))"
   ]
  },
  {
   "cell_type": "code",
   "execution_count": 42,
   "id": "89495a57",
   "metadata": {},
   "outputs": [
    {
     "name": "stdout",
     "output_type": "stream",
     "text": [
      "[[[ 1  2  3]\n",
      "  [ 4  5  6]]\n",
      "\n",
      " [[ 7  8  9]\n",
      "  [10 11 12]]]\n",
      "[[[83 75 28]\n",
      "  [46 98 22]]\n",
      "\n",
      " [[24 48 29]\n",
      "  [33 70 45]]]\n"
     ]
    },
    {
     "data": {
      "text/plain": [
       "array([[[ 1,  2,  3],\n",
       "        [ 4,  5,  6],\n",
       "        [83, 75, 28],\n",
       "        [46, 98, 22]],\n",
       "\n",
       "       [[ 7,  8,  9],\n",
       "        [10, 11, 12],\n",
       "        [24, 48, 29],\n",
       "        [33, 70, 45]]])"
      ]
     },
     "execution_count": 42,
     "metadata": {},
     "output_type": "execute_result"
    }
   ],
   "source": [
    "C = np.array([[[1,2,3],[4,5,6]],[[7,8,9],[10,11,12]]])\n",
    "G = np.array([[[83,75,28], [46,98,22]],[[24,48,29],[33,70,45]]])\n",
    "\n",
    "print(C)\n",
    "print(G)\n",
    "\n",
    "np.hstack((C,G))"
   ]
  },
  {
   "cell_type": "code",
   "execution_count": null,
   "id": "67fd1f75",
   "metadata": {},
   "outputs": [],
   "source": []
  }
 ],
 "metadata": {
  "kernelspec": {
   "display_name": "Python 3 (ipykernel)",
   "language": "python",
   "name": "python3"
  },
  "language_info": {
   "codemirror_mode": {
    "name": "ipython",
    "version": 3
   },
   "file_extension": ".py",
   "mimetype": "text/x-python",
   "name": "python",
   "nbconvert_exporter": "python",
   "pygments_lexer": "ipython3",
   "version": "3.10.8"
  }
 },
 "nbformat": 4,
 "nbformat_minor": 5
}
