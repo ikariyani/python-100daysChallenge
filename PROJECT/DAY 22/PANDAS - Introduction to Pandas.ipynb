{
 "cells": [
  {
   "cell_type": "markdown",
   "id": "2096da07",
   "metadata": {},
   "source": [
    "| <img src=\"https://upload.wikimedia.org/wikipedia/commons/f/f8/Python_logo_and_wordmark.svg\" style=\"height:100px\"> | <img src=\"https://upload.wikimedia.org/wikipedia/commons/e/ed/Pandas_logo.svg\" style=\"height:150px\"> |\n",
    "| --- | --- |\n",
    "\n",
    "# PANDAS - Introduction to Pandas"
   ]
  },
  {
   "cell_type": "markdown",
   "id": "08ee9087",
   "metadata": {},
   "source": [
    "Setelah selesai mempelajari basic Python dan NumPy, maka pada progres belajar selanjutnya adalah mempelajari library lain pada Python yaitu Pandas.\n",
    "Pandas adalah sebuah library di Python yang berlisensi BSD dan open source yang menyediakan struktur data dan analisis data yang mudah digunakan. Pandas biasa digunakan untuk membuat tabel, mengubah dimensi data, mengecek data, dan lain sebagainya. Pandas library sering digunakan karena kemampuannya untuk mengelola data berbentuk tabel (lebih lanjut disebut dengan dataframe) dimana sebagian besar data science project menggunakan data berbasis tabel. Pandas dibuat berdasarkan satu package lain bernama Numpy, yang mendukung arrays multi dimensi. Sebagai salah satu paket kode Python, Pandas juga dapat digunakan secara optimal dengan modul data science yang lain dalam ekosistem Python."
   ]
  },
  {
   "cell_type": "code",
   "execution_count": 1,
   "id": "fa800c2a",
   "metadata": {},
   "outputs": [],
   "source": [
    "# Dalam penggunaan Pandas, hal yang pertama kali dilakukan adalah instal Pandas pada Jupyter Notebook terlebih dahulu"
   ]
  },
  {
   "cell_type": "code",
   "execution_count": 2,
   "id": "221104a7",
   "metadata": {},
   "outputs": [
    {
     "name": "stdout",
     "output_type": "stream",
     "text": [
      "Requirement already satisfied: pandas in d:\\belajar\\github\\python-100dayschallenge\\venv\\lib\\site-packages (1.5.0)\n",
      "Requirement already satisfied: python-dateutil>=2.8.1 in d:\\belajar\\github\\python-100dayschallenge\\venv\\lib\\site-packages (from pandas) (2.8.2)\n",
      "Requirement already satisfied: pytz>=2020.1 in d:\\belajar\\github\\python-100dayschallenge\\venv\\lib\\site-packages (from pandas) (2022.2.1)\n",
      "Requirement already satisfied: numpy>=1.21.0 in d:\\belajar\\github\\python-100dayschallenge\\venv\\lib\\site-packages (from pandas) (1.23.3)\n",
      "Requirement already satisfied: six>=1.5 in d:\\belajar\\github\\python-100dayschallenge\\venv\\lib\\site-packages (from python-dateutil>=2.8.1->pandas) (1.16.0)\n"
     ]
    },
    {
     "name": "stderr",
     "output_type": "stream",
     "text": [
      "\n",
      "[notice] A new release of pip available: 22.2.2 -> 22.3\n",
      "[notice] To update, run: python.exe -m pip install --upgrade pip\n"
     ]
    }
   ],
   "source": [
    "!pip install pandas"
   ]
  },
  {
   "cell_type": "code",
   "execution_count": 7,
   "id": "2efde13e",
   "metadata": {},
   "outputs": [],
   "source": [
    "# Setelah terinstal, maka package atau library Pandas dapat dilakukan import untuk memanggil seluruh fungsi yang ada pada Pandas"
   ]
  },
  {
   "cell_type": "code",
   "execution_count": 9,
   "id": "cbac3c08",
   "metadata": {},
   "outputs": [],
   "source": [
    "import pandas as pd"
   ]
  },
  {
   "cell_type": "code",
   "execution_count": 10,
   "id": "e3fc112e",
   "metadata": {},
   "outputs": [],
   "source": [
    "# Setelah melakukan import Pandas, maka kita dapat melakukan berbagai fungsi yang terdapat pada Pandas untuk Data Analisis dan manipulasi data"
   ]
  },
  {
   "cell_type": "code",
   "execution_count": 26,
   "id": "d19fb6bc",
   "metadata": {},
   "outputs": [
    {
     "data": {
      "text/html": [
       "<div>\n",
       "<style scoped>\n",
       "    .dataframe tbody tr th:only-of-type {\n",
       "        vertical-align: middle;\n",
       "    }\n",
       "\n",
       "    .dataframe tbody tr th {\n",
       "        vertical-align: top;\n",
       "    }\n",
       "\n",
       "    .dataframe thead th {\n",
       "        text-align: right;\n",
       "    }\n",
       "</style>\n",
       "<table border=\"1\" class=\"dataframe\">\n",
       "  <thead>\n",
       "    <tr style=\"text-align: right;\">\n",
       "      <th></th>\n",
       "      <th>Hewan</th>\n",
       "      <th>Jumlah</th>\n",
       "    </tr>\n",
       "  </thead>\n",
       "  <tbody>\n",
       "    <tr>\n",
       "      <th>0</th>\n",
       "      <td>Jalak Bali</td>\n",
       "      <td>39</td>\n",
       "    </tr>\n",
       "    <tr>\n",
       "      <th>1</th>\n",
       "      <td>Harimau Sumatera</td>\n",
       "      <td>68</td>\n",
       "    </tr>\n",
       "    <tr>\n",
       "      <th>2</th>\n",
       "      <td>Monyet Hitam Sulawesi</td>\n",
       "      <td>63</td>\n",
       "    </tr>\n",
       "  </tbody>\n",
       "</table>\n",
       "</div>"
      ],
      "text/plain": [
       "                   Hewan  Jumlah\n",
       "0             Jalak Bali      39\n",
       "1       Harimau Sumatera      68\n",
       "2  Monyet Hitam Sulawesi      63"
      ]
     },
     "execution_count": 26,
     "metadata": {},
     "output_type": "execute_result"
    }
   ],
   "source": [
    "dataset = {\n",
    "    'Hewan' : ['Jalak Bali', 'Harimau Sumatera', 'Monyet Hitam Sulawesi'],\n",
    "    'Jumlah' : [39, 68, 63]\n",
    "}\n",
    "\n",
    "df = pd.DataFrame(dataset)\n",
    "df"
   ]
  },
  {
   "cell_type": "code",
   "execution_count": 30,
   "id": "d50adcc5",
   "metadata": {},
   "outputs": [
    {
     "data": {
      "text/html": [
       "<div>\n",
       "<style scoped>\n",
       "    .dataframe tbody tr th:only-of-type {\n",
       "        vertical-align: middle;\n",
       "    }\n",
       "\n",
       "    .dataframe tbody tr th {\n",
       "        vertical-align: top;\n",
       "    }\n",
       "\n",
       "    .dataframe thead th {\n",
       "        text-align: right;\n",
       "    }\n",
       "</style>\n",
       "<table border=\"1\" class=\"dataframe\">\n",
       "  <thead>\n",
       "    <tr style=\"text-align: right;\">\n",
       "      <th></th>\n",
       "      <th>station_id</th>\n",
       "      <th>station_name</th>\n",
       "      <th>region_name</th>\n",
       "      <th>latitude</th>\n",
       "      <th>longitude</th>\n",
       "      <th>region_id</th>\n",
       "      <th>province_id</th>\n",
       "    </tr>\n",
       "  </thead>\n",
       "  <tbody>\n",
       "    <tr>\n",
       "      <th>0</th>\n",
       "      <td>96001</td>\n",
       "      <td>Stasiun Meteorologi Maimun Saleh</td>\n",
       "      <td>Kota Sabang</td>\n",
       "      <td>5.87655</td>\n",
       "      <td>95.33785</td>\n",
       "      <td>20</td>\n",
       "      <td>1</td>\n",
       "    </tr>\n",
       "    <tr>\n",
       "      <th>1</th>\n",
       "      <td>96003</td>\n",
       "      <td>Balai Besar Meteorologi Klimatologi  dan Geofi...</td>\n",
       "      <td>Kab. Badung</td>\n",
       "      <td>-8.73810</td>\n",
       "      <td>115.17860</td>\n",
       "      <td>272</td>\n",
       "      <td>17</td>\n",
       "    </tr>\n",
       "    <tr>\n",
       "      <th>2</th>\n",
       "      <td>96004</td>\n",
       "      <td>Balai Besar Meteorologi Klimatologi dan Geofis...</td>\n",
       "      <td>Kota Makassar</td>\n",
       "      <td>-5.14283</td>\n",
       "      <td>119.45227</td>\n",
       "      <td>412</td>\n",
       "      <td>26</td>\n",
       "    </tr>\n",
       "    <tr>\n",
       "      <th>3</th>\n",
       "      <td>96009</td>\n",
       "      <td>Stasiun Meteorologi Malikussaleh</td>\n",
       "      <td>Kab. Aceh Utara</td>\n",
       "      <td>5.22869</td>\n",
       "      <td>96.94749</td>\n",
       "      <td>8</td>\n",
       "      <td>1</td>\n",
       "    </tr>\n",
       "    <tr>\n",
       "      <th>4</th>\n",
       "      <td>96011</td>\n",
       "      <td>Stasiun Meteorologi Sultan Iskandar Muda</td>\n",
       "      <td>Kab. Aceh Besar</td>\n",
       "      <td>5.52244</td>\n",
       "      <td>95.41700</td>\n",
       "      <td>6</td>\n",
       "      <td>1</td>\n",
       "    </tr>\n",
       "    <tr>\n",
       "      <th>...</th>\n",
       "      <td>...</td>\n",
       "      <td>...</td>\n",
       "      <td>...</td>\n",
       "      <td>...</td>\n",
       "      <td>...</td>\n",
       "      <td>...</td>\n",
       "      <td>...</td>\n",
       "    </tr>\n",
       "    <tr>\n",
       "      <th>187</th>\n",
       "      <td>97876</td>\n",
       "      <td>Stasiun Meteorologi Tanah Merah</td>\n",
       "      <td>Kab. Boven Digoel</td>\n",
       "      <td>-6.10000</td>\n",
       "      <td>140.31000</td>\n",
       "      <td>473</td>\n",
       "      <td>32</td>\n",
       "    </tr>\n",
       "    <tr>\n",
       "      <th>188</th>\n",
       "      <td>97900</td>\n",
       "      <td>Stasiun Meteorologi Mathilda Batlayeri</td>\n",
       "      <td>Kab Maluku Tenggara Barat</td>\n",
       "      <td>-7.98000</td>\n",
       "      <td>131.30000</td>\n",
       "      <td>440</td>\n",
       "      <td>30</td>\n",
       "    </tr>\n",
       "    <tr>\n",
       "      <th>189</th>\n",
       "      <td>97902</td>\n",
       "      <td>Stasiun Geofisika Maluku Tenggara Barat</td>\n",
       "      <td>Kab Maluku Tenggara Barat</td>\n",
       "      <td>-7.98000</td>\n",
       "      <td>131.30000</td>\n",
       "      <td>440</td>\n",
       "      <td>30</td>\n",
       "    </tr>\n",
       "    <tr>\n",
       "      <th>190</th>\n",
       "      <td>97978</td>\n",
       "      <td>Stasiun Klimatologi Merauke</td>\n",
       "      <td>Kab. Merauke</td>\n",
       "      <td>-8.38700</td>\n",
       "      <td>140.51700</td>\n",
       "      <td>458</td>\n",
       "      <td>32</td>\n",
       "    </tr>\n",
       "    <tr>\n",
       "      <th>191</th>\n",
       "      <td>97980</td>\n",
       "      <td>Stasiun Meteorologi Mopah</td>\n",
       "      <td>Kab. Merauke</td>\n",
       "      <td>-8.52019</td>\n",
       "      <td>140.41568</td>\n",
       "      <td>458</td>\n",
       "      <td>32</td>\n",
       "    </tr>\n",
       "  </tbody>\n",
       "</table>\n",
       "<p>192 rows × 7 columns</p>\n",
       "</div>"
      ],
      "text/plain": [
       "     station_id                                       station_name  \\\n",
       "0         96001                   Stasiun Meteorologi Maimun Saleh   \n",
       "1         96003  Balai Besar Meteorologi Klimatologi  dan Geofi...   \n",
       "2         96004  Balai Besar Meteorologi Klimatologi dan Geofis...   \n",
       "3         96009                   Stasiun Meteorologi Malikussaleh   \n",
       "4         96011           Stasiun Meteorologi Sultan Iskandar Muda   \n",
       "..          ...                                                ...   \n",
       "187       97876                    Stasiun Meteorologi Tanah Merah   \n",
       "188       97900             Stasiun Meteorologi Mathilda Batlayeri   \n",
       "189       97902            Stasiun Geofisika Maluku Tenggara Barat   \n",
       "190       97978                        Stasiun Klimatologi Merauke   \n",
       "191       97980                          Stasiun Meteorologi Mopah   \n",
       "\n",
       "                   region_name  latitude  longitude  region_id  province_id  \n",
       "0                  Kota Sabang   5.87655   95.33785         20            1  \n",
       "1                  Kab. Badung  -8.73810  115.17860        272           17  \n",
       "2                Kota Makassar  -5.14283  119.45227        412           26  \n",
       "3              Kab. Aceh Utara   5.22869   96.94749          8            1  \n",
       "4              Kab. Aceh Besar   5.52244   95.41700          6            1  \n",
       "..                         ...       ...        ...        ...          ...  \n",
       "187          Kab. Boven Digoel  -6.10000  140.31000        473           32  \n",
       "188  Kab Maluku Tenggara Barat  -7.98000  131.30000        440           30  \n",
       "189  Kab Maluku Tenggara Barat  -7.98000  131.30000        440           30  \n",
       "190               Kab. Merauke  -8.38700  140.51700        458           32  \n",
       "191               Kab. Merauke  -8.52019  140.41568        458           32  \n",
       "\n",
       "[192 rows x 7 columns]"
      ]
     },
     "execution_count": 30,
     "metadata": {},
     "output_type": "execute_result"
    }
   ],
   "source": [
    "# Pandas juga bisa digunakan untuk membaca data pada beberapa tipe file, seperti CSV, Excel, JSON, dll.\n",
    "# Untuk membaca data pada Pandas dapat menggunakan fungsi sebagai berikut :\n",
    "\n",
    "\n",
    "pd.read_csv('station_detail.csv')"
   ]
  },
  {
   "cell_type": "code",
   "execution_count": null,
   "id": "9db41d5c",
   "metadata": {},
   "outputs": [],
   "source": []
  }
 ],
 "metadata": {
  "kernelspec": {
   "display_name": "Python 3 (ipykernel)",
   "language": "python",
   "name": "python3"
  },
  "language_info": {
   "codemirror_mode": {
    "name": "ipython",
    "version": 3
   },
   "file_extension": ".py",
   "mimetype": "text/x-python",
   "name": "python",
   "nbconvert_exporter": "python",
   "pygments_lexer": "ipython3",
   "version": "3.10.8"
  }
 },
 "nbformat": 4,
 "nbformat_minor": 5
}
