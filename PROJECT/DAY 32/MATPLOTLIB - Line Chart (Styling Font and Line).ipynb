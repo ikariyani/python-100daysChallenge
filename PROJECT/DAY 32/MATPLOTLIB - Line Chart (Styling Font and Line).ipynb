{
 "cells": [
  {
   "cell_type": "markdown",
   "id": "f0e79ccf",
   "metadata": {},
   "source": [
    "| <img src=\"https://upload.wikimedia.org/wikipedia/commons/f/f8/Python_logo_and_wordmark.svg\" style=\"height:100px\"> | <img src=\"https://upload.wikimedia.org/wikipedia/fr/3/37/Logo_Matplotlib.svg\" style=\"height:80px\"> |\n",
    "| --- | --- |\n",
    "\n",
    "\n",
    "# MATPLOTLIB - Line Chart | Styling Font and Line"
   ]
  },
  {
   "cell_type": "code",
   "execution_count": 1,
   "id": "33c54e8e",
   "metadata": {},
   "outputs": [],
   "source": [
    "import matplotlib.pyplot as plt\n",
    "import numpy as np\n",
    "import pandas as pd"
   ]
  },
  {
   "cell_type": "code",
   "execution_count": 2,
   "id": "01dd9c0b",
   "metadata": {},
   "outputs": [
    {
     "data": {
      "text/html": [
       "<div>\n",
       "<style scoped>\n",
       "    .dataframe tbody tr th:only-of-type {\n",
       "        vertical-align: middle;\n",
       "    }\n",
       "\n",
       "    .dataframe tbody tr th {\n",
       "        vertical-align: top;\n",
       "    }\n",
       "\n",
       "    .dataframe thead th {\n",
       "        text-align: right;\n",
       "    }\n",
       "</style>\n",
       "<table border=\"1\" class=\"dataframe\">\n",
       "  <thead>\n",
       "    <tr style=\"text-align: right;\">\n",
       "      <th></th>\n",
       "      <th>HDI Rank</th>\n",
       "      <th>Country</th>\n",
       "      <th>1990</th>\n",
       "      <th>1991</th>\n",
       "      <th>1992</th>\n",
       "      <th>1993</th>\n",
       "      <th>1994</th>\n",
       "      <th>1995</th>\n",
       "      <th>1996</th>\n",
       "      <th>1997</th>\n",
       "      <th>...</th>\n",
       "      <th>2010</th>\n",
       "      <th>2011</th>\n",
       "      <th>2012</th>\n",
       "      <th>2013</th>\n",
       "      <th>2014</th>\n",
       "      <th>2015</th>\n",
       "      <th>2016</th>\n",
       "      <th>2017</th>\n",
       "      <th>2018</th>\n",
       "      <th>2019</th>\n",
       "    </tr>\n",
       "  </thead>\n",
       "  <tbody>\n",
       "    <tr>\n",
       "      <th>0</th>\n",
       "      <td>169</td>\n",
       "      <td>Afghanistan</td>\n",
       "      <td>0.302</td>\n",
       "      <td>0.307</td>\n",
       "      <td>0.316</td>\n",
       "      <td>0.312</td>\n",
       "      <td>0.307</td>\n",
       "      <td>0.331</td>\n",
       "      <td>0.335</td>\n",
       "      <td>0.339</td>\n",
       "      <td>...</td>\n",
       "      <td>0.472</td>\n",
       "      <td>0.477</td>\n",
       "      <td>0.489</td>\n",
       "      <td>0.496</td>\n",
       "      <td>0.5</td>\n",
       "      <td>0.5</td>\n",
       "      <td>0.502</td>\n",
       "      <td>0.506</td>\n",
       "      <td>0.509</td>\n",
       "      <td>0.511</td>\n",
       "    </tr>\n",
       "    <tr>\n",
       "      <th>1</th>\n",
       "      <td>69</td>\n",
       "      <td>Albania</td>\n",
       "      <td>0.65</td>\n",
       "      <td>0.631</td>\n",
       "      <td>0.615</td>\n",
       "      <td>0.618</td>\n",
       "      <td>0.624</td>\n",
       "      <td>0.637</td>\n",
       "      <td>0.646</td>\n",
       "      <td>0.645</td>\n",
       "      <td>...</td>\n",
       "      <td>0.745</td>\n",
       "      <td>0.764</td>\n",
       "      <td>0.775</td>\n",
       "      <td>0.782</td>\n",
       "      <td>0.787</td>\n",
       "      <td>0.788</td>\n",
       "      <td>0.788</td>\n",
       "      <td>0.790</td>\n",
       "      <td>0.792</td>\n",
       "      <td>0.795</td>\n",
       "    </tr>\n",
       "    <tr>\n",
       "      <th>2</th>\n",
       "      <td>91</td>\n",
       "      <td>Algeria</td>\n",
       "      <td>0.572</td>\n",
       "      <td>0.576</td>\n",
       "      <td>0.582</td>\n",
       "      <td>0.586</td>\n",
       "      <td>0.59</td>\n",
       "      <td>0.595</td>\n",
       "      <td>0.602</td>\n",
       "      <td>0.611</td>\n",
       "      <td>...</td>\n",
       "      <td>0.721</td>\n",
       "      <td>0.728</td>\n",
       "      <td>0.728</td>\n",
       "      <td>0.729</td>\n",
       "      <td>0.736</td>\n",
       "      <td>0.74</td>\n",
       "      <td>0.743</td>\n",
       "      <td>0.745</td>\n",
       "      <td>0.746</td>\n",
       "      <td>0.748</td>\n",
       "    </tr>\n",
       "    <tr>\n",
       "      <th>3</th>\n",
       "      <td>36</td>\n",
       "      <td>Andorra</td>\n",
       "      <td>..</td>\n",
       "      <td>..</td>\n",
       "      <td>..</td>\n",
       "      <td>..</td>\n",
       "      <td>..</td>\n",
       "      <td>..</td>\n",
       "      <td>..</td>\n",
       "      <td>..</td>\n",
       "      <td>...</td>\n",
       "      <td>0.837</td>\n",
       "      <td>0.836</td>\n",
       "      <td>0.858</td>\n",
       "      <td>0.856</td>\n",
       "      <td>0.863</td>\n",
       "      <td>0.862</td>\n",
       "      <td>0.866</td>\n",
       "      <td>0.863</td>\n",
       "      <td>0.867</td>\n",
       "      <td>0.868</td>\n",
       "    </tr>\n",
       "    <tr>\n",
       "      <th>4</th>\n",
       "      <td>148</td>\n",
       "      <td>Angola</td>\n",
       "      <td>..</td>\n",
       "      <td>..</td>\n",
       "      <td>..</td>\n",
       "      <td>..</td>\n",
       "      <td>..</td>\n",
       "      <td>..</td>\n",
       "      <td>..</td>\n",
       "      <td>..</td>\n",
       "      <td>...</td>\n",
       "      <td>0.517</td>\n",
       "      <td>0.533</td>\n",
       "      <td>0.544</td>\n",
       "      <td>0.555</td>\n",
       "      <td>0.565</td>\n",
       "      <td>0.572</td>\n",
       "      <td>0.578</td>\n",
       "      <td>0.582</td>\n",
       "      <td>0.582</td>\n",
       "      <td>0.581</td>\n",
       "    </tr>\n",
       "    <tr>\n",
       "      <th>...</th>\n",
       "      <td>...</td>\n",
       "      <td>...</td>\n",
       "      <td>...</td>\n",
       "      <td>...</td>\n",
       "      <td>...</td>\n",
       "      <td>...</td>\n",
       "      <td>...</td>\n",
       "      <td>...</td>\n",
       "      <td>...</td>\n",
       "      <td>...</td>\n",
       "      <td>...</td>\n",
       "      <td>...</td>\n",
       "      <td>...</td>\n",
       "      <td>...</td>\n",
       "      <td>...</td>\n",
       "      <td>...</td>\n",
       "      <td>...</td>\n",
       "      <td>...</td>\n",
       "      <td>...</td>\n",
       "      <td>...</td>\n",
       "      <td>...</td>\n",
       "    </tr>\n",
       "    <tr>\n",
       "      <th>184</th>\n",
       "      <td>113</td>\n",
       "      <td>Venezuela (Bolivarian Republic of)</td>\n",
       "      <td>0.644</td>\n",
       "      <td>0.654</td>\n",
       "      <td>0.66</td>\n",
       "      <td>0.662</td>\n",
       "      <td>0.662</td>\n",
       "      <td>0.666</td>\n",
       "      <td>0.668</td>\n",
       "      <td>0.67</td>\n",
       "      <td>...</td>\n",
       "      <td>0.757</td>\n",
       "      <td>0.769</td>\n",
       "      <td>0.772</td>\n",
       "      <td>0.777</td>\n",
       "      <td>0.775</td>\n",
       "      <td>0.769</td>\n",
       "      <td>0.759</td>\n",
       "      <td>0.743</td>\n",
       "      <td>0.733</td>\n",
       "      <td>0.711</td>\n",
       "    </tr>\n",
       "    <tr>\n",
       "      <th>185</th>\n",
       "      <td>117</td>\n",
       "      <td>Viet Nam</td>\n",
       "      <td>0.483</td>\n",
       "      <td>0.493</td>\n",
       "      <td>0.504</td>\n",
       "      <td>0.514</td>\n",
       "      <td>0.525</td>\n",
       "      <td>0.537</td>\n",
       "      <td>0.548</td>\n",
       "      <td>0.547</td>\n",
       "      <td>...</td>\n",
       "      <td>0.661</td>\n",
       "      <td>0.671</td>\n",
       "      <td>0.676</td>\n",
       "      <td>0.681</td>\n",
       "      <td>0.683</td>\n",
       "      <td>0.688</td>\n",
       "      <td>0.693</td>\n",
       "      <td>0.696</td>\n",
       "      <td>0.700</td>\n",
       "      <td>0.704</td>\n",
       "    </tr>\n",
       "    <tr>\n",
       "      <th>186</th>\n",
       "      <td>179</td>\n",
       "      <td>Yemen</td>\n",
       "      <td>0.401</td>\n",
       "      <td>0.401</td>\n",
       "      <td>0.404</td>\n",
       "      <td>0.406</td>\n",
       "      <td>0.408</td>\n",
       "      <td>0.414</td>\n",
       "      <td>0.421</td>\n",
       "      <td>0.426</td>\n",
       "      <td>...</td>\n",
       "      <td>0.506</td>\n",
       "      <td>0.506</td>\n",
       "      <td>0.504</td>\n",
       "      <td>0.509</td>\n",
       "      <td>0.502</td>\n",
       "      <td>0.483</td>\n",
       "      <td>0.474</td>\n",
       "      <td>0.467</td>\n",
       "      <td>0.468</td>\n",
       "      <td>0.470</td>\n",
       "    </tr>\n",
       "    <tr>\n",
       "      <th>187</th>\n",
       "      <td>146</td>\n",
       "      <td>Zambia</td>\n",
       "      <td>0.421</td>\n",
       "      <td>0.417</td>\n",
       "      <td>0.416</td>\n",
       "      <td>0.419</td>\n",
       "      <td>0.414</td>\n",
       "      <td>0.415</td>\n",
       "      <td>0.416</td>\n",
       "      <td>0.416</td>\n",
       "      <td>...</td>\n",
       "      <td>0.527</td>\n",
       "      <td>0.534</td>\n",
       "      <td>0.549</td>\n",
       "      <td>0.557</td>\n",
       "      <td>0.561</td>\n",
       "      <td>0.569</td>\n",
       "      <td>0.571</td>\n",
       "      <td>0.578</td>\n",
       "      <td>0.582</td>\n",
       "      <td>0.584</td>\n",
       "    </tr>\n",
       "    <tr>\n",
       "      <th>188</th>\n",
       "      <td>150</td>\n",
       "      <td>Zimbabwe</td>\n",
       "      <td>0.478</td>\n",
       "      <td>0.481</td>\n",
       "      <td>0.467</td>\n",
       "      <td>0.463</td>\n",
       "      <td>0.46</td>\n",
       "      <td>0.453</td>\n",
       "      <td>0.453</td>\n",
       "      <td>0.447</td>\n",
       "      <td>...</td>\n",
       "      <td>0.482</td>\n",
       "      <td>0.499</td>\n",
       "      <td>0.525</td>\n",
       "      <td>0.537</td>\n",
       "      <td>0.547</td>\n",
       "      <td>0.553</td>\n",
       "      <td>0.558</td>\n",
       "      <td>0.563</td>\n",
       "      <td>0.569</td>\n",
       "      <td>0.571</td>\n",
       "    </tr>\n",
       "  </tbody>\n",
       "</table>\n",
       "<p>189 rows × 32 columns</p>\n",
       "</div>"
      ],
      "text/plain": [
       "     HDI Rank                             Country   1990   1991   1992   1993  \\\n",
       "0         169                         Afghanistan  0.302  0.307  0.316  0.312   \n",
       "1          69                             Albania   0.65  0.631  0.615  0.618   \n",
       "2          91                             Algeria  0.572  0.576  0.582  0.586   \n",
       "3          36                             Andorra     ..     ..     ..     ..   \n",
       "4         148                              Angola     ..     ..     ..     ..   \n",
       "..        ...                                 ...    ...    ...    ...    ...   \n",
       "184       113  Venezuela (Bolivarian Republic of)  0.644  0.654   0.66  0.662   \n",
       "185       117                            Viet Nam  0.483  0.493  0.504  0.514   \n",
       "186       179                               Yemen  0.401  0.401  0.404  0.406   \n",
       "187       146                              Zambia  0.421  0.417  0.416  0.419   \n",
       "188       150                            Zimbabwe  0.478  0.481  0.467  0.463   \n",
       "\n",
       "      1994   1995   1996   1997  ...   2010   2011   2012   2013   2014  \\\n",
       "0    0.307  0.331  0.335  0.339  ...  0.472  0.477  0.489  0.496    0.5   \n",
       "1    0.624  0.637  0.646  0.645  ...  0.745  0.764  0.775  0.782  0.787   \n",
       "2     0.59  0.595  0.602  0.611  ...  0.721  0.728  0.728  0.729  0.736   \n",
       "3       ..     ..     ..     ..  ...  0.837  0.836  0.858  0.856  0.863   \n",
       "4       ..     ..     ..     ..  ...  0.517  0.533  0.544  0.555  0.565   \n",
       "..     ...    ...    ...    ...  ...    ...    ...    ...    ...    ...   \n",
       "184  0.662  0.666  0.668   0.67  ...  0.757  0.769  0.772  0.777  0.775   \n",
       "185  0.525  0.537  0.548  0.547  ...  0.661  0.671  0.676  0.681  0.683   \n",
       "186  0.408  0.414  0.421  0.426  ...  0.506  0.506  0.504  0.509  0.502   \n",
       "187  0.414  0.415  0.416  0.416  ...  0.527  0.534  0.549  0.557  0.561   \n",
       "188   0.46  0.453  0.453  0.447  ...  0.482  0.499  0.525  0.537  0.547   \n",
       "\n",
       "      2015   2016   2017   2018   2019  \n",
       "0      0.5  0.502  0.506  0.509  0.511  \n",
       "1    0.788  0.788  0.790  0.792  0.795  \n",
       "2     0.74  0.743  0.745  0.746  0.748  \n",
       "3    0.862  0.866  0.863  0.867  0.868  \n",
       "4    0.572  0.578  0.582  0.582  0.581  \n",
       "..     ...    ...    ...    ...    ...  \n",
       "184  0.769  0.759  0.743  0.733  0.711  \n",
       "185  0.688  0.693  0.696  0.700  0.704  \n",
       "186  0.483  0.474  0.467  0.468  0.470  \n",
       "187  0.569  0.571  0.578  0.582  0.584  \n",
       "188  0.553  0.558  0.563  0.569  0.571  \n",
       "\n",
       "[189 rows x 32 columns]"
      ]
     },
     "execution_count": 2,
     "metadata": {},
     "output_type": "execute_result"
    }
   ],
   "source": [
    "file = \"HDI.csv\"\n",
    "\n",
    "df = pd.read_csv(file)\n",
    "\n",
    "df"
   ]
  },
  {
   "cell_type": "markdown",
   "id": "9ea3ed51",
   "metadata": {},
   "source": [
    "## Fetch data HDI Indonesia"
   ]
  },
  {
   "cell_type": "code",
   "execution_count": 3,
   "id": "475ed5b4",
   "metadata": {},
   "outputs": [],
   "source": [
    "indo_HDI = df[df['Country'] == 'Indonesia']"
   ]
  },
  {
   "cell_type": "code",
   "execution_count": 4,
   "id": "343aa13a",
   "metadata": {},
   "outputs": [
    {
     "data": {
      "text/html": [
       "<div>\n",
       "<style scoped>\n",
       "    .dataframe tbody tr th:only-of-type {\n",
       "        vertical-align: middle;\n",
       "    }\n",
       "\n",
       "    .dataframe tbody tr th {\n",
       "        vertical-align: top;\n",
       "    }\n",
       "\n",
       "    .dataframe thead th {\n",
       "        text-align: right;\n",
       "    }\n",
       "</style>\n",
       "<table border=\"1\" class=\"dataframe\">\n",
       "  <thead>\n",
       "    <tr style=\"text-align: right;\">\n",
       "      <th></th>\n",
       "      <th>HDI Rank</th>\n",
       "      <th>Country</th>\n",
       "      <th>1990</th>\n",
       "      <th>1991</th>\n",
       "      <th>1992</th>\n",
       "      <th>1993</th>\n",
       "      <th>1994</th>\n",
       "      <th>1995</th>\n",
       "      <th>1996</th>\n",
       "      <th>1997</th>\n",
       "      <th>...</th>\n",
       "      <th>2010</th>\n",
       "      <th>2011</th>\n",
       "      <th>2012</th>\n",
       "      <th>2013</th>\n",
       "      <th>2014</th>\n",
       "      <th>2015</th>\n",
       "      <th>2016</th>\n",
       "      <th>2017</th>\n",
       "      <th>2018</th>\n",
       "      <th>2019</th>\n",
       "    </tr>\n",
       "  </thead>\n",
       "  <tbody>\n",
       "    <tr>\n",
       "      <th>78</th>\n",
       "      <td>107</td>\n",
       "      <td>Indonesia</td>\n",
       "      <td>0.523</td>\n",
       "      <td>0.529</td>\n",
       "      <td>0.534</td>\n",
       "      <td>0.541</td>\n",
       "      <td>0.55</td>\n",
       "      <td>0.56</td>\n",
       "      <td>0.573</td>\n",
       "      <td>0.587</td>\n",
       "      <td>...</td>\n",
       "      <td>0.665</td>\n",
       "      <td>0.673</td>\n",
       "      <td>0.681</td>\n",
       "      <td>0.687</td>\n",
       "      <td>0.69</td>\n",
       "      <td>0.695</td>\n",
       "      <td>0.703</td>\n",
       "      <td>0.707</td>\n",
       "      <td>0.712</td>\n",
       "      <td>0.718</td>\n",
       "    </tr>\n",
       "  </tbody>\n",
       "</table>\n",
       "<p>1 rows × 32 columns</p>\n",
       "</div>"
      ],
      "text/plain": [
       "    HDI Rank    Country   1990   1991   1992   1993  1994  1995   1996   1997  \\\n",
       "78       107  Indonesia  0.523  0.529  0.534  0.541  0.55  0.56  0.573  0.587   \n",
       "\n",
       "    ...   2010   2011   2012   2013  2014   2015   2016   2017   2018   2019  \n",
       "78  ...  0.665  0.673  0.681  0.687  0.69  0.695  0.703  0.707  0.712  0.718  \n",
       "\n",
       "[1 rows x 32 columns]"
      ]
     },
     "execution_count": 4,
     "metadata": {},
     "output_type": "execute_result"
    }
   ],
   "source": [
    "indo_HDI"
   ]
  },
  {
   "cell_type": "code",
   "execution_count": 5,
   "id": "2d57aabb",
   "metadata": {},
   "outputs": [
    {
     "data": {
      "text/html": [
       "<div>\n",
       "<style scoped>\n",
       "    .dataframe tbody tr th:only-of-type {\n",
       "        vertical-align: middle;\n",
       "    }\n",
       "\n",
       "    .dataframe tbody tr th {\n",
       "        vertical-align: top;\n",
       "    }\n",
       "\n",
       "    .dataframe thead th {\n",
       "        text-align: right;\n",
       "    }\n",
       "</style>\n",
       "<table border=\"1\" class=\"dataframe\">\n",
       "  <thead>\n",
       "    <tr style=\"text-align: right;\">\n",
       "      <th></th>\n",
       "      <th>1990</th>\n",
       "      <th>1991</th>\n",
       "      <th>1992</th>\n",
       "      <th>1993</th>\n",
       "      <th>1994</th>\n",
       "      <th>1995</th>\n",
       "      <th>1996</th>\n",
       "      <th>1997</th>\n",
       "      <th>1998</th>\n",
       "      <th>1999</th>\n",
       "      <th>...</th>\n",
       "      <th>2010</th>\n",
       "      <th>2011</th>\n",
       "      <th>2012</th>\n",
       "      <th>2013</th>\n",
       "      <th>2014</th>\n",
       "      <th>2015</th>\n",
       "      <th>2016</th>\n",
       "      <th>2017</th>\n",
       "      <th>2018</th>\n",
       "      <th>2019</th>\n",
       "    </tr>\n",
       "  </thead>\n",
       "  <tbody>\n",
       "    <tr>\n",
       "      <th>78</th>\n",
       "      <td>0.523</td>\n",
       "      <td>0.529</td>\n",
       "      <td>0.534</td>\n",
       "      <td>0.541</td>\n",
       "      <td>0.55</td>\n",
       "      <td>0.56</td>\n",
       "      <td>0.573</td>\n",
       "      <td>0.587</td>\n",
       "      <td>0.586</td>\n",
       "      <td>0.594</td>\n",
       "      <td>...</td>\n",
       "      <td>0.665</td>\n",
       "      <td>0.673</td>\n",
       "      <td>0.681</td>\n",
       "      <td>0.687</td>\n",
       "      <td>0.69</td>\n",
       "      <td>0.695</td>\n",
       "      <td>0.703</td>\n",
       "      <td>0.707</td>\n",
       "      <td>0.712</td>\n",
       "      <td>0.718</td>\n",
       "    </tr>\n",
       "  </tbody>\n",
       "</table>\n",
       "<p>1 rows × 30 columns</p>\n",
       "</div>"
      ],
      "text/plain": [
       "     1990   1991   1992   1993  1994  1995   1996   1997   1998   1999  ...  \\\n",
       "78  0.523  0.529  0.534  0.541  0.55  0.56  0.573  0.587  0.586  0.594  ...   \n",
       "\n",
       "     2010   2011   2012   2013  2014   2015   2016   2017   2018   2019  \n",
       "78  0.665  0.673  0.681  0.687  0.69  0.695  0.703  0.707  0.712  0.718  \n",
       "\n",
       "[1 rows x 30 columns]"
      ]
     },
     "execution_count": 5,
     "metadata": {},
     "output_type": "execute_result"
    }
   ],
   "source": [
    "drop = indo_HDI.drop(columns = ['HDI Rank', 'Country'])\n",
    "\n",
    "drop"
   ]
  },
  {
   "cell_type": "code",
   "execution_count": 6,
   "id": "75249c76",
   "metadata": {},
   "outputs": [
    {
     "data": {
      "text/html": [
       "<div>\n",
       "<style scoped>\n",
       "    .dataframe tbody tr th:only-of-type {\n",
       "        vertical-align: middle;\n",
       "    }\n",
       "\n",
       "    .dataframe tbody tr th {\n",
       "        vertical-align: top;\n",
       "    }\n",
       "\n",
       "    .dataframe thead th {\n",
       "        text-align: right;\n",
       "    }\n",
       "</style>\n",
       "<table border=\"1\" class=\"dataframe\">\n",
       "  <thead>\n",
       "    <tr style=\"text-align: right;\">\n",
       "      <th></th>\n",
       "      <th>index</th>\n",
       "      <th>1990</th>\n",
       "      <th>1991</th>\n",
       "      <th>1992</th>\n",
       "      <th>1993</th>\n",
       "      <th>1994</th>\n",
       "      <th>1995</th>\n",
       "      <th>1996</th>\n",
       "      <th>1997</th>\n",
       "      <th>1998</th>\n",
       "      <th>...</th>\n",
       "      <th>2010</th>\n",
       "      <th>2011</th>\n",
       "      <th>2012</th>\n",
       "      <th>2013</th>\n",
       "      <th>2014</th>\n",
       "      <th>2015</th>\n",
       "      <th>2016</th>\n",
       "      <th>2017</th>\n",
       "      <th>2018</th>\n",
       "      <th>2019</th>\n",
       "    </tr>\n",
       "  </thead>\n",
       "  <tbody>\n",
       "    <tr>\n",
       "      <th>0</th>\n",
       "      <td>78</td>\n",
       "      <td>0.523</td>\n",
       "      <td>0.529</td>\n",
       "      <td>0.534</td>\n",
       "      <td>0.541</td>\n",
       "      <td>0.55</td>\n",
       "      <td>0.56</td>\n",
       "      <td>0.573</td>\n",
       "      <td>0.587</td>\n",
       "      <td>0.586</td>\n",
       "      <td>...</td>\n",
       "      <td>0.665</td>\n",
       "      <td>0.673</td>\n",
       "      <td>0.681</td>\n",
       "      <td>0.687</td>\n",
       "      <td>0.69</td>\n",
       "      <td>0.695</td>\n",
       "      <td>0.703</td>\n",
       "      <td>0.707</td>\n",
       "      <td>0.712</td>\n",
       "      <td>0.718</td>\n",
       "    </tr>\n",
       "  </tbody>\n",
       "</table>\n",
       "<p>1 rows × 31 columns</p>\n",
       "</div>"
      ],
      "text/plain": [
       "   index   1990   1991   1992   1993  1994  1995   1996   1997   1998  ...  \\\n",
       "0     78  0.523  0.529  0.534  0.541  0.55  0.56  0.573  0.587  0.586  ...   \n",
       "\n",
       "    2010   2011   2012   2013  2014   2015   2016   2017   2018   2019  \n",
       "0  0.665  0.673  0.681  0.687  0.69  0.695  0.703  0.707  0.712  0.718  \n",
       "\n",
       "[1 rows x 31 columns]"
      ]
     },
     "execution_count": 6,
     "metadata": {},
     "output_type": "execute_result"
    }
   ],
   "source": [
    "drop.reset_index()"
   ]
  },
  {
   "cell_type": "code",
   "execution_count": 7,
   "id": "939f1ff6",
   "metadata": {},
   "outputs": [
    {
     "data": {
      "text/plain": [
       "array([['0.523', '0.529', '0.534', '0.541', '0.55', '0.56', '0.573',\n",
       "        '0.587', '0.586', '0.594', '0.603', '0.609', '0.615', '0.622',\n",
       "        '0.628', '0.632', '0.642', '0.643', '0.647', '0.658', '0.665',\n",
       "        '0.673', '0.681', '0.687', '0.69', '0.695', '0.703', 0.707,\n",
       "        0.712, 0.718]], dtype=object)"
      ]
     },
     "execution_count": 7,
     "metadata": {},
     "output_type": "execute_result"
    }
   ],
   "source": [
    "indo_HDI = drop.to_numpy()\n",
    "\n",
    "indo_HDI"
   ]
  },
  {
   "cell_type": "code",
   "execution_count": 8,
   "id": "dcb1a768",
   "metadata": {},
   "outputs": [
    {
     "data": {
      "text/plain": [
       "2"
      ]
     },
     "execution_count": 8,
     "metadata": {},
     "output_type": "execute_result"
    }
   ],
   "source": [
    "indo_HDI = indo_HDI.astype(float)\n",
    "\n",
    "indo_HDI.ndim"
   ]
  },
  {
   "cell_type": "code",
   "execution_count": 9,
   "id": "fc5bde3e",
   "metadata": {},
   "outputs": [
    {
     "data": {
      "text/plain": [
       "1"
      ]
     },
     "execution_count": 9,
     "metadata": {},
     "output_type": "execute_result"
    }
   ],
   "source": [
    "tahun = np.arange(1990, 2020, 1)\n",
    "\n",
    "tahun.ndim"
   ]
  },
  {
   "cell_type": "code",
   "execution_count": 10,
   "id": "897a7c1b",
   "metadata": {},
   "outputs": [],
   "source": [
    "indo_HDI = indo_HDI.reshape(30,)"
   ]
  },
  {
   "cell_type": "code",
   "execution_count": 11,
   "id": "b7615836",
   "metadata": {},
   "outputs": [],
   "source": [
    "x = np.array([1,2,3,4])\n",
    "y = np.array([10,20,30,40])"
   ]
  },
  {
   "cell_type": "code",
   "execution_count": 12,
   "id": "454eef93",
   "metadata": {},
   "outputs": [
    {
     "name": "stdout",
     "output_type": "stream",
     "text": [
      "[0.523 0.529 0.534 0.541 0.55  0.56  0.573 0.587 0.586 0.594 0.603 0.609\n",
      " 0.615 0.622 0.628 0.632 0.642 0.643 0.647 0.658 0.665 0.673 0.681 0.687\n",
      " 0.69  0.695 0.703 0.707 0.712 0.718]\n",
      "[1 2 3 4]\n"
     ]
    }
   ],
   "source": [
    "print(indo_HDI)\n",
    "print(x)"
   ]
  },
  {
   "cell_type": "code",
   "execution_count": 13,
   "id": "3ae7d90a",
   "metadata": {},
   "outputs": [
    {
     "data": {
      "image/png": "[encoded data removed]",
      "text/plain": [
       "<Figure size 640x480 with 1 Axes>"
      ]
     },
     "metadata": {},
     "output_type": "display_data"
    }
   ],
   "source": [
    "plt.plot(tahun, indo_HDI)\n",
    "\n",
    "plt.show()"
   ]
  },
  {
   "cell_type": "markdown",
   "id": "71c57ef9",
   "metadata": {},
   "source": [
    "## Styling Line Chart"
   ]
  },
  {
   "cell_type": "code",
   "execution_count": 14,
   "id": "bfe8cefc",
   "metadata": {},
   "outputs": [
    {
     "data": {
      "image/png": "[encoded data removed]",
      "text/plain": [
       "<Figure size 640x480 with 1 Axes>"
      ]
     },
     "metadata": {},
     "output_type": "display_data"
    }
   ],
   "source": [
    "plt.plot(tahun, indo_HDI)\n",
    "\n",
    "plt.title('Human Development Index - Indonesia')\n",
    "plt.xlabel('Year')\n",
    "plt.ylabel('HDI')\n",
    "\n",
    "\n",
    "plt.show()"
   ]
  },
  {
   "cell_type": "code",
   "execution_count": 19,
   "id": "5db9662e",
   "metadata": {},
   "outputs": [
    {
     "data": {
      "image/png": "[encoded data removed]",
      "text/plain": [
       "<Figure size 640x480 with 1 Axes>"
      ]
     },
     "metadata": {},
     "output_type": "display_data"
    }
   ],
   "source": [
    "plt.plot(tahun, indo_HDI, label = 'HDI', marker = 'o', linestyle = 'dashed', color = 'green')\n",
    "\n",
    "plt.title('Human Development Index - Indonesia')\n",
    "plt.xlabel('Year')\n",
    "plt.ylabel('HDI')\n",
    "\n",
    "plt.legend()\n",
    "\n",
    "plt.show()"
   ]
  },
  {
   "cell_type": "markdown",
   "id": "a34f238d",
   "metadata": {},
   "source": [
    "## Set Up Font"
   ]
  },
  {
   "cell_type": "code",
   "execution_count": 21,
   "id": "37e502a1",
   "metadata": {},
   "outputs": [],
   "source": [
    "import matplotlib.font_manager as fm"
   ]
  },
  {
   "cell_type": "code",
   "execution_count": 53,
   "id": "0ea35087",
   "metadata": {},
   "outputs": [],
   "source": [
    "path = \"La Formalita.otf\"\n",
    "path2 = \"MADEAvenuePERSONALUSE-Regular.otf\"\n",
    "\n",
    "font10 = fm.FontProperties(fname = path2, size = 15)\n",
    "font20 = fm.FontProperties(fname = path, size = 25)"
   ]
  },
  {
   "cell_type": "code",
   "execution_count": 54,
   "id": "578f4bb8",
   "metadata": {},
   "outputs": [
    {
     "data": {
      "image/png": "[encoded data removed]",
      "text/plain": [
       "<Figure size 640x480 with 1 Axes>"
      ]
     },
     "metadata": {},
     "output_type": "display_data"
    }
   ],
   "source": [
    "plt.plot(tahun, indo_HDI, label = 'HDI', marker = 'o', linestyle = 'dashed', color = 'green')\n",
    "\n",
    "plt.title(\"Indeks Pembangunan Manusia Negara Indonesia\", fontproperties = font20)\n",
    "plt.xlabel('Tahun', fontproperties = font10)\n",
    "plt.ylabel('IPM', fontproperties = font10)\n",
    "\n",
    "plt.legend()\n",
    "plt.grid(linestyle = \"dashed\")\n",
    "\n",
    "plt.show()"
   ]
  },
  {
   "cell_type": "code",
   "execution_count": null,
   "id": "7ff78018",
   "metadata": {},
   "outputs": [],
   "source": []
  }
 ],
 "metadata": {
  "kernelspec": {
   "display_name": "Python 3 (ipykernel)",
   "language": "python",
   "name": "python3"
  },
  "language_info": {
   "codemirror_mode": {
    "name": "ipython",
    "version": 3
   },
   "file_extension": ".py",
   "mimetype": "text/x-python",
   "name": "python",
   "nbconvert_exporter": "python",
   "pygments_lexer": "ipython3",
   "version": "3.10.8"
  }
 },
 "nbformat": 4,
 "nbformat_minor": 5
}
