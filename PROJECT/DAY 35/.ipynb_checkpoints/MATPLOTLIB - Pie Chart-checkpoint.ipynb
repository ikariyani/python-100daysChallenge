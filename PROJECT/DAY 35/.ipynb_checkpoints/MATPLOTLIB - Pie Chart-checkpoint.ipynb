{
 "cells": [
  {
   "cell_type": "markdown",
   "id": "f971af81",
   "metadata": {},
   "source": [
    "| <img src=\"https://upload.wikimedia.org/wikipedia/commons/f/f8/Python_logo_and_wordmark.svg\" style=\"height:100px\"> | <img src=\"https://upload.wikimedia.org/wikipedia/fr/3/37/Logo_Matplotlib.svg\" style=\"height:80px\"> |\n",
    "| --- | --- |\n",
    "\n",
    "\n",
    "# MATPLOTLIB - Pie Chart "
   ]
  },
  {
   "cell_type": "code",
   "execution_count": 1,
   "id": "363aa88a",
   "metadata": {},
   "outputs": [],
   "source": [
    "import matplotlib.pyplot as plt\n",
    "import pandas as pd\n",
    "import numpy as np"
   ]
  },
  {
   "cell_type": "code",
   "execution_count": 2,
   "id": "69f7296d",
   "metadata": {},
   "outputs": [
    {
     "data": {
      "text/html": [
       "<div>\n",
       "<style scoped>\n",
       "    .dataframe tbody tr th:only-of-type {\n",
       "        vertical-align: middle;\n",
       "    }\n",
       "\n",
       "    .dataframe tbody tr th {\n",
       "        vertical-align: top;\n",
       "    }\n",
       "\n",
       "    .dataframe thead th {\n",
       "        text-align: right;\n",
       "    }\n",
       "</style>\n",
       "<table border=\"1\" class=\"dataframe\">\n",
       "  <thead>\n",
       "    <tr style=\"text-align: right;\">\n",
       "      <th></th>\n",
       "      <th>code</th>\n",
       "      <th>rank</th>\n",
       "      <th>country</th>\n",
       "      <th>gdp</th>\n",
       "    </tr>\n",
       "  </thead>\n",
       "  <tbody>\n",
       "    <tr>\n",
       "      <th>0</th>\n",
       "      <td>USA</td>\n",
       "      <td>1.0</td>\n",
       "      <td>United States</td>\n",
       "      <td>19485394.0</td>\n",
       "    </tr>\n",
       "    <tr>\n",
       "      <th>1</th>\n",
       "      <td>CHN</td>\n",
       "      <td>2.0</td>\n",
       "      <td>China</td>\n",
       "      <td>12237700.0</td>\n",
       "    </tr>\n",
       "    <tr>\n",
       "      <th>2</th>\n",
       "      <td>JPN</td>\n",
       "      <td>3.0</td>\n",
       "      <td>Japan</td>\n",
       "      <td>4872415.0</td>\n",
       "    </tr>\n",
       "    <tr>\n",
       "      <th>3</th>\n",
       "      <td>DEU</td>\n",
       "      <td>4.0</td>\n",
       "      <td>Germany</td>\n",
       "      <td>3693204.0</td>\n",
       "    </tr>\n",
       "    <tr>\n",
       "      <th>4</th>\n",
       "      <td>IND</td>\n",
       "      <td>5.0</td>\n",
       "      <td>India</td>\n",
       "      <td>2650725.0</td>\n",
       "    </tr>\n",
       "    <tr>\n",
       "      <th>...</th>\n",
       "      <td>...</td>\n",
       "      <td>...</td>\n",
       "      <td>...</td>\n",
       "      <td>...</td>\n",
       "    </tr>\n",
       "    <tr>\n",
       "      <th>212</th>\n",
       "      <td>SXM</td>\n",
       "      <td>NaN</td>\n",
       "      <td>Sint Maarten (Dutch part)</td>\n",
       "      <td>NaN</td>\n",
       "    </tr>\n",
       "    <tr>\n",
       "      <th>213</th>\n",
       "      <td>MAF</td>\n",
       "      <td>NaN</td>\n",
       "      <td>St. Martin (French part)</td>\n",
       "      <td>NaN</td>\n",
       "    </tr>\n",
       "    <tr>\n",
       "      <th>214</th>\n",
       "      <td>SYR</td>\n",
       "      <td>NaN</td>\n",
       "      <td>Syrian Arab Republic</td>\n",
       "      <td>NaN</td>\n",
       "    </tr>\n",
       "    <tr>\n",
       "      <th>215</th>\n",
       "      <td>TCA</td>\n",
       "      <td>NaN</td>\n",
       "      <td>Turks and Caicos Islands</td>\n",
       "      <td>NaN</td>\n",
       "    </tr>\n",
       "    <tr>\n",
       "      <th>216</th>\n",
       "      <td>VEN</td>\n",
       "      <td>NaN</td>\n",
       "      <td>Venezuela, RB</td>\n",
       "      <td>NaN</td>\n",
       "    </tr>\n",
       "  </tbody>\n",
       "</table>\n",
       "<p>217 rows × 4 columns</p>\n",
       "</div>"
      ],
      "text/plain": [
       "    code  rank                    country        gdp \n",
       "0    USA   1.0              United States  19485394.0\n",
       "1    CHN   2.0                      China  12237700.0\n",
       "2    JPN   3.0                      Japan   4872415.0\n",
       "3    DEU   4.0                    Germany   3693204.0\n",
       "4    IND   5.0                      India   2650725.0\n",
       "..   ...   ...                        ...         ...\n",
       "212  SXM   NaN  Sint Maarten (Dutch part)         NaN\n",
       "213  MAF   NaN   St. Martin (French part)         NaN\n",
       "214  SYR   NaN       Syrian Arab Republic         NaN\n",
       "215  TCA   NaN   Turks and Caicos Islands         NaN\n",
       "216  VEN   NaN              Venezuela, RB         NaN\n",
       "\n",
       "[217 rows x 4 columns]"
      ]
     },
     "execution_count": 2,
     "metadata": {},
     "output_type": "execute_result"
    }
   ],
   "source": [
    "file = \"gdp.csv\"\n",
    "\n",
    "\n",
    "df = pd.read_csv(file)\n",
    "\n",
    "\n",
    "df"
   ]
  },
  {
   "cell_type": "code",
   "execution_count": 3,
   "id": "f6fea8f2",
   "metadata": {},
   "outputs": [
    {
     "data": {
      "text/html": [
       "<div>\n",
       "<style scoped>\n",
       "    .dataframe tbody tr th:only-of-type {\n",
       "        vertical-align: middle;\n",
       "    }\n",
       "\n",
       "    .dataframe tbody tr th {\n",
       "        vertical-align: top;\n",
       "    }\n",
       "\n",
       "    .dataframe thead th {\n",
       "        text-align: right;\n",
       "    }\n",
       "</style>\n",
       "<table border=\"1\" class=\"dataframe\">\n",
       "  <thead>\n",
       "    <tr style=\"text-align: right;\">\n",
       "      <th></th>\n",
       "      <th>country</th>\n",
       "      <th>region</th>\n",
       "    </tr>\n",
       "  </thead>\n",
       "  <tbody>\n",
       "    <tr>\n",
       "      <th>0</th>\n",
       "      <td>American Samoa</td>\n",
       "      <td>EAST ASIA AND PACIFIC</td>\n",
       "    </tr>\n",
       "    <tr>\n",
       "      <th>1</th>\n",
       "      <td>Australia</td>\n",
       "      <td>EAST ASIA AND PACIFIC</td>\n",
       "    </tr>\n",
       "    <tr>\n",
       "      <th>2</th>\n",
       "      <td>Brunei Darussalam</td>\n",
       "      <td>EAST ASIA AND PACIFIC</td>\n",
       "    </tr>\n",
       "    <tr>\n",
       "      <th>3</th>\n",
       "      <td>Cambodia</td>\n",
       "      <td>EAST ASIA AND PACIFIC</td>\n",
       "    </tr>\n",
       "    <tr>\n",
       "      <th>4</th>\n",
       "      <td>China</td>\n",
       "      <td>EAST ASIA AND PACIFIC</td>\n",
       "    </tr>\n",
       "    <tr>\n",
       "      <th>...</th>\n",
       "      <td>...</td>\n",
       "      <td>...</td>\n",
       "    </tr>\n",
       "    <tr>\n",
       "      <th>213</th>\n",
       "      <td>Tanzania</td>\n",
       "      <td>SUB-SAHARAN AFRICA</td>\n",
       "    </tr>\n",
       "    <tr>\n",
       "      <th>214</th>\n",
       "      <td>Togo</td>\n",
       "      <td>SUB-SAHARAN AFRICA</td>\n",
       "    </tr>\n",
       "    <tr>\n",
       "      <th>215</th>\n",
       "      <td>Uganda</td>\n",
       "      <td>SUB-SAHARAN AFRICA</td>\n",
       "    </tr>\n",
       "    <tr>\n",
       "      <th>216</th>\n",
       "      <td>Zambia</td>\n",
       "      <td>SUB-SAHARAN AFRICA</td>\n",
       "    </tr>\n",
       "    <tr>\n",
       "      <th>217</th>\n",
       "      <td>Zimbabwe</td>\n",
       "      <td>SUB-SAHARAN AFRICA</td>\n",
       "    </tr>\n",
       "  </tbody>\n",
       "</table>\n",
       "<p>218 rows × 2 columns</p>\n",
       "</div>"
      ],
      "text/plain": [
       "               country                 region\n",
       "0       American Samoa  EAST ASIA AND PACIFIC\n",
       "1            Australia  EAST ASIA AND PACIFIC\n",
       "2    Brunei Darussalam  EAST ASIA AND PACIFIC\n",
       "3             Cambodia  EAST ASIA AND PACIFIC\n",
       "4                China  EAST ASIA AND PACIFIC\n",
       "..                 ...                    ...\n",
       "213           Tanzania     SUB-SAHARAN AFRICA\n",
       "214               Togo     SUB-SAHARAN AFRICA\n",
       "215             Uganda     SUB-SAHARAN AFRICA\n",
       "216             Zambia     SUB-SAHARAN AFRICA\n",
       "217           Zimbabwe     SUB-SAHARAN AFRICA\n",
       "\n",
       "[218 rows x 2 columns]"
      ]
     },
     "execution_count": 3,
     "metadata": {},
     "output_type": "execute_result"
    }
   ],
   "source": [
    "file2 = \"country_region.csv\"\n",
    "\n",
    "df2 = pd.read_csv(file2)\n",
    "\n",
    "df2"
   ]
  },
  {
   "cell_type": "code",
   "execution_count": 4,
   "id": "2a76eeee",
   "metadata": {},
   "outputs": [
    {
     "data": {
      "text/html": [
       "<div>\n",
       "<style scoped>\n",
       "    .dataframe tbody tr th:only-of-type {\n",
       "        vertical-align: middle;\n",
       "    }\n",
       "\n",
       "    .dataframe tbody tr th {\n",
       "        vertical-align: top;\n",
       "    }\n",
       "\n",
       "    .dataframe thead th {\n",
       "        text-align: right;\n",
       "    }\n",
       "</style>\n",
       "<table border=\"1\" class=\"dataframe\">\n",
       "  <thead>\n",
       "    <tr style=\"text-align: right;\">\n",
       "      <th></th>\n",
       "      <th>code</th>\n",
       "      <th>rank</th>\n",
       "      <th>gdp</th>\n",
       "    </tr>\n",
       "    <tr>\n",
       "      <th>country</th>\n",
       "      <th></th>\n",
       "      <th></th>\n",
       "      <th></th>\n",
       "    </tr>\n",
       "  </thead>\n",
       "  <tbody>\n",
       "    <tr>\n",
       "      <th>United States</th>\n",
       "      <td>USA</td>\n",
       "      <td>1.0</td>\n",
       "      <td>19485394.0</td>\n",
       "    </tr>\n",
       "    <tr>\n",
       "      <th>China</th>\n",
       "      <td>CHN</td>\n",
       "      <td>2.0</td>\n",
       "      <td>12237700.0</td>\n",
       "    </tr>\n",
       "    <tr>\n",
       "      <th>Japan</th>\n",
       "      <td>JPN</td>\n",
       "      <td>3.0</td>\n",
       "      <td>4872415.0</td>\n",
       "    </tr>\n",
       "    <tr>\n",
       "      <th>Germany</th>\n",
       "      <td>DEU</td>\n",
       "      <td>4.0</td>\n",
       "      <td>3693204.0</td>\n",
       "    </tr>\n",
       "    <tr>\n",
       "      <th>India</th>\n",
       "      <td>IND</td>\n",
       "      <td>5.0</td>\n",
       "      <td>2650725.0</td>\n",
       "    </tr>\n",
       "    <tr>\n",
       "      <th>...</th>\n",
       "      <td>...</td>\n",
       "      <td>...</td>\n",
       "      <td>...</td>\n",
       "    </tr>\n",
       "    <tr>\n",
       "      <th>Sint Maarten (Dutch part)</th>\n",
       "      <td>SXM</td>\n",
       "      <td>NaN</td>\n",
       "      <td>NaN</td>\n",
       "    </tr>\n",
       "    <tr>\n",
       "      <th>St. Martin (French part)</th>\n",
       "      <td>MAF</td>\n",
       "      <td>NaN</td>\n",
       "      <td>NaN</td>\n",
       "    </tr>\n",
       "    <tr>\n",
       "      <th>Syrian Arab Republic</th>\n",
       "      <td>SYR</td>\n",
       "      <td>NaN</td>\n",
       "      <td>NaN</td>\n",
       "    </tr>\n",
       "    <tr>\n",
       "      <th>Turks and Caicos Islands</th>\n",
       "      <td>TCA</td>\n",
       "      <td>NaN</td>\n",
       "      <td>NaN</td>\n",
       "    </tr>\n",
       "    <tr>\n",
       "      <th>Venezuela, RB</th>\n",
       "      <td>VEN</td>\n",
       "      <td>NaN</td>\n",
       "      <td>NaN</td>\n",
       "    </tr>\n",
       "  </tbody>\n",
       "</table>\n",
       "<p>217 rows × 3 columns</p>\n",
       "</div>"
      ],
      "text/plain": [
       "                          code  rank        gdp \n",
       "country                                         \n",
       "United States              USA   1.0  19485394.0\n",
       "China                      CHN   2.0  12237700.0\n",
       "Japan                      JPN   3.0   4872415.0\n",
       "Germany                    DEU   4.0   3693204.0\n",
       "India                      IND   5.0   2650725.0\n",
       "...                        ...   ...         ...\n",
       "Sint Maarten (Dutch part)  SXM   NaN         NaN\n",
       "St. Martin (French part)   MAF   NaN         NaN\n",
       "Syrian Arab Republic       SYR   NaN         NaN\n",
       "Turks and Caicos Islands   TCA   NaN         NaN\n",
       "Venezuela, RB              VEN   NaN         NaN\n",
       "\n",
       "[217 rows x 3 columns]"
      ]
     },
     "execution_count": 4,
     "metadata": {},
     "output_type": "execute_result"
    }
   ],
   "source": [
    "tabel1 = df.set_index('country')\n",
    "\n",
    "tabel1"
   ]
  },
  {
   "cell_type": "code",
   "execution_count": 5,
   "id": "fe52eed4",
   "metadata": {},
   "outputs": [
    {
     "data": {
      "text/html": [
       "<div>\n",
       "<style scoped>\n",
       "    .dataframe tbody tr th:only-of-type {\n",
       "        vertical-align: middle;\n",
       "    }\n",
       "\n",
       "    .dataframe tbody tr th {\n",
       "        vertical-align: top;\n",
       "    }\n",
       "\n",
       "    .dataframe thead th {\n",
       "        text-align: right;\n",
       "    }\n",
       "</style>\n",
       "<table border=\"1\" class=\"dataframe\">\n",
       "  <thead>\n",
       "    <tr style=\"text-align: right;\">\n",
       "      <th></th>\n",
       "      <th>region</th>\n",
       "    </tr>\n",
       "    <tr>\n",
       "      <th>country</th>\n",
       "      <th></th>\n",
       "    </tr>\n",
       "  </thead>\n",
       "  <tbody>\n",
       "    <tr>\n",
       "      <th>American Samoa</th>\n",
       "      <td>EAST ASIA AND PACIFIC</td>\n",
       "    </tr>\n",
       "    <tr>\n",
       "      <th>Australia</th>\n",
       "      <td>EAST ASIA AND PACIFIC</td>\n",
       "    </tr>\n",
       "    <tr>\n",
       "      <th>Brunei Darussalam</th>\n",
       "      <td>EAST ASIA AND PACIFIC</td>\n",
       "    </tr>\n",
       "    <tr>\n",
       "      <th>Cambodia</th>\n",
       "      <td>EAST ASIA AND PACIFIC</td>\n",
       "    </tr>\n",
       "    <tr>\n",
       "      <th>China</th>\n",
       "      <td>EAST ASIA AND PACIFIC</td>\n",
       "    </tr>\n",
       "    <tr>\n",
       "      <th>...</th>\n",
       "      <td>...</td>\n",
       "    </tr>\n",
       "    <tr>\n",
       "      <th>Tanzania</th>\n",
       "      <td>SUB-SAHARAN AFRICA</td>\n",
       "    </tr>\n",
       "    <tr>\n",
       "      <th>Togo</th>\n",
       "      <td>SUB-SAHARAN AFRICA</td>\n",
       "    </tr>\n",
       "    <tr>\n",
       "      <th>Uganda</th>\n",
       "      <td>SUB-SAHARAN AFRICA</td>\n",
       "    </tr>\n",
       "    <tr>\n",
       "      <th>Zambia</th>\n",
       "      <td>SUB-SAHARAN AFRICA</td>\n",
       "    </tr>\n",
       "    <tr>\n",
       "      <th>Zimbabwe</th>\n",
       "      <td>SUB-SAHARAN AFRICA</td>\n",
       "    </tr>\n",
       "  </tbody>\n",
       "</table>\n",
       "<p>218 rows × 1 columns</p>\n",
       "</div>"
      ],
      "text/plain": [
       "                                  region\n",
       "country                                 \n",
       "American Samoa     EAST ASIA AND PACIFIC\n",
       "Australia          EAST ASIA AND PACIFIC\n",
       "Brunei Darussalam  EAST ASIA AND PACIFIC\n",
       "Cambodia           EAST ASIA AND PACIFIC\n",
       "China              EAST ASIA AND PACIFIC\n",
       "...                                  ...\n",
       "Tanzania              SUB-SAHARAN AFRICA\n",
       "Togo                  SUB-SAHARAN AFRICA\n",
       "Uganda                SUB-SAHARAN AFRICA\n",
       "Zambia                SUB-SAHARAN AFRICA\n",
       "Zimbabwe              SUB-SAHARAN AFRICA\n",
       "\n",
       "[218 rows x 1 columns]"
      ]
     },
     "execution_count": 5,
     "metadata": {},
     "output_type": "execute_result"
    }
   ],
   "source": [
    "tabel2 = df2.set_index('country')\n",
    "\n",
    "tabel2"
   ]
  },
  {
   "cell_type": "code",
   "execution_count": 6,
   "id": "c5e3d181",
   "metadata": {},
   "outputs": [
    {
     "data": {
      "text/html": [
       "<div>\n",
       "<style scoped>\n",
       "    .dataframe tbody tr th:only-of-type {\n",
       "        vertical-align: middle;\n",
       "    }\n",
       "\n",
       "    .dataframe tbody tr th {\n",
       "        vertical-align: top;\n",
       "    }\n",
       "\n",
       "    .dataframe thead th {\n",
       "        text-align: right;\n",
       "    }\n",
       "</style>\n",
       "<table border=\"1\" class=\"dataframe\">\n",
       "  <thead>\n",
       "    <tr style=\"text-align: right;\">\n",
       "      <th></th>\n",
       "      <th>code</th>\n",
       "      <th>rank</th>\n",
       "      <th>gdp</th>\n",
       "      <th>region</th>\n",
       "    </tr>\n",
       "    <tr>\n",
       "      <th>country</th>\n",
       "      <th></th>\n",
       "      <th></th>\n",
       "      <th></th>\n",
       "      <th></th>\n",
       "    </tr>\n",
       "  </thead>\n",
       "  <tbody>\n",
       "    <tr>\n",
       "      <th>United States</th>\n",
       "      <td>USA</td>\n",
       "      <td>1.0</td>\n",
       "      <td>19485394.0</td>\n",
       "      <td>NORTH AMERICA</td>\n",
       "    </tr>\n",
       "    <tr>\n",
       "      <th>China</th>\n",
       "      <td>CHN</td>\n",
       "      <td>2.0</td>\n",
       "      <td>12237700.0</td>\n",
       "      <td>EAST ASIA AND PACIFIC</td>\n",
       "    </tr>\n",
       "    <tr>\n",
       "      <th>Japan</th>\n",
       "      <td>JPN</td>\n",
       "      <td>3.0</td>\n",
       "      <td>4872415.0</td>\n",
       "      <td>EAST ASIA AND PACIFIC</td>\n",
       "    </tr>\n",
       "    <tr>\n",
       "      <th>Germany</th>\n",
       "      <td>DEU</td>\n",
       "      <td>4.0</td>\n",
       "      <td>3693204.0</td>\n",
       "      <td>EUROPE AND CENTRAL ASIA</td>\n",
       "    </tr>\n",
       "    <tr>\n",
       "      <th>India</th>\n",
       "      <td>IND</td>\n",
       "      <td>5.0</td>\n",
       "      <td>2650725.0</td>\n",
       "      <td>SOUTH ASIA</td>\n",
       "    </tr>\n",
       "    <tr>\n",
       "      <th>...</th>\n",
       "      <td>...</td>\n",
       "      <td>...</td>\n",
       "      <td>...</td>\n",
       "      <td>...</td>\n",
       "    </tr>\n",
       "    <tr>\n",
       "      <th>Sint Maarten (Dutch part)</th>\n",
       "      <td>SXM</td>\n",
       "      <td>NaN</td>\n",
       "      <td>NaN</td>\n",
       "      <td>LATIN AMERICA AND THE CARIBBEAN</td>\n",
       "    </tr>\n",
       "    <tr>\n",
       "      <th>St. Martin (French part)</th>\n",
       "      <td>MAF</td>\n",
       "      <td>NaN</td>\n",
       "      <td>NaN</td>\n",
       "      <td>LATIN AMERICA AND THE CARIBBEAN</td>\n",
       "    </tr>\n",
       "    <tr>\n",
       "      <th>Syrian Arab Republic</th>\n",
       "      <td>SYR</td>\n",
       "      <td>NaN</td>\n",
       "      <td>NaN</td>\n",
       "      <td>MIDDLE EAST AND NORTH AFRICA</td>\n",
       "    </tr>\n",
       "    <tr>\n",
       "      <th>Turks and Caicos Islands</th>\n",
       "      <td>TCA</td>\n",
       "      <td>NaN</td>\n",
       "      <td>NaN</td>\n",
       "      <td>LATIN AMERICA AND THE CARIBBEAN</td>\n",
       "    </tr>\n",
       "    <tr>\n",
       "      <th>Venezuela, RB</th>\n",
       "      <td>VEN</td>\n",
       "      <td>NaN</td>\n",
       "      <td>NaN</td>\n",
       "      <td>LATIN AMERICA AND THE CARIBBEAN</td>\n",
       "    </tr>\n",
       "  </tbody>\n",
       "</table>\n",
       "<p>217 rows × 4 columns</p>\n",
       "</div>"
      ],
      "text/plain": [
       "                          code  rank        gdp   \\\n",
       "country                                            \n",
       "United States              USA   1.0  19485394.0   \n",
       "China                      CHN   2.0  12237700.0   \n",
       "Japan                      JPN   3.0   4872415.0   \n",
       "Germany                    DEU   4.0   3693204.0   \n",
       "India                      IND   5.0   2650725.0   \n",
       "...                        ...   ...         ...   \n",
       "Sint Maarten (Dutch part)  SXM   NaN         NaN   \n",
       "St. Martin (French part)   MAF   NaN         NaN   \n",
       "Syrian Arab Republic       SYR   NaN         NaN   \n",
       "Turks and Caicos Islands   TCA   NaN         NaN   \n",
       "Venezuela, RB              VEN   NaN         NaN   \n",
       "\n",
       "                                                    region  \n",
       "country                                                     \n",
       "United States                                NORTH AMERICA  \n",
       "China                                EAST ASIA AND PACIFIC  \n",
       "Japan                                EAST ASIA AND PACIFIC  \n",
       "Germany                            EUROPE AND CENTRAL ASIA  \n",
       "India                                          SOUTH ASIA   \n",
       "...                                                    ...  \n",
       "Sint Maarten (Dutch part)  LATIN AMERICA AND THE CARIBBEAN  \n",
       "St. Martin (French part)   LATIN AMERICA AND THE CARIBBEAN  \n",
       "Syrian Arab Republic          MIDDLE EAST AND NORTH AFRICA  \n",
       "Turks and Caicos Islands   LATIN AMERICA AND THE CARIBBEAN  \n",
       "Venezuela, RB              LATIN AMERICA AND THE CARIBBEAN  \n",
       "\n",
       "[217 rows x 4 columns]"
      ]
     },
     "execution_count": 6,
     "metadata": {},
     "output_type": "execute_result"
    }
   ],
   "source": [
    "join = tabel1.join(tabel2)\n",
    "\n",
    "join"
   ]
  },
  {
   "cell_type": "code",
   "execution_count": 7,
   "id": "7c877bbd",
   "metadata": {},
   "outputs": [
    {
     "data": {
      "text/plain": [
       "79725204.0"
      ]
     },
     "execution_count": 7,
     "metadata": {},
     "output_type": "execute_result"
    }
   ],
   "source": [
    "total_dunia = join[' gdp '].sum()\n",
    "\n",
    "total_dunia"
   ]
  },
  {
   "cell_type": "code",
   "execution_count": 9,
   "id": "e54d2456",
   "metadata": {},
   "outputs": [
    {
     "data": {
      "text/plain": [
       "array(['NORTH AMERICA', 'EAST ASIA AND PACIFIC',\n",
       "       'EUROPE AND CENTRAL ASIA', 'SOUTH ASIA\\xa0',\n",
       "       'LATIN AMERICA AND THE CARIBBEAN', nan,\n",
       "       'MIDDLE EAST AND NORTH AFRICA', 'SUB-SAHARAN AFRICA'], dtype=object)"
      ]
     },
     "execution_count": 9,
     "metadata": {},
     "output_type": "execute_result"
    }
   ],
   "source": [
    "join['region'].unique()"
   ]
  },
  {
   "cell_type": "code",
   "execution_count": 10,
   "id": "717afde1",
   "metadata": {},
   "outputs": [
    {
     "data": {
      "text/plain": [
       "21132514.0"
      ]
     },
     "execution_count": 10,
     "metadata": {},
     "output_type": "execute_result"
    }
   ],
   "source": [
    "NA = join.loc[join['region'] == 'NORTH AMERICA'][' gdp '].sum()\n",
    "\n",
    "NA "
   ]
  },
  {
   "cell_type": "code",
   "execution_count": 11,
   "id": "3af70a7a",
   "metadata": {},
   "outputs": [
    {
     "data": {
      "text/plain": [
       "23377837.0"
      ]
     },
     "execution_count": 11,
     "metadata": {},
     "output_type": "execute_result"
    }
   ],
   "source": [
    "EAP = join.loc[join['region'] == 'EAST ASIA AND PACIFIC'][' gdp '].sum()\n",
    "\n",
    "EAP"
   ]
  },
  {
   "cell_type": "code",
   "execution_count": 12,
   "id": "0fd7fb77",
   "metadata": {},
   "outputs": [
    {
     "data": {
      "text/plain": [
       "20639993.0"
      ]
     },
     "execution_count": 12,
     "metadata": {},
     "output_type": "execute_result"
    }
   ],
   "source": [
    "EACA = join.loc[join['region'] == 'EUROPE AND CENTRAL ASIA'][' gdp '].sum()\n",
    "\n",
    "EACA"
   ]
  },
  {
   "cell_type": "code",
   "execution_count": 13,
   "id": "a6da42a4",
   "metadata": {},
   "outputs": [
    {
     "data": {
      "text/plain": [
       "3344576.0"
      ]
     },
     "execution_count": 13,
     "metadata": {},
     "output_type": "execute_result"
    }
   ],
   "source": [
    "SA = join.loc[join['region'] == 'SOUTH ASIA\\xa0'][' gdp '].sum()\n",
    "\n",
    "SA"
   ]
  },
  {
   "cell_type": "code",
   "execution_count": 14,
   "id": "75fb1bb0",
   "metadata": {},
   "outputs": [
    {
     "data": {
      "text/plain": [
       "5499690.0"
      ]
     },
     "execution_count": 14,
     "metadata": {},
     "output_type": "execute_result"
    }
   ],
   "source": [
    "LATC = join.loc[join['region'] == 'LATIN AMERICA AND THE CARIBBEAN'][' gdp '].sum()\n",
    "\n",
    "LATC"
   ]
  },
  {
   "cell_type": "code",
   "execution_count": 15,
   "id": "e0516842",
   "metadata": {},
   "outputs": [
    {
     "data": {
      "text/plain": [
       "3206394.0"
      ]
     },
     "execution_count": 15,
     "metadata": {},
     "output_type": "execute_result"
    }
   ],
   "source": [
    "MENA = join.loc[join['region'] == 'MIDDLE EAST AND NORTH AFRICA'][' gdp '].sum()\n",
    "\n",
    "MENA"
   ]
  },
  {
   "cell_type": "code",
   "execution_count": 16,
   "id": "3a0ef9e5",
   "metadata": {},
   "outputs": [
    {
     "data": {
      "text/plain": [
       "1663950.0"
      ]
     },
     "execution_count": 16,
     "metadata": {},
     "output_type": "execute_result"
    }
   ],
   "source": [
    "SSA = join.loc[join['region'] == 'SUB-SAHARAN AFRICA'][' gdp '].sum()\n",
    "\n",
    "SSA"
   ]
  },
  {
   "cell_type": "code",
   "execution_count": 17,
   "id": "f6147bb5",
   "metadata": {},
   "outputs": [
    {
     "data": {
      "text/plain": [
       "array([21132514., 23377837., 20639993.,  3344576.,  5499690.,  3206394.,\n",
       "        1663950.])"
      ]
     },
     "execution_count": 17,
     "metadata": {},
     "output_type": "execute_result"
    }
   ],
   "source": [
    "gdp_regional = np.array([NA, EAP, EACA, SA, LATC, MENA, SSA])\n",
    "\n",
    "gdp_regional"
   ]
  },
  {
   "cell_type": "code",
   "execution_count": 18,
   "id": "9757f5bc",
   "metadata": {},
   "outputs": [
    {
     "data": {
      "text/plain": [
       "array(['NORTH AMERICA', 'EAST ASIA AND PACIFIC',\n",
       "       'EUROPE AND CENTRAL ASIA', 'SOUTH ASIA\\xa0',\n",
       "       'LATIN AMERICA AND THE CARIBBEAN', 'MIDDLE EAST AND NORTH AFRICA',\n",
       "       'SUB-SAHARAN AFRICA'], dtype=object)"
      ]
     },
     "execution_count": 18,
     "metadata": {},
     "output_type": "execute_result"
    }
   ],
   "source": [
    "region = np.delete(join['region'].unique(), 5)\n",
    "\n",
    "region"
   ]
  },
  {
   "cell_type": "code",
   "execution_count": 19,
   "id": "21f43caf",
   "metadata": {},
   "outputs": [
    {
     "data": {
      "text/plain": [
       "array(['NORTH AMERICA', 'EAST ASIA AND PACIFIC',\n",
       "       'EUROPE AND CENTRAL ASIA', 'SOUTH ASIA',\n",
       "       'LATIN AMERICA AND THE CARIBBEAN', 'MIDDLE EAST AND NORTH AFRICA',\n",
       "       'SUB-SAHARAN AFRICA'], dtype=object)"
      ]
     },
     "execution_count": 19,
     "metadata": {},
     "output_type": "execute_result"
    }
   ],
   "source": [
    "region[3] = 'SOUTH ASIA'\n",
    "\n",
    "region"
   ]
  },
  {
   "cell_type": "code",
   "execution_count": 24,
   "id": "07bb5282",
   "metadata": {},
   "outputs": [
    {
     "data": {
      "text/plain": [
       "array([1.223770e+07, 4.872415e+06, 1.530751e+06, 1.323421e+06,\n",
       "       1.015421e+06, 4.553030e+05, 3.414490e+05, 3.239070e+05,\n",
       "       3.147100e+05, 3.135950e+05, 2.237800e+05, 2.041390e+05,\n",
       "       6.706900e+04, 5.036100e+04, 2.215800e+04, 2.053600e+04,\n",
       "       1.685300e+04, 1.212800e+04, 1.143400e+04, 5.859000e+03,\n",
       "       5.061000e+03, 2.955000e+03, 1.593000e+03, 1.303000e+03,\n",
       "       8.630000e+02, 8.410000e+02, 6.340000e+02, 4.280000e+02,\n",
       "       3.360000e+02, 2.900000e+02, 2.040000e+02, 1.860000e+02,\n",
       "       1.140000e+02, 4.000000e+01])"
      ]
     },
     "execution_count": 24,
     "metadata": {},
     "output_type": "execute_result"
    }
   ],
   "source": [
    "EAP = join.loc[join['region'] == 'EAST ASIA AND PACIFIC'][' gdp ']\n",
    "\n",
    "EAP = EAP.to_numpy()\n",
    "\n",
    "EAP = np.delete(EAP, [34, 35, 36])\n",
    "\n",
    "EAP"
   ]
  },
  {
   "cell_type": "code",
   "execution_count": 25,
   "id": "00c9fa34",
   "metadata": {},
   "outputs": [
    {
     "data": {
      "text/plain": [
       "array(['China', 'Japan', 'Korea, Rep.', 'Australia', 'Indonesia',\n",
       "       'Thailand', 'Hong Kong SAR, China', 'Singapore', 'Malaysia',\n",
       "       'Philippines', 'Vietnam', 'New Zealand', 'Myanmar',\n",
       "       'Macao SAR, China', 'Cambodia', 'Papua New Guinea', 'Lao PDR',\n",
       "       'Brunei Darussalam', 'Mongolia', 'Guam', 'Fiji', 'Timor-Leste',\n",
       "       'Northern Mariana Islands', 'Solomon Islands', 'Vanuatu', 'Samoa',\n",
       "       'American Samoa', 'Tonga', 'Micronesia, Fed. Sts.', 'Palau',\n",
       "       'Marshall Islands', 'Kiribati', 'Nauru', 'Tuvalu'], dtype=object)"
      ]
     },
     "execution_count": 25,
     "metadata": {},
     "output_type": "execute_result"
    }
   ],
   "source": [
    "EAP_negara = join.loc[join['region'] == 'EAST ASIA AND PACIFIC'][' gdp '].reset_index()\n",
    "\n",
    "EAP_negara = EAP_negara['country'].to_numpy()\n",
    "\n",
    "EAP_negara = np.delete(EAP_negara, [34, 35, 36])\n",
    "\n",
    "EAP_negara"
   ]
  },
  {
   "cell_type": "code",
   "execution_count": 27,
   "id": "11a72f3f",
   "metadata": {},
   "outputs": [
    {
     "data": {
      "text/plain": [
       "array([12237700.,  4872415.,  1530751.,  1323421.,  1015421.,   455303.,\n",
       "         341449.,   323907.,   314710.,   313595.])"
      ]
     },
     "execution_count": 27,
     "metadata": {},
     "output_type": "execute_result"
    }
   ],
   "source": [
    "EAP = join.loc[join['region'] == 'EAST ASIA AND PACIFIC'][' gdp ']\n",
    "\n",
    "EAP = EAP.head(10).to_numpy()\n",
    "\n",
    "EAP"
   ]
  },
  {
   "cell_type": "code",
   "execution_count": 28,
   "id": "93d0e262",
   "metadata": {},
   "outputs": [
    {
     "data": {
      "text/plain": [
       "array(['China', 'Japan', 'Korea, Rep.', 'Australia', 'Indonesia',\n",
       "       'Thailand', 'Hong Kong SAR, China', 'Singapore', 'Malaysia',\n",
       "       'Philippines'], dtype=object)"
      ]
     },
     "execution_count": 28,
     "metadata": {},
     "output_type": "execute_result"
    }
   ],
   "source": [
    "EAP_negara = join.loc[join['region'] == 'EAST ASIA AND PACIFIC'][' gdp ']\n",
    "\n",
    "EAP_negara = EAP_negara.head(10).reset_index()\n",
    "\n",
    "EAP_negara = EAP_negara['country'].to_numpy()\n",
    "\n",
    "EAP_negara"
   ]
  },
  {
   "cell_type": "code",
   "execution_count": 29,
   "id": "f784af79",
   "metadata": {},
   "outputs": [],
   "source": [
    "import matplotlib.font_manager as fm"
   ]
  },
  {
   "cell_type": "code",
   "execution_count": 54,
   "id": "687d19de",
   "metadata": {},
   "outputs": [],
   "source": [
    "path = \"dream orphans.otf\"\n",
    "path2 = \"FeFCrm2.ttf\"\n",
    "path3 = \"steelfish rg.otf\"\n",
    "path4 = \"Philosopher-Regular.ttf\"\n",
    "\n",
    "\n",
    "font1 = fm.FontProperties(fname = path, size = 19)\n",
    "font2 = fm.FontProperties(fname = path2, size = 15)\n",
    "font3 = fm.FontProperties(fname = path3, size = 10)\n",
    "font4 = fm.FontProperties(fname = path4, size = 10)\n",
    "font5 = fm.FontProperties(fname = path4, size = 9)"
   ]
  },
  {
   "cell_type": "code",
   "execution_count": 80,
   "id": "0ad6317a",
   "metadata": {
    "scrolled": false
   },
   "outputs": [
    {
     "data": {
      "image/png": "[encoded data removed]",
      "text/plain": [
       "<Figure size 1200x1200 with 2 Axes>"
      ]
     },
     "metadata": {},
     "output_type": "display_data"
    }
   ],
   "source": [
    "\n",
    "fig, (ax1, ax2) = plt.subplots(nrows = 1, ncols = 2, figsize = (12,12))\n",
    "\n",
    "fig.tight_layout(pad = 10)\n",
    "explode = [0.05, 0.1, 0, 0, 0, 0, 0]\n",
    "explode2 = [0.08, 0.01, 0, 0, 0, 0, 0, 0, 0, 0]\n",
    "colors = ['#206261',  '#7f4042', '#de989a',  '#f4d0d4','#dfeae2','#7bbabb','#6a9798']\n",
    "colors2 = ['#668b69',  '#1d4f36', '#66523a',  '#a46e51','#ceba9f','#f8f2d8','#dddddd', '#b4d6c1', '#a7c4a8', '#96b596']\n",
    "\n",
    "\n",
    "ax1.pie(gdp_regional, labels = None , radius = 1.3, autopct='%1.1f%%',textprops={'font': font4}, pctdistance = 1.15,  explode = explode, colors = colors, shadow = True, startangle = 150)\n",
    "\n",
    "ax1.set_title(\"Gross Domestic Product\\nBerdasarkan Region Menurut World Bank\", loc = 'center', pad = 55, fontproperties = font2)\n",
    "\n",
    "ax1.legend(labels = region, bbox_to_anchor = (0.3, 0.2), borderpad = 0.5, labelspacing = 0.3, prop = font5 )\n",
    "\n",
    "\n",
    "\n",
    "\n",
    "ax2.pie(EAP, labels = None , radius = 1.1, autopct='%1.0f%%',textprops={'font': font5}, rotatelabels = True, pctdistance = 1.12, explode = explode2, colors = colors2, shadow = True, startangle = 90)\n",
    "\n",
    "ax2.set_title(\"Gross Domestic Product\\nRegion East Asia And Pacific\", loc = 'center', pad = 30, fontproperties = font2)\n",
    "\n",
    "ax2.legend(labels = EAP_negara, bbox_to_anchor = (0.4, 0.3), borderpad = 0.5, labelspacing = 0.3, prop = font5 )\n",
    "\n",
    "\n",
    "\n",
    "\n",
    "plt.show()"
   ]
  },
  {
   "cell_type": "code",
   "execution_count": null,
   "id": "653b531e",
   "metadata": {},
   "outputs": [],
   "source": []
  }
 ],
 "metadata": {
  "kernelspec": {
   "display_name": "Python 3 (ipykernel)",
   "language": "python",
   "name": "python3"
  },
  "language_info": {
   "codemirror_mode": {
    "name": "ipython",
    "version": 3
   },
   "file_extension": ".py",
   "mimetype": "text/x-python",
   "name": "python",
   "nbconvert_exporter": "python",
   "pygments_lexer": "ipython3",
   "version": "3.10.8"
  }
 },
 "nbformat": 4,
 "nbformat_minor": 5
}
