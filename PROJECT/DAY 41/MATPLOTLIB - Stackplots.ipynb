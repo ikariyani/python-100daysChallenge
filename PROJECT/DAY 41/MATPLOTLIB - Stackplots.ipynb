{
 "cells": [
  {
   "cell_type": "markdown",
   "id": "7c90175e",
   "metadata": {},
   "source": [
    "| <img src=\"https://upload.wikimedia.org/wikipedia/commons/f/f8/Python_logo_and_wordmark.svg\" style=\"height:100px\"> | <img src=\"https://upload.wikimedia.org/wikipedia/fr/3/37/Logo_Matplotlib.svg\" style=\"height:80px\"> |\n",
    "| --- | --- |\n",
    "\n",
    "# MATPLOTLIB - Stackplots"
   ]
  },
  {
   "cell_type": "code",
   "execution_count": 1,
   "id": "7e68d152",
   "metadata": {},
   "outputs": [],
   "source": [
    "import matplotlib.pyplot as plt\n",
    "import pandas as pd\n",
    "import numpy as np"
   ]
  },
  {
   "cell_type": "code",
   "execution_count": 2,
   "id": "b3e88b09",
   "metadata": {},
   "outputs": [
    {
     "data": {
      "text/html": [
       "<div>\n",
       "<style scoped>\n",
       "    .dataframe tbody tr th:only-of-type {\n",
       "        vertical-align: middle;\n",
       "    }\n",
       "\n",
       "    .dataframe tbody tr th {\n",
       "        vertical-align: top;\n",
       "    }\n",
       "\n",
       "    .dataframe thead th {\n",
       "        text-align: right;\n",
       "    }\n",
       "</style>\n",
       "<table border=\"1\" class=\"dataframe\">\n",
       "  <thead>\n",
       "    <tr style=\"text-align: right;\">\n",
       "      <th></th>\n",
       "      <th>REGION</th>\n",
       "      <th>SALARY</th>\n",
       "      <th>YEAR</th>\n",
       "    </tr>\n",
       "  </thead>\n",
       "  <tbody>\n",
       "    <tr>\n",
       "      <th>0</th>\n",
       "      <td>ACEH</td>\n",
       "      <td>128000</td>\n",
       "      <td>1997</td>\n",
       "    </tr>\n",
       "    <tr>\n",
       "      <th>1</th>\n",
       "      <td>SUMATERA UTARA</td>\n",
       "      <td>151000</td>\n",
       "      <td>1997</td>\n",
       "    </tr>\n",
       "    <tr>\n",
       "      <th>2</th>\n",
       "      <td>SUMATERA BARAT</td>\n",
       "      <td>119000</td>\n",
       "      <td>1997</td>\n",
       "    </tr>\n",
       "    <tr>\n",
       "      <th>3</th>\n",
       "      <td>RIAU</td>\n",
       "      <td>151500</td>\n",
       "      <td>1997</td>\n",
       "    </tr>\n",
       "    <tr>\n",
       "      <th>4</th>\n",
       "      <td>JAMBI</td>\n",
       "      <td>119500</td>\n",
       "      <td>1997</td>\n",
       "    </tr>\n",
       "    <tr>\n",
       "      <th>...</th>\n",
       "      <td>...</td>\n",
       "      <td>...</td>\n",
       "      <td>...</td>\n",
       "    </tr>\n",
       "    <tr>\n",
       "      <th>865</th>\n",
       "      <td>MALUKU</td>\n",
       "      <td>2619312</td>\n",
       "      <td>2022</td>\n",
       "    </tr>\n",
       "    <tr>\n",
       "      <th>866</th>\n",
       "      <td>MALUKU UTARA</td>\n",
       "      <td>2862231</td>\n",
       "      <td>2022</td>\n",
       "    </tr>\n",
       "    <tr>\n",
       "      <th>867</th>\n",
       "      <td>PAPUA BARAT</td>\n",
       "      <td>3200000</td>\n",
       "      <td>2022</td>\n",
       "    </tr>\n",
       "    <tr>\n",
       "      <th>868</th>\n",
       "      <td>PAPUA</td>\n",
       "      <td>3561932</td>\n",
       "      <td>2022</td>\n",
       "    </tr>\n",
       "    <tr>\n",
       "      <th>869</th>\n",
       "      <td>INDONESIA</td>\n",
       "      <td>2644709</td>\n",
       "      <td>2022</td>\n",
       "    </tr>\n",
       "  </tbody>\n",
       "</table>\n",
       "<p>870 rows × 3 columns</p>\n",
       "</div>"
      ],
      "text/plain": [
       "             REGION   SALARY  YEAR\n",
       "0              ACEH   128000  1997\n",
       "1    SUMATERA UTARA   151000  1997\n",
       "2    SUMATERA BARAT   119000  1997\n",
       "3              RIAU   151500  1997\n",
       "4             JAMBI   119500  1997\n",
       "..              ...      ...   ...\n",
       "865          MALUKU  2619312  2022\n",
       "866    MALUKU UTARA  2862231  2022\n",
       "867     PAPUA BARAT  3200000  2022\n",
       "868           PAPUA  3561932  2022\n",
       "869       INDONESIA  2644709  2022\n",
       "\n",
       "[870 rows x 3 columns]"
      ]
     },
     "execution_count": 2,
     "metadata": {},
     "output_type": "execute_result"
    }
   ],
   "source": [
    "file = \"Indonesian Salary by Region (1997-2022).csv\"\n",
    "\n",
    "df = pd.read_csv(file)\n",
    "\n",
    "df"
   ]
  },
  {
   "cell_type": "code",
   "execution_count": 3,
   "id": "63428d17",
   "metadata": {},
   "outputs": [
    {
     "data": {
      "text/plain": [
       "array(['ACEH', 'SUMATERA UTARA', 'SUMATERA BARAT', 'RIAU', 'JAMBI',\n",
       "       'SUMATERA SELATAN', 'BENGKULU', 'LAMPUNG', 'KEP. RIAU',\n",
       "       'DKI JAKARTA', 'JAWA BARAT', 'JAWA TENGAH', 'DI YOGYAKARTA',\n",
       "       'JAWA TIMUR', 'BALI', 'NUSA TENGGARA BARAT', 'NUSA TENGGARA TIMUR',\n",
       "       'KALIMANTAN BARAT', 'KALIMANTAN TENGAH', 'KALIMANTAN SELATAN',\n",
       "       'KALIMANTAN TIMUR', 'SULAWESI UTARA', 'SULAWESI TENGAH',\n",
       "       'SULAWESI SELATAN', 'SULAWESI TENGGARA', 'MALUKU', 'PAPUA',\n",
       "       'INDONESIA', 'KEP. BANGKA BELITUNG', 'BANTEN', 'GORONTALO',\n",
       "       'MALUKU UTARA', 'SULAWESI BARAT', 'PAPUA BARAT',\n",
       "       'KALIMANTAN UTARA'], dtype=object)"
      ]
     },
     "execution_count": 3,
     "metadata": {},
     "output_type": "execute_result"
    }
   ],
   "source": [
    "df['REGION'].unique()"
   ]
  },
  {
   "cell_type": "code",
   "execution_count": 4,
   "id": "485486fc",
   "metadata": {},
   "outputs": [
    {
     "data": {
      "text/html": [
       "<div>\n",
       "<style scoped>\n",
       "    .dataframe tbody tr th:only-of-type {\n",
       "        vertical-align: middle;\n",
       "    }\n",
       "\n",
       "    .dataframe tbody tr th {\n",
       "        vertical-align: top;\n",
       "    }\n",
       "\n",
       "    .dataframe thead th {\n",
       "        text-align: right;\n",
       "    }\n",
       "</style>\n",
       "<table border=\"1\" class=\"dataframe\">\n",
       "  <thead>\n",
       "    <tr style=\"text-align: right;\">\n",
       "      <th></th>\n",
       "      <th>REGION</th>\n",
       "      <th>SALARY</th>\n",
       "      <th>YEAR</th>\n",
       "    </tr>\n",
       "  </thead>\n",
       "  <tbody>\n",
       "    <tr>\n",
       "      <th>28</th>\n",
       "      <td>ACEH</td>\n",
       "      <td>147000</td>\n",
       "      <td>1998</td>\n",
       "    </tr>\n",
       "    <tr>\n",
       "      <th>29</th>\n",
       "      <td>SUMATERA UTARA</td>\n",
       "      <td>174000</td>\n",
       "      <td>1998</td>\n",
       "    </tr>\n",
       "    <tr>\n",
       "      <th>30</th>\n",
       "      <td>SUMATERA BARAT</td>\n",
       "      <td>137000</td>\n",
       "      <td>1998</td>\n",
       "    </tr>\n",
       "    <tr>\n",
       "      <th>31</th>\n",
       "      <td>RIAU</td>\n",
       "      <td>174000</td>\n",
       "      <td>1998</td>\n",
       "    </tr>\n",
       "    <tr>\n",
       "      <th>32</th>\n",
       "      <td>JAMBI</td>\n",
       "      <td>137500</td>\n",
       "      <td>1998</td>\n",
       "    </tr>\n",
       "    <tr>\n",
       "      <th>...</th>\n",
       "      <td>...</td>\n",
       "      <td>...</td>\n",
       "      <td>...</td>\n",
       "    </tr>\n",
       "    <tr>\n",
       "      <th>865</th>\n",
       "      <td>MALUKU</td>\n",
       "      <td>2619312</td>\n",
       "      <td>2022</td>\n",
       "    </tr>\n",
       "    <tr>\n",
       "      <th>866</th>\n",
       "      <td>MALUKU UTARA</td>\n",
       "      <td>2862231</td>\n",
       "      <td>2022</td>\n",
       "    </tr>\n",
       "    <tr>\n",
       "      <th>867</th>\n",
       "      <td>PAPUA BARAT</td>\n",
       "      <td>3200000</td>\n",
       "      <td>2022</td>\n",
       "    </tr>\n",
       "    <tr>\n",
       "      <th>868</th>\n",
       "      <td>PAPUA</td>\n",
       "      <td>3561932</td>\n",
       "      <td>2022</td>\n",
       "    </tr>\n",
       "    <tr>\n",
       "      <th>869</th>\n",
       "      <td>INDONESIA</td>\n",
       "      <td>2644709</td>\n",
       "      <td>2022</td>\n",
       "    </tr>\n",
       "  </tbody>\n",
       "</table>\n",
       "<p>842 rows × 3 columns</p>\n",
       "</div>"
      ],
      "text/plain": [
       "             REGION   SALARY  YEAR\n",
       "28             ACEH   147000  1998\n",
       "29   SUMATERA UTARA   174000  1998\n",
       "30   SUMATERA BARAT   137000  1998\n",
       "31             RIAU   174000  1998\n",
       "32            JAMBI   137500  1998\n",
       "..              ...      ...   ...\n",
       "865          MALUKU  2619312  2022\n",
       "866    MALUKU UTARA  2862231  2022\n",
       "867     PAPUA BARAT  3200000  2022\n",
       "868           PAPUA  3561932  2022\n",
       "869       INDONESIA  2644709  2022\n",
       "\n",
       "[842 rows x 3 columns]"
      ]
     },
     "execution_count": 4,
     "metadata": {},
     "output_type": "execute_result"
    }
   ],
   "source": [
    "df = df.loc[df['YEAR'] > 1997]\n",
    "\n",
    "df"
   ]
  },
  {
   "cell_type": "code",
   "execution_count": 5,
   "id": "9b2b7013",
   "metadata": {},
   "outputs": [
    {
     "name": "stderr",
     "output_type": "stream",
     "text": [
      "C:\\Users\\HP\\AppData\\Local\\Temp\\ipykernel_1476\\949402192.py:10: SettingWithCopyWarning: \n",
      "A value is trying to be set on a copy of a slice from a DataFrame.\n",
      "Try using .loc[row_indexer,col_indexer] = value instead\n",
      "\n",
      "See the caveats in the documentation: https://pandas.pydata.org/pandas-docs/stable/user_guide/indexing.html#returning-a-view-versus-a-copy\n",
      "  df['Kategori'] = df['REGION'].apply(kategori)\n"
     ]
    }
   ],
   "source": [
    "def kategori (x) :\n",
    "    if (x == 'ACEH' or x == 'SUMATERA UTARA' or x == 'SUMATERA BARAT' or x == 'RIAU' or x == 'JAMBI' or x == 'SUMATERA SELATAN' or x == 'BENGKULU' or x == \"LAMPUNG\" or x == 'KEP. RIAU' or x == 'KEP. BANGKA BELITUNG') :\n",
    "         return 'Sumatera'\n",
    "    \n",
    "    else :\n",
    "        return 'Indonesia'\n",
    "    \n",
    "\n",
    "\n",
    "df['Kategori'] = df['REGION'].apply(kategori)"
   ]
  },
  {
   "cell_type": "code",
   "execution_count": 8,
   "id": "df7a0e3d",
   "metadata": {},
   "outputs": [
    {
     "data": {
      "text/html": [
       "<div>\n",
       "<style scoped>\n",
       "    .dataframe tbody tr th:only-of-type {\n",
       "        vertical-align: middle;\n",
       "    }\n",
       "\n",
       "    .dataframe tbody tr th {\n",
       "        vertical-align: top;\n",
       "    }\n",
       "\n",
       "    .dataframe thead th {\n",
       "        text-align: right;\n",
       "    }\n",
       "</style>\n",
       "<table border=\"1\" class=\"dataframe\">\n",
       "  <thead>\n",
       "    <tr style=\"text-align: right;\">\n",
       "      <th></th>\n",
       "      <th>REGION</th>\n",
       "      <th>SALARY</th>\n",
       "      <th>YEAR</th>\n",
       "      <th>Kategori</th>\n",
       "    </tr>\n",
       "  </thead>\n",
       "  <tbody>\n",
       "    <tr>\n",
       "      <th>28</th>\n",
       "      <td>ACEH</td>\n",
       "      <td>147000</td>\n",
       "      <td>1998</td>\n",
       "      <td>Sumatera</td>\n",
       "    </tr>\n",
       "    <tr>\n",
       "      <th>29</th>\n",
       "      <td>SUMATERA UTARA</td>\n",
       "      <td>174000</td>\n",
       "      <td>1998</td>\n",
       "      <td>Sumatera</td>\n",
       "    </tr>\n",
       "    <tr>\n",
       "      <th>30</th>\n",
       "      <td>SUMATERA BARAT</td>\n",
       "      <td>137000</td>\n",
       "      <td>1998</td>\n",
       "      <td>Sumatera</td>\n",
       "    </tr>\n",
       "    <tr>\n",
       "      <th>31</th>\n",
       "      <td>RIAU</td>\n",
       "      <td>174000</td>\n",
       "      <td>1998</td>\n",
       "      <td>Sumatera</td>\n",
       "    </tr>\n",
       "    <tr>\n",
       "      <th>32</th>\n",
       "      <td>JAMBI</td>\n",
       "      <td>137500</td>\n",
       "      <td>1998</td>\n",
       "      <td>Sumatera</td>\n",
       "    </tr>\n",
       "    <tr>\n",
       "      <th>...</th>\n",
       "      <td>...</td>\n",
       "      <td>...</td>\n",
       "      <td>...</td>\n",
       "      <td>...</td>\n",
       "    </tr>\n",
       "    <tr>\n",
       "      <th>840</th>\n",
       "      <td>SUMATERA SELATAN</td>\n",
       "      <td>3144446</td>\n",
       "      <td>2022</td>\n",
       "      <td>Sumatera</td>\n",
       "    </tr>\n",
       "    <tr>\n",
       "      <th>841</th>\n",
       "      <td>BENGKULU</td>\n",
       "      <td>2238094</td>\n",
       "      <td>2022</td>\n",
       "      <td>Sumatera</td>\n",
       "    </tr>\n",
       "    <tr>\n",
       "      <th>842</th>\n",
       "      <td>LAMPUNG</td>\n",
       "      <td>2440486</td>\n",
       "      <td>2022</td>\n",
       "      <td>Sumatera</td>\n",
       "    </tr>\n",
       "    <tr>\n",
       "      <th>843</th>\n",
       "      <td>KEP. BANGKA BELITUNG</td>\n",
       "      <td>3264881</td>\n",
       "      <td>2022</td>\n",
       "      <td>Sumatera</td>\n",
       "    </tr>\n",
       "    <tr>\n",
       "      <th>844</th>\n",
       "      <td>KEP. RIAU</td>\n",
       "      <td>3050172</td>\n",
       "      <td>2022</td>\n",
       "      <td>Sumatera</td>\n",
       "    </tr>\n",
       "  </tbody>\n",
       "</table>\n",
       "<p>250 rows × 4 columns</p>\n",
       "</div>"
      ],
      "text/plain": [
       "                   REGION   SALARY  YEAR  Kategori\n",
       "28                   ACEH   147000  1998  Sumatera\n",
       "29         SUMATERA UTARA   174000  1998  Sumatera\n",
       "30         SUMATERA BARAT   137000  1998  Sumatera\n",
       "31                   RIAU   174000  1998  Sumatera\n",
       "32                  JAMBI   137500  1998  Sumatera\n",
       "..                    ...      ...   ...       ...\n",
       "840      SUMATERA SELATAN  3144446  2022  Sumatera\n",
       "841              BENGKULU  2238094  2022  Sumatera\n",
       "842               LAMPUNG  2440486  2022  Sumatera\n",
       "843  KEP. BANGKA BELITUNG  3264881  2022  Sumatera\n",
       "844             KEP. RIAU  3050172  2022  Sumatera\n",
       "\n",
       "[250 rows x 4 columns]"
      ]
     },
     "execution_count": 8,
     "metadata": {},
     "output_type": "execute_result"
    }
   ],
   "source": [
    "sumatera = df.loc[df['Kategori'] == 'Sumatera']\n",
    "\n",
    "sumatera"
   ]
  },
  {
   "cell_type": "code",
   "execution_count": 9,
   "id": "c1d555af",
   "metadata": {},
   "outputs": [
    {
     "data": {
      "text/plain": [
       "28      147000\n",
       "60      171000\n",
       "92      265000\n",
       "124     300000\n",
       "156     330000\n",
       "188     425000\n",
       "220     550000\n",
       "252     620000\n",
       "284     820000\n",
       "318     850000\n",
       "352    1000000\n",
       "386    1200000\n",
       "420    1300000\n",
       "454    1350000\n",
       "488    1400000\n",
       "522    1550000\n",
       "556    1750000\n",
       "590    1900000\n",
       "625    2118500\n",
       "660    2500000\n",
       "695    2700000\n",
       "730    2916810\n",
       "765    3165031\n",
       "800    3165031\n",
       "835    3166460\n",
       "Name: SALARY, dtype: int64"
      ]
     },
     "execution_count": 9,
     "metadata": {},
     "output_type": "execute_result"
    }
   ],
   "source": [
    "aceh = sumatera.loc[df['REGION'] == 'ACEH']\n",
    "\n",
    "aceh = aceh['SALARY']\n",
    "\n",
    "aceh"
   ]
  },
  {
   "cell_type": "code",
   "execution_count": 10,
   "id": "f6098b30",
   "metadata": {},
   "outputs": [
    {
     "data": {
      "text/plain": [
       "29      174000\n",
       "61      210000\n",
       "93      254000\n",
       "125     340500\n",
       "157     464000\n",
       "189     505000\n",
       "221     537000\n",
       "253     600000\n",
       "285     737794\n",
       "319     761000\n",
       "353     822205\n",
       "387     905000\n",
       "421     965000\n",
       "455    1035500\n",
       "489    1200000\n",
       "523    1375000\n",
       "557    1505850\n",
       "591    1625000\n",
       "626    1811875\n",
       "661    1961354\n",
       "696    2132189\n",
       "731    2303403\n",
       "766    2499423\n",
       "801    2499423\n",
       "836    2522609\n",
       "Name: SALARY, dtype: int64"
      ]
     },
     "execution_count": 10,
     "metadata": {},
     "output_type": "execute_result"
    }
   ],
   "source": [
    "sumut = sumatera.loc[df['REGION'] == 'SUMATERA UTARA']\n",
    "\n",
    "sumut = sumut['SALARY']\n",
    "\n",
    "sumut"
   ]
  },
  {
   "cell_type": "code",
   "execution_count": 11,
   "id": "b90d1298",
   "metadata": {},
   "outputs": [
    {
     "data": {
      "text/plain": [
       "30      137000\n",
       "62      160000\n",
       "94      200000\n",
       "126     250000\n",
       "158     385000\n",
       "190     435000\n",
       "222     480000\n",
       "254     540000\n",
       "286     650000\n",
       "320     725000\n",
       "354     800000\n",
       "388     880000\n",
       "422     940000\n",
       "456    1055000\n",
       "490    1150000\n",
       "524    1350000\n",
       "558    1490000\n",
       "592    1615000\n",
       "627    1800725\n",
       "662    1949284\n",
       "697    2119067\n",
       "732    2289220\n",
       "767    2484041\n",
       "802    2484041\n",
       "837    2512539\n",
       "Name: SALARY, dtype: int64"
      ]
     },
     "execution_count": 11,
     "metadata": {},
     "output_type": "execute_result"
    }
   ],
   "source": [
    "sumbar = sumatera.loc[df['REGION'] == 'SUMATERA BARAT']\n",
    "\n",
    "sumbar = sumbar['SALARY']\n",
    "\n",
    "sumbar"
   ]
  },
  {
   "cell_type": "code",
   "execution_count": 12,
   "id": "4c59e52c",
   "metadata": {},
   "outputs": [
    {
     "data": {
      "text/plain": [
       "31      174000\n",
       "63      218000\n",
       "95      250700\n",
       "127     329000\n",
       "159     394000\n",
       "191     437500\n",
       "223     476900\n",
       "255     551500\n",
       "287     637000\n",
       "321     710000\n",
       "355     800000\n",
       "389     901600\n",
       "423    1016000\n",
       "457    1120000\n",
       "491    1238000\n",
       "525    1400000\n",
       "559    1700000\n",
       "593    1878000\n",
       "628    2095000\n",
       "663    2266722\n",
       "698    2464154\n",
       "733    2662026\n",
       "768    2888564\n",
       "803    3005460\n",
       "838    2938564\n",
       "Name: SALARY, dtype: int64"
      ]
     },
     "execution_count": 12,
     "metadata": {},
     "output_type": "execute_result"
    }
   ],
   "source": [
    "riau = sumatera.loc[df['REGION'] == 'RIAU']\n",
    "\n",
    "riau = riau['SALARY']\n",
    "\n",
    "riau"
   ]
  },
  {
   "cell_type": "code",
   "execution_count": 13,
   "id": "91c2e2e8",
   "metadata": {},
   "outputs": [
    {
     "data": {
      "text/plain": [
       "32      137500\n",
       "64      150000\n",
       "96      173000\n",
       "128     245000\n",
       "160     304000\n",
       "192     390000\n",
       "224     425000\n",
       "256     485000\n",
       "288     563000\n",
       "322     658000\n",
       "356     724000\n",
       "390     800000\n",
       "424     900000\n",
       "458    1028000\n",
       "492    1142500\n",
       "526    1300000\n",
       "560    1502300\n",
       "594    1710000\n",
       "629    1906650\n",
       "664    2063000\n",
       "699    2243719\n",
       "734    2423889\n",
       "769    2630162\n",
       "804    3230023\n",
       "839    2649034\n",
       "Name: SALARY, dtype: int64"
      ]
     },
     "execution_count": 13,
     "metadata": {},
     "output_type": "execute_result"
    }
   ],
   "source": [
    "jambi = sumatera.loc[df['REGION'] == 'JAMBI']\n",
    "\n",
    "jambi = jambi['SALARY']\n",
    "\n",
    "jambi"
   ]
  },
  {
   "cell_type": "code",
   "execution_count": 14,
   "id": "ff0ff234",
   "metadata": {},
   "outputs": [
    {
     "data": {
      "text/plain": [
       "33      146500\n",
       "65      170000\n",
       "97      190000\n",
       "129     255000\n",
       "161     331500\n",
       "193     403500\n",
       "225     460000\n",
       "257     503700\n",
       "289     604000\n",
       "323     662000\n",
       "357     743000\n",
       "391     824730\n",
       "425     927825\n",
       "459    1048440\n",
       "493    1195220\n",
       "527    1630000\n",
       "561    1825000\n",
       "595    1974346\n",
       "630    2206000\n",
       "665    2388000\n",
       "700    2595995\n",
       "735    2804453\n",
       "770    3043111\n",
       "805    3043111\n",
       "840    3144446\n",
       "Name: SALARY, dtype: int64"
      ]
     },
     "execution_count": 14,
     "metadata": {},
     "output_type": "execute_result"
    }
   ],
   "source": [
    "sumsel = sumatera.loc[df['REGION'] == 'SUMATERA SELATAN']\n",
    "\n",
    "sumsel = sumsel['SALARY']\n",
    "\n",
    "sumsel"
   ]
  },
  {
   "cell_type": "code",
   "execution_count": 15,
   "id": "89ad6769",
   "metadata": {},
   "outputs": [
    {
     "data": {
      "text/plain": [
       "34      146500\n",
       "66      150000\n",
       "98      173000\n",
       "130     240000\n",
       "162     295000\n",
       "194     330000\n",
       "226     363000\n",
       "258     430000\n",
       "290     516000\n",
       "324     644838\n",
       "358     690000\n",
       "392     735000\n",
       "426     780000\n",
       "460     815000\n",
       "494     930000\n",
       "528    1200000\n",
       "562    1350000\n",
       "596    1500000\n",
       "631    1605000\n",
       "666    1730000\n",
       "701    1888741\n",
       "736    2040407\n",
       "771    2213604\n",
       "806    2888564\n",
       "841    2238094\n",
       "Name: SALARY, dtype: int64"
      ]
     },
     "execution_count": 15,
     "metadata": {},
     "output_type": "execute_result"
    }
   ],
   "source": [
    "bengkulu = sumatera.loc[df['REGION'] == 'BENGKULU']\n",
    "\n",
    "bengkulu = bengkulu['SALARY']\n",
    "\n",
    "bengkulu"
   ]
  },
  {
   "cell_type": "code",
   "execution_count": 16,
   "id": "d3b0803c",
   "metadata": {},
   "outputs": [
    {
     "data": {
      "text/plain": [
       "34      146500\n",
       "66      150000\n",
       "98      173000\n",
       "130     240000\n",
       "162     295000\n",
       "194     330000\n",
       "226     363000\n",
       "258     430000\n",
       "290     516000\n",
       "324     644838\n",
       "358     690000\n",
       "392     735000\n",
       "426     780000\n",
       "460     815000\n",
       "494     930000\n",
       "528    1200000\n",
       "562    1350000\n",
       "596    1500000\n",
       "631    1605000\n",
       "666    1730000\n",
       "701    1888741\n",
       "736    2040407\n",
       "771    2213604\n",
       "806    2888564\n",
       "841    2238094\n",
       "Name: SALARY, dtype: int64"
      ]
     },
     "execution_count": 16,
     "metadata": {},
     "output_type": "execute_result"
    }
   ],
   "source": [
    "lampung = sumatera.loc[df['REGION'] == 'BENGKULU']\n",
    "\n",
    "lampung = lampung['SALARY']\n",
    "\n",
    "lampung"
   ]
  },
  {
   "cell_type": "code",
   "execution_count": 17,
   "id": "11204cec",
   "metadata": {},
   "outputs": [
    {
     "data": {
      "text/plain": [
       "37      174000\n",
       "69      218000\n",
       "101     300000\n",
       "133     421500\n",
       "165     421500\n",
       "197     421500\n",
       "229     421500\n",
       "261     557000\n",
       "293     760000\n",
       "327     805000\n",
       "361     833000\n",
       "395     892000\n",
       "429     925000\n",
       "463     975000\n",
       "497    1015000\n",
       "531    1365087\n",
       "565    1665000\n",
       "599    1954000\n",
       "634    2178710\n",
       "669    2358454\n",
       "704    2563875\n",
       "739    2769754\n",
       "774    3005460\n",
       "809    2630162\n",
       "844    3050172\n",
       "Name: SALARY, dtype: int64"
      ]
     },
     "execution_count": 17,
     "metadata": {},
     "output_type": "execute_result"
    }
   ],
   "source": [
    "kepri = sumatera.loc[df['REGION'] == 'KEP. RIAU']\n",
    "\n",
    "kepri = kepri['SALARY']\n",
    "\n",
    "kepri"
   ]
  },
  {
   "cell_type": "code",
   "execution_count": 18,
   "id": "bd8ba220",
   "metadata": {},
   "outputs": [
    {
     "data": {
      "text/plain": [
       "36      146500\n",
       "68      170000\n",
       "100     190000\n",
       "132     255000\n",
       "164     345000\n",
       "196     379500\n",
       "228     447900\n",
       "260     560000\n",
       "292     640000\n",
       "326     720000\n",
       "360     813000\n",
       "394     850000\n",
       "428     910000\n",
       "462    1024000\n",
       "496    1110000\n",
       "530    1265000\n",
       "564    1640000\n",
       "598    2100000\n",
       "633    2341500\n",
       "668    2534673\n",
       "703    2755444\n",
       "738    2976706\n",
       "773    3230024\n",
       "808    2215000\n",
       "843    3264881\n",
       "Name: SALARY, dtype: int64"
      ]
     },
     "execution_count": 18,
     "metadata": {},
     "output_type": "execute_result"
    }
   ],
   "source": [
    "babel = sumatera.loc[df['REGION'] == 'KEP. BANGKA BELITUNG']\n",
    "\n",
    "babel = babel['SALARY']\n",
    "\n",
    "babel"
   ]
  },
  {
   "cell_type": "code",
   "execution_count": 19,
   "id": "dd747154",
   "metadata": {},
   "outputs": [
    {
     "data": {
      "text/plain": [
       "array([1998, 1999, 2000, 2001, 2002, 2003, 2004, 2005, 2006, 2007, 2008,\n",
       "       2009, 2010, 2011, 2012, 2013, 2014, 2015, 2016, 2017, 2018, 2019,\n",
       "       2020, 2021, 2022])"
      ]
     },
     "execution_count": 19,
     "metadata": {},
     "output_type": "execute_result"
    }
   ],
   "source": [
    "tahun = np.arange(1998, 2023, 1)\n",
    "\n",
    "tahun"
   ]
  },
  {
   "cell_type": "code",
   "execution_count": 20,
   "id": "e726007a",
   "metadata": {},
   "outputs": [],
   "source": [
    "import matplotlib.font_manager as fm"
   ]
  },
  {
   "cell_type": "code",
   "execution_count": 21,
   "id": "17a19659",
   "metadata": {},
   "outputs": [],
   "source": [
    "path = \"MADEAvenuePERSONALUSE-Regular.otf\"\n",
    "path2 = \"Philosopher-Regular.ttf\"\n",
    "path3 = \"Quicksand_Bold.otf\"\n",
    "\n",
    "\n",
    "\n",
    "font1 = fm.FontProperties(fname = path, size = 18)\n",
    "font2 = fm.FontProperties(fname = path2, size = 15)\n",
    "font3 = fm.FontProperties(fname = path3, size = 10)\n",
    "font4 = fm.FontProperties(fname = path, size = 10)\n",
    "font5 = fm.FontProperties(fname = path2, size = 10)"
   ]
  },
  {
   "cell_type": "code",
   "execution_count": 43,
   "id": "a86b0a38",
   "metadata": {},
   "outputs": [
    {
     "data": {
      "image/png": "[encoded data removed]",
      "text/plain": [
       "<Figure size 1000x600 with 1 Axes>"
      ]
     },
     "metadata": {},
     "output_type": "display_data"
    }
   ],
   "source": [
    "plt.figure(figsize = (10,6))\n",
    "\n",
    "color = ['#e9f7fa', '#e6f0f2','#c2dadc', '#afced6','#7facbb', '#578ba1', '#376b86', '#1c4f6b', '#0b3453', '#0b132b']\n",
    "label = [['Aceh', 'Sumatera Utara', 'Sumatera Barat', 'Riau', 'Jambi', 'Sumatera Selatan', 'Bengkulu', 'Lampung', 'Kepulauan Riau', 'Bangka Belitung']]\n",
    "\n",
    "plt.stackplot(tahun, aceh, sumut, sumbar, riau, jambi, sumsel, bengkulu, lampung, kepri, babel, colors = color, zorder = 3, labels = ['Aceh', 'Sumatera Utara', 'Sumatera Barat', 'Riau', 'Jambi', 'Sumatera Selatan', 'Bengkulu', 'Lampung', 'Kepulauan Riau', 'Bangka Belitung'])\n",
    "\n",
    "plt.title('Job Salary in Sumatra, Indonesia\\n(1998 - 2022)', fontproperties = font1)\n",
    "plt.xlabel('Year', fontproperties = font2)\n",
    "plt.ylabel('Salary\\n(million rupiah)', fontproperties = font2)\n",
    "\n",
    "\n",
    "plt.legend(loc = 'upper left', prop = font5)\n",
    "plt.xticks(np.arange(1998, 2024, 2), fontproperties = font3)\n",
    "plt.yticks(fontproperties = font3)\n",
    "\n",
    "plt.grid(zorder = 0, axis = 'y', linestyle = 'dashed')\n",
    "\n",
    "plt.show()"
   ]
  },
  {
   "cell_type": "code",
   "execution_count": null,
   "id": "f55b5df4",
   "metadata": {},
   "outputs": [],
   "source": []
  }
 ],
 "metadata": {
  "kernelspec": {
   "display_name": "Python 3 (ipykernel)",
   "language": "python",
   "name": "python3"
  },
  "language_info": {
   "codemirror_mode": {
    "name": "ipython",
    "version": 3
   },
   "file_extension": ".py",
   "mimetype": "text/x-python",
   "name": "python",
   "nbconvert_exporter": "python",
   "pygments_lexer": "ipython3",
   "version": "3.10.8"
  }
 },
 "nbformat": 4,
 "nbformat_minor": 5
}
